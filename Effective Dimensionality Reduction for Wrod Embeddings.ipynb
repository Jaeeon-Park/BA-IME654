{
 "cells": [
  {
   "cell_type": "markdown",
   "metadata": {},
   "source": [
    "## Author: Vikas Raunak, Vivek Gupta, Florian Metze"
   ]
  },
  {
   "cell_type": "code",
   "execution_count": 1,
   "metadata": {},
   "outputs": [],
   "source": [
    "import sys\n",
    "import os\n",
    "\n",
    "from operator import itemgetter\n",
    "from collections import Counter\n",
    "\n",
    "import numpy as np\n",
    "import math\n",
    "import matplotlib.pyplot as plt\n",
    "\n",
    "from sklearn.decomposition import PCA"
   ]
  },
  {
   "cell_type": "code",
   "execution_count": 2,
   "metadata": {},
   "outputs": [
    {
     "data": {
      "text/plain": [
       "'\\nfile = \\'glove.6B.300d.txt\\'\\n\\nglove = {}\\nwith open(file, \\'r\\', encoding=\\'UTF8\\') as f:\\n    print(\"Loading Glove vectors.\")\\n    for line in f:\\n        values = line.split()\\n        word = values[0]\\n        vector = np.asarray(values[1:], \\'float32\\')\\n        glove[word] = vector\\n    print(\\'Done.\\')\\n            \\nwords = list(glove.keys())\\nvectors = np.asarray([glove[word] for word in words])\\n'"
      ]
     },
     "execution_count": 2,
     "metadata": {},
     "output_type": "execute_result"
    }
   ],
   "source": [
    "\"\"\"\n",
    "file = 'glove.6B.300d.txt'\n",
    "\n",
    "glove = {}\n",
    "with open(file, 'r', encoding='UTF8') as f:\n",
    "    print(\"Loading Glove vectors.\")\n",
    "    for line in f:\n",
    "        values = line.split()\n",
    "        word = values[0]\n",
    "        vector = np.asarray(values[1:], 'float32')\n",
    "        glove[word] = vector\n",
    "    print('Done.')\n",
    "            \n",
    "words = list(glove.keys())\n",
    "vectors = np.asarray([glove[word] for word in words])\n",
    "\"\"\""
   ]
  },
  {
   "cell_type": "markdown",
   "metadata": {},
   "source": [
    "**BASELINE FUNCTIONS**"
   ]
  },
  {
   "cell_type": "code",
   "execution_count": 3,
   "metadata": {},
   "outputs": [],
   "source": [
    "def PPA(X, D, n):\n",
    "    # Subtract Mean Embedding\n",
    "    X = np.array(X-np.mean(X)) \n",
    "    \n",
    "    # Compute PCA Components\n",
    "    pca = PCA(n_components=D)\n",
    "    transformed_X = pca.fit_transform(X)\n",
    "    \n",
    "    # Remove Top-D Components\n",
    "    remove_dominance_X = []    \n",
    "    for i, v in enumerate(X):\n",
    "        for u in pca.components_[0:n]:\n",
    "            v = v - np.dot(u.T, v) * u\n",
    "        remove_dominance_X.append(v)\n",
    "        \n",
    "    return np.asarray(remove_dominance_X)"
   ]
  },
  {
   "cell_type": "code",
   "execution_count": 8,
   "metadata": {},
   "outputs": [],
   "source": [
    "def base_pca(file, N): # X is a word vector, N is a dimension want to reduction\n",
    "    glove = {}\n",
    "    with open(file, 'r', encoding='UTF8') as f:\n",
    "        print(\"Loading Glove vectors.\")\n",
    "        for line in f:\n",
    "            values = line.split()\n",
    "            word = values[0]\n",
    "            vector = np.asarray(values[1:], 'float32')\n",
    "            glove[word] = vector\n",
    "        print('Done.')\n",
    "            \n",
    "    words = list(glove.keys())\n",
    "    vectors = np.asarray([glove[word] for word in words])\n",
    "    \n",
    "    for dim in N:\n",
    "        p_emb = {}\n",
    "        emb_file = open('base_pca_emb_%d.txt' % dim, 'w', encoding='UTF8')\n",
    "\n",
    "        # PCA\n",
    "        X = vectors - np.mean(vectors)\n",
    "        p = PCA(n_components=dim)\n",
    "        reduced_X = p.fit_transform(X)\n",
    "\n",
    "        for i,v in enumerate(words):\n",
    "            p_emb[v] = reduced_X[i]\n",
    "            emb_file.write('%s\\t' % v)\n",
    "            for t in p_emb[v]:\n",
    "                emb_file.write('%f\\t' % t)\n",
    "            emb_file.write('\\n')\n",
    "\n",
    "        return p_emb, p.explained_variance_ratio_\n",
    "\n",
    "def base_ppa_pca(file, N, D, n):\n",
    "    # Load pre-trained glove 300d file\n",
    "    glove = {}\n",
    "    with open(file, 'r', encoding='UTF8') as f:\n",
    "        print(\"Loading Glove vectors.\")\n",
    "        for line in f:\n",
    "            values = line.split()\n",
    "            word = values[0]\n",
    "            vector = np.asarray(values[1:], 'float32')\n",
    "            glove[word] = vector\n",
    "        print('Done.')\n",
    "    \n",
    "    # Change into words list and word vectors\n",
    "    words = list(glove.keys())\n",
    "    vectors = np.asarray([glove[word] for word in words])\n",
    "    \n",
    "    for dim in N:\n",
    "        # Empty Dict and text file\n",
    "        p_emb = {}\n",
    "        emb_file = open('base_ppa_pca_emb_%d.txt' % dim, 'w', encoding='UTF8')\n",
    "\n",
    "        # PPA\n",
    "        new_X = PPA(vectors, D, n)\n",
    "        new_X = new_X - np.mean(new_X)\n",
    "\n",
    "        # PCA\n",
    "        p = PCA(n_components=dim)\n",
    "        reduced_X = p.fit_transform(new_X)\n",
    "\n",
    "        # Make Dictioary and text file\n",
    "        for i,v in enumerate(words):\n",
    "            p_emb[v] = reduced_X[i]\n",
    "            emb_file.write('%s\\t' % v)\n",
    "            for t in p_emb[v]:\n",
    "                emb_file.write('%f\\t' % t)\n",
    "            emb_file.write('\\n')\n",
    "\n",
    "        return p_emb, p.explained_variance_ratio_\n",
    "\n",
    "def base_pca_ppa(file, N, n):\n",
    "    glove = {}\n",
    "    with open(file, 'r', encoding='UTF8') as f:\n",
    "        print(\"Loading Glove vectors.\")\n",
    "        for line in f:\n",
    "            values = line.split()\n",
    "            word = values[0]\n",
    "            vector = np.asarray(values[1:], 'float32')\n",
    "            glove[word] = vector\n",
    "        print('Done.')\n",
    "            \n",
    "    words = list(glove.keys())\n",
    "    vectors = np.asarray([glove[word] for word in words])\n",
    "    \n",
    "    for dim in N:\n",
    "        p_emb = {}\n",
    "        emb_file = open('base_pca_ppa_emb_%d.txt' % dim, 'w', encoding='UTF8')\n",
    "\n",
    "        # PCA\n",
    "        X = vectors - np.mean(vectors)\n",
    "        p = PCA(n_components=dim)\n",
    "        new_X = p.fit_transform(X)\n",
    "\n",
    "        # PPA\n",
    "        reduced_X = new_X - np.mean(new_X)\n",
    "        p = PCA(n_components=dim)\n",
    "        second_reduced_X = p.fit_transform(reduced_X)\n",
    "\n",
    "        final_X = new_X - np.mean(new_X) \n",
    "        for i,v in enumerate(words):\n",
    "            p_emb[v] = final_X[i]\n",
    "            emb_file.write('%s\\t' % v)\n",
    "            for u in p.components_[0:n]:\n",
    "                p_emb[v] = p_emb[v] - np.dot(u.transpose(), p_emb[v]) * u\n",
    "\n",
    "            for t in p_emb[v]:\n",
    "                emb_file.write('%f\\t' % t)\n",
    "\n",
    "            emb_file.write('\\n')\n",
    "\n",
    "        return p_emb, p.explained_variance_ratio_"
   ]
  },
  {
   "cell_type": "code",
   "execution_count": 5,
   "metadata": {},
   "outputs": [],
   "source": [
    "def r_vectors(file):\n",
    "    vecs = {}\n",
    "    \n",
    "    file = open(file, 'r', encoding='UTF8')        \n",
    "    for _, line in enumerate(file):\n",
    "        line = line.strip().lower()\n",
    "        word = line.split()[0]\n",
    "        v = line.split()[1:]\n",
    "        vecs[word] = np.zeros(len(line.split())-1, dtype=float)\n",
    "        for i, val in enumerate(v):\n",
    "            vecs[word][i] = val\n",
    "        vecs[word] /= math.sqrt((vecs[word]**2).sum() + 1e-6)\n",
    "        \n",
    "    return vecs"
   ]
  },
  {
   "cell_type": "code",
   "execution_count": 6,
   "metadata": {},
   "outputs": [],
   "source": [
    "def cosine_sim(vec1, vec2):\n",
    "    vec1 += 1e-6 * np.ones(len(vec1))\n",
    "    vec2 += 1e-6 * np.ones(len(vec2))\n",
    "    return vec1.dot(vec2) / np.linalg.norm(vec1)*np.linalg.norm(vec2)\n",
    "\n",
    "def ranking_wvecs(dictionary):\n",
    "    rank = {}\n",
    "    list = [(k, v) for (k, v) in sorted(dictionary.items(), key=itemgetter(1), reverse=True)]\n",
    "    \n",
    "    for i, (k1, v1) in enumerate(list):\n",
    "        same = []\n",
    "        for j, (k2, v2) in enumerate(list):\n",
    "            if v1 == v2:\n",
    "                same.append(j+1)\n",
    "        if len(same) == 1:\n",
    "            rank[k1] = i+1\n",
    "        else:\n",
    "            rank[k1] = 1.0 * np.sum(same) / len(same)\n",
    "    \n",
    "    return rank\n",
    "\n",
    "def rho_spearmans(dict1, dict2):\n",
    "    assert len(dict1) == len(dict2)\n",
    "    \n",
    "    if len(dict1) == 0 or len(dict2) == 0: \n",
    "        return 0\n",
    "    \n",
    "    dict1_avg = 1.0 * np.sum([val for val in dict1.values()]) / len(dict1)\n",
    "    dict2_avg = 1.0 * np.sum([val for val in dict2.values()]) / len(dict2)\n",
    "    num, x, y = (0, 0, 0)\n",
    "    \n",
    "    for k in dict1.keys():\n",
    "        x_i = dict1[k]\n",
    "        y_i = dict2[k]\n",
    "        num += (x_i - dict1_avg)*(y_i - dict2_avg)\n",
    "        x += (x_i - dict1_avg) ** 2\n",
    "        y += (y_i - dict2_avg) ** 2\n",
    "        \n",
    "    return (num / math.sqrt(x*y)) * 100 "
   ]
  },
  {
   "cell_type": "code",
   "execution_count": 7,
   "metadata": {},
   "outputs": [],
   "source": [
    "def Algo_N(file, N, D, n):\n",
    "    embeddings = {}\n",
    "    with open(file, 'r', encoding='UTF8') as f:\n",
    "        print(\"Loading word vectors.\")\n",
    "        for line in f:\n",
    "            values = line.split()\n",
    "            word = values[0]\n",
    "            vector = np.asarray(values[1:], 'float32')\n",
    "            embeddings[word] = vector\n",
    "        print('Done.')\n",
    "            \n",
    "    words = list(embeddings.keys())\n",
    "    vectors = np.asarray([embeddings[word] for word in words])\n",
    "    \n",
    "    for dim in N:\n",
    "        p_emb = {}\n",
    "        emb_file = open('algo_%d_%s.txt' %(dim, file), 'w', encoding='UTF8')\n",
    "\n",
    "        # PPA\n",
    "        X = PPA(vectors, D, n)\n",
    "\n",
    "        # PCA\n",
    "        X = X - np.mean(X)    \n",
    "        p = PCA(n_components=dim)\n",
    "        new_X = p.fit_transform(X)\n",
    "\n",
    "        # PPA\n",
    "        final_X = new_X - np.mean(new_X)\n",
    "        p = PCA(n_components=dim)\n",
    "        reduced_X = p.fit_transform(final_X)\n",
    "\n",
    "        print(\"Make Algo_%d text file\" % dim)\n",
    "        for i,v in enumerate(words):\n",
    "            p_emb[v] = final_X[i]\n",
    "            emb_file.write('%s\\t' % v)\n",
    "            for u in p.components_[0:n]:\n",
    "                p_emb[v] = p_emb[v] - np.dot(u.transpose(), p_emb[v]) * u\n",
    "\n",
    "            for t in p_emb[v]:\n",
    "                emb_file.write('%f\\t' % t)\n",
    "\n",
    "            emb_file.write('\\n')\n",
    "        print(\"Done.\")"
   ]
  },
  {
   "cell_type": "markdown",
   "metadata": {},
   "source": [
    "## Section 2 Proposed Algorithm\n",
    "\n",
    "### 2.1 Post-Processing Algorithm\n",
    "\n",
    "**Original Glove-300D**\n",
    "* 300D $\\rightarrow$ PCA-20D\n",
    "\n",
    "**After Post-Processing**\n",
    "* 300D $\\rightarrow$ PPA(D=7)-300D $\\rightarrow$ PCA-20D"
   ]
  },
  {
   "cell_type": "code",
   "execution_count": 8,
   "metadata": {},
   "outputs": [],
   "source": [
    "# file = 'glove.6B.300d.txt'\n",
    "# pca_origin, var1 = base_pca(file, [20])\n",
    "# ppa_pca, var2 = base_ppa_pca(file, [20], 300, 7)"
   ]
  },
  {
   "cell_type": "code",
   "execution_count": 9,
   "metadata": {},
   "outputs": [
    {
     "data": {
      "image/png": "[encoded data removed]",
      "text/plain": [
       "<Figure size 432x288 with 1 Axes>"
      ]
     },
     "metadata": {
      "needs_background": "light"
     },
     "output_type": "display_data"
    }
   ],
   "source": [
    "plt.plot(var1, marker='o', c='r',\n",
    "         linestyle='--', markersize=3, linewidth=0.8, label='Original Glove-300D')\n",
    "plt.plot(var2, marker='x', c='b', \n",
    "         markersize=3,linewidth=0.8, label='After Post-Processing')\n",
    "plt.title(\"FIGURE 1(a)\")\n",
    "plt.xlabel('PRINCIPAL_COMPONENTS')\n",
    "plt.ylabel('VARIANCE_EXPLAINED')\n",
    "plt.xticks(np.arange(len(var1)), np.arange(1, len(var1)+1))\n",
    "plt.legend()\n",
    "plt.show()"
   ]
  },
  {
   "cell_type": "markdown",
   "metadata": {},
   "source": [
    "### 2.2 Proposed Algorithm\n",
    "\n",
    "**Post-Processing + PCA-150D**\n",
    "* 300D $\\rightarrow$ PPA(D=7)-300D $\\rightarrow$ PCA-150D\n",
    "\n",
    "**After Further Post-Processing**\n",
    "* 300D $\\rightarrow$ PPA(D=7)-300D $\\rightarrow$ PCA-150D $\\rightarrow$ PPA(D=7)-150D"
   ]
  },
  {
   "cell_type": "code",
   "execution_count": 9,
   "metadata": {},
   "outputs": [],
   "source": [
    "def Dim_Reduct_Algo(X, N, D, n, further_processing=False):    \n",
    "    # Apply Algorithm 1 (PPA)\n",
    "    X = PPA(X, D, n)\n",
    "    \n",
    "    # Transform X using PCA\n",
    "    pca = PCA(n_components=N)\n",
    "    new_X = X - np.mean(X)\n",
    "    ppa_pca_X = pca.fit_transform(new_X)\n",
    "    \n",
    "    # Apply Algorithm 1 (PPA)\n",
    "    if further_processing == True:\n",
    "        D = len(pca.components_)\n",
    "        ppa_pca_ppa_X = PPA(ppa_pca_X, D, n)\n",
    "        return ppa_pca_ppa_X\n",
    "    \n",
    "    return ppa_pca_X"
   ]
  },
  {
   "cell_type": "code",
   "execution_count": 11,
   "metadata": {},
   "outputs": [],
   "source": [
    "X = np.array([glove[word] for word in words])\n",
    "\n",
    "pp_p150d = Dim_Reduct_Algo(X, 150, 300, 7)\n",
    "pp_p150d_pp = Dim_Reduct_Algo(X, 150, 300, 7, further_processing=True)"
   ]
  },
  {
   "cell_type": "code",
   "execution_count": 12,
   "metadata": {},
   "outputs": [],
   "source": [
    "pca_1 = PCA(n_components=20)\n",
    "pca_2 = PCA(n_components=20)\n",
    "\n",
    "pp_p150d_p20d = pca_1.fit_transform(pp_p150d)\n",
    "pp_p150d_pp_p20d = pca_2.fit_transform(pp_p150d_pp)"
   ]
  },
  {
   "cell_type": "code",
   "execution_count": 13,
   "metadata": {},
   "outputs": [
    {
     "data": {
      "image/png": "[encoded data removed]",
      "text/plain": [
       "<Figure size 432x288 with 1 Axes>"
      ]
     },
     "metadata": {
      "needs_background": "light"
     },
     "output_type": "display_data"
    }
   ],
   "source": [
    "plt.plot(pca_1.explained_variance_ratio_, marker='o', c='r', linestyle='--', markersize=3, linewidth=0.8)\n",
    "plt.plot(pca_2.explained_variance_ratio_, marker='x', c='b', markersize=3,linewidth=0.8)\n",
    "plt.title(\"FIGURE 1(b)\")\n",
    "plt.xlabel('PRINCIPAL_COMPONENTS')\n",
    "plt.ylabel('VARIANCE_EXPLAINED')\n",
    "plt.xticks(np.arange(len(pca_1.explained_variance_ratio_)), np.arange(1, len(pca_1.explained_variance_ratio_)+1))\n",
    "plt.show()"
   ]
  },
  {
   "cell_type": "markdown",
   "metadata": {},
   "source": [
    "## Section 3 Experimental Results\n",
    "\n",
    "### 3.1 Word Simililarity Benchmarks\n",
    "\n",
    "**Models**:\n",
    "For experiments, use pre-trained Glove embeddings of dimensions 300, 200, and 100, trained on Wikipedia 2014 and Gigaword 5 corpus(*Pennington et al, 2014*) and fastText embeddings of 300 dimensions trained on Wikipedia using the Ski-Gram model described in (*Bojanowski et al ,2017*).\n",
    "\n",
    "**Dataset**:\n",
    "The dataset (*Faruqui and Dyer, 2014*) have word pairs(WP) that have been assigned similarity rating by humans. \n",
    "\n",
    "To evaluate the performance of our algorithm(PPA+PCA+PPA), compare it against different schemes of combining the post-processing algorithm with PCA as following baselines:\n",
    "* PCA: Transform word vectors using PCA\n",
    "* P+PCA: Apply PPA(Algorithm 1) and then transform word vectors using PCA.\n",
    "* PCA+P: Transform word vectors using PCA and then apply PPA."
   ]
  },
  {
   "cell_type": "markdown",
   "metadata": {},
   "source": [
    "#### Glove-300D, PCA-150D, P+PCA-150D, PCA-150D+P, Algo-150D"
   ]
  },
  {
   "cell_type": "code",
   "execution_count": 15,
   "metadata": {},
   "outputs": [
    {
     "name": "stdout",
     "output_type": "stream",
     "text": [
      "Loading Glove vectors.\n",
      "Done.\n",
      "Loading Glove vectors.\n",
      "Done.\n"
     ]
    }
   ],
   "source": [
    "# Make each text files\n",
    "\"\"\"\n",
    "# PCA-150D\n",
    "_,_ = base_pca(file, [150])\n",
    "\n",
    "# P+PCA-150D\n",
    "_,_ = base_ppa_pca(file, [150], 300, 7)\n",
    "\n",
    "# PCA-150D+P\n",
    "_,_ = base_pca_ppa(file, [150], 7)\n",
    "\"\"\""
   ]
  },
  {
   "cell_type": "code",
   "execution_count": 10,
   "metadata": {},
   "outputs": [
    {
     "name": "stdout",
     "output_type": "stream",
     "text": [
      "=================================================================================\n",
      "Glove-300D compare with      Word Pairs       Not exist             Rho\n",
      "=================================================================================\n",
      "        EN-MC-30.txt              30               0           70.26\n",
      "    EN-MEN-TR-3k.txt            3000               0           73.75\n",
      "    EN-MTurk-287.txt             287               0           63.32\n",
      "    EN-MTurk-771.txt             771               0           65.01\n",
      "        EN-RG-65.txt              65               0           76.62\n",
      "  EN-RW-STANFORD.txt            2034             252           41.18\n",
      "   EN-SIMLEX-999.txt             999               0           37.05\n",
      "     EN-VERB-143.txt             144               0           30.51\n",
      "   EN-WS-353-ALL.txt             353               0           60.54\n",
      "   EN-WS-353-REL.txt             252               0           57.25\n",
      "   EN-WS-353-SIM.txt             203               0           66.38\n",
      "       EN-YP-130.txt             130               0           56.13\n"
     ]
    }
   ],
   "source": [
    "txt_file = 'glove.6B.300d.txt'\n",
    "eval_dir = 'data/word-sim/'\n",
    "\n",
    "w_vecs = r_vectors(txt_file)\n",
    "print('=================================================================================')\n",
    "print(\"%20s\" % \"Glove-300D compare with\", \"%15s\" % \"Word Pairs\", \"%15s\" % \"Not exist\", \"%15s\" % \"Rho\")\n",
    "print('=================================================================================')\n",
    "    \n",
    "for i, file in enumerate(os.listdir(eval_dir)):\n",
    "    dict1, dict2 = ({}, {})\n",
    "    no_exist, size = (0,0)\n",
    "    \n",
    "    for line in open(os.path.join(eval_dir, file), 'r', encoding='UTF8'):\n",
    "        line = line.strip().lower()\n",
    "        w1, w2, val = line.split()\n",
    "        if w1 in w_vecs and w2 in w_vecs:\n",
    "            dict1[(w1, w2)] = float(val)\n",
    "            dict2[(w1,w2)] = cosine_sim(w_vecs[w1], w_vecs[w2])\n",
    "        else:\n",
    "            no_exist += 1\n",
    "        size += 1\n",
    "            \n",
    "    print(\"%20s\" % file, \"%15s\" % str(size), \"%15s\" % str(no_exist),\n",
    "          \"%15.2f\" % rho_spearmans(ranking_wvecs(dict1), ranking_wvecs(dict2)))"
   ]
  },
  {
   "cell_type": "code",
   "execution_count": 11,
   "metadata": {},
   "outputs": [
    {
     "name": "stdout",
     "output_type": "stream",
     "text": [
      "=================================================================================\n",
      "PCA-150D compare with      Word Pairs       Not exist             Rho\n",
      "=================================================================================\n",
      "        EN-MC-30.txt              30               0           66.81\n",
      "    EN-MEN-TR-3k.txt            3000               0           62.66\n",
      "    EN-MTurk-287.txt             287               0           55.70\n",
      "    EN-MTurk-771.txt             771               0           52.59\n",
      "        EN-RG-65.txt              65               0           70.26\n",
      "  EN-RW-STANFORD.txt            2034             252           28.13\n",
      "   EN-SIMLEX-999.txt             999               0           27.77\n",
      "     EN-VERB-143.txt             144               0           29.39\n",
      "   EN-WS-353-ALL.txt             353               0           46.81\n",
      "   EN-WS-353-REL.txt             252               0           41.27\n",
      "   EN-WS-353-SIM.txt             203               0           54.31\n",
      "       EN-YP-130.txt             130               0           39.62\n"
     ]
    }
   ],
   "source": [
    "txt_file = 'base_pca_emb.txt'\n",
    "eval_dir = 'data/word-sim/'\n",
    "\n",
    "w_vecs = r_vectors(txt_file)\n",
    "print('=================================================================================')\n",
    "print(\"%20s\" % \"PCA-150D compare with\", \"%15s\" % \"Word Pairs\", \"%15s\" % \"Not exist\", \"%15s\" % \"Rho\")\n",
    "print('=================================================================================')\n",
    "    \n",
    "for i, file in enumerate(os.listdir(eval_dir)):\n",
    "    dict1, dict2 = ({}, {})\n",
    "    no_exist, size = (0,0)\n",
    "    \n",
    "    for line in open(os.path.join(eval_dir, file), 'r', encoding='UTF8'):\n",
    "        line = line.strip().lower()\n",
    "        w1, w2, val = line.split()\n",
    "        if w1 in w_vecs and w2 in w_vecs:\n",
    "            dict1[(w1, w2)] = float(val)\n",
    "            dict2[(w1,w2)] = cosine_sim(w_vecs[w1], w_vecs[w2])\n",
    "        else:\n",
    "            no_exist += 1\n",
    "        size += 1\n",
    "            \n",
    "    print(\"%20s\" % file, \"%15s\" % str(size), \"%15s\" % str(no_exist),\n",
    "          \"%15.2f\" % rho_spearmans(ranking_wvecs(dict1), ranking_wvecs(dict2)))"
   ]
  },
  {
   "cell_type": "code",
   "execution_count": 12,
   "metadata": {},
   "outputs": [
    {
     "name": "stdout",
     "output_type": "stream",
     "text": [
      "=================================================================================\n",
      "P+PCA-150D compare with      Word Pairs       Not exist             Rho\n",
      "=================================================================================\n",
      "        EN-MC-30.txt              30               0           72.97\n",
      "    EN-MEN-TR-3k.txt            3000               0           75.10\n",
      "    EN-MTurk-287.txt             287               0           64.38\n",
      "    EN-MTurk-771.txt             771               0           64.67\n",
      "        EN-RG-65.txt              65               0           76.51\n",
      "  EN-RW-STANFORD.txt            2034             252           43.26\n",
      "   EN-SIMLEX-999.txt             999               0           37.62\n",
      "     EN-VERB-143.txt             144               0           34.87\n",
      "   EN-WS-353-ALL.txt             353               0           67.02\n",
      "   EN-WS-353-REL.txt             252               0           62.19\n",
      "   EN-WS-353-SIM.txt             203               0           72.95\n",
      "       EN-YP-130.txt             130               0           56.68\n"
     ]
    }
   ],
   "source": [
    "txt_file = 'base_ppa_pca_emb.txt'\n",
    "eval_dir = 'data/word-sim/'\n",
    "\n",
    "w_vecs = r_vectors(txt_file)\n",
    "print('=================================================================================')\n",
    "print(\"%20s\" % \"P+PCA-150D compare with\", \"%15s\" % \"Word Pairs\", \"%15s\" % \"Not exist\", \"%15s\" % \"Rho\")\n",
    "print('=================================================================================')\n",
    "    \n",
    "for i, file in enumerate(os.listdir(eval_dir)):\n",
    "    dict1, dict2 = ({}, {})\n",
    "    no_exist, size = (0,0)\n",
    "    \n",
    "    for line in open(os.path.join(eval_dir, file), 'r', encoding='UTF8'):\n",
    "        line = line.strip().lower()\n",
    "        w1, w2, val = line.split()\n",
    "        if w1 in w_vecs and w2 in w_vecs:\n",
    "            dict1[(w1, w2)] = float(val)\n",
    "            dict2[(w1,w2)] = cosine_sim(w_vecs[w1], w_vecs[w2])\n",
    "        else:\n",
    "            no_exist += 1\n",
    "        size += 1\n",
    "            \n",
    "    print(\"%20s\" % file, \"%15s\" % str(size), \"%15s\" % str(no_exist),\n",
    "          \"%15.2f\" % rho_spearmans(ranking_wvecs(dict1), ranking_wvecs(dict2)))"
   ]
  },
  {
   "cell_type": "code",
   "execution_count": 13,
   "metadata": {
    "scrolled": true
   },
   "outputs": [
    {
     "name": "stdout",
     "output_type": "stream",
     "text": [
      "=================================================================================\n",
      "PCA-150D+P compare with      Word Pairs       Not exist             Rho\n",
      "=================================================================================\n",
      "        EN-MC-30.txt              30               0           71.35\n",
      "    EN-MEN-TR-3k.txt            3000               0           75.00\n",
      "    EN-MTurk-287.txt             287               0           63.52\n",
      "    EN-MTurk-771.txt             771               0           63.71\n",
      "        EN-RG-65.txt              65               0           75.72\n",
      "  EN-RW-STANFORD.txt            2034             252           42.93\n",
      "   EN-SIMLEX-999.txt             999               0           36.39\n",
      "     EN-VERB-143.txt             144               0           39.34\n",
      "   EN-WS-353-ALL.txt             353               0           68.37\n",
      "   EN-WS-353-REL.txt             252               0           63.98\n",
      "   EN-WS-353-SIM.txt             203               0           73.58\n",
      "       EN-YP-130.txt             130               0           56.19\n"
     ]
    }
   ],
   "source": [
    "txt_file = 'base_pca_ppa_emb.txt'\n",
    "eval_dir = 'data/word-sim/'\n",
    "\n",
    "w_vecs = r_vectors(txt_file)\n",
    "print('=================================================================================')\n",
    "print(\"%20s\" % \"PCA-150D+P compare with\", \"%15s\" % \"Word Pairs\", \"%15s\" % \"Not exist\", \"%15s\" % \"Rho\")\n",
    "print('=================================================================================')\n",
    "    \n",
    "for i, file in enumerate(os.listdir(eval_dir)):\n",
    "    dict1, dict2 = ({}, {})\n",
    "    no_exist, size = (0,0)\n",
    "    \n",
    "    for line in open(os.path.join(eval_dir, file), 'r', encoding='UTF8'):\n",
    "        line = line.strip().lower()\n",
    "        w1, w2, val = line.split()\n",
    "        if w1 in w_vecs and w2 in w_vecs:\n",
    "            dict1[(w1, w2)] = float(val)\n",
    "            dict2[(w1,w2)] = cosine_sim(w_vecs[w1], w_vecs[w2])\n",
    "        else:\n",
    "            no_exist += 1\n",
    "        size += 1\n",
    "            \n",
    "    print(\"%20s\" % file, \"%15s\" % str(size), \"%15s\" % str(no_exist),\n",
    "          \"%15.2f\" % rho_spearmans(ranking_wvecs(dict1), ranking_wvecs(dict2)))"
   ]
  },
  {
   "cell_type": "code",
   "execution_count": null,
   "metadata": {},
   "outputs": [],
   "source": [
    "# Glove + Algo_150D\n",
    "# file = 'glove.6B.300d.txt'\n",
    "# Algo_N(file, 150, 300, 7)"
   ]
  },
  {
   "cell_type": "code",
   "execution_count": 14,
   "metadata": {},
   "outputs": [
    {
     "name": "stdout",
     "output_type": "stream",
     "text": [
      "=================================================================================\n",
      "Algo-150D compare with      Word Pairs       Not exist             Rho\n",
      "=================================================================================\n",
      "        EN-MC-30.txt              30               0           74.89\n",
      "    EN-MEN-TR-3k.txt            3000               0           75.18\n",
      "    EN-MTurk-287.txt             287               0           64.70\n",
      "    EN-MTurk-771.txt             771               0           64.95\n",
      "        EN-RG-65.txt              65               0           76.27\n",
      "  EN-RW-STANFORD.txt            2034             252           43.97\n",
      "   EN-SIMLEX-999.txt             999               0           38.03\n",
      "     EN-VERB-143.txt             144               0           43.74\n",
      "   EN-WS-353-ALL.txt             353               0           67.19\n",
      "   EN-WS-353-REL.txt             252               0           61.59\n",
      "   EN-WS-353-SIM.txt             203               0           72.43\n",
      "       EN-YP-130.txt             130               0           58.42\n"
     ]
    }
   ],
   "source": [
    "txt_file = 'algo_150_Glove.txt'\n",
    "eval_dir = 'data/word-sim/'\n",
    "\n",
    "w_vecs = r_vectors(txt_file)\n",
    "print('=================================================================================')\n",
    "print(\"%20s\" % \"Algo-150D compare with\", \"%15s\" % \"Word Pairs\", \"%15s\" % \"Not exist\", \"%15s\" % \"Rho\")\n",
    "print('=================================================================================')\n",
    "    \n",
    "for i, file in enumerate(os.listdir(eval_dir)):\n",
    "    dict1, dict2 = ({}, {})\n",
    "    no_exist, size = (0,0)\n",
    "    \n",
    "    for line in open(os.path.join(eval_dir, file), 'r', encoding='UTF8'):\n",
    "        line = line.strip().lower()\n",
    "        w1, w2, val = line.split()\n",
    "        if w1 in w_vecs and w2 in w_vecs:\n",
    "            dict1[(w1, w2)] = float(val)\n",
    "            dict2[(w1,w2)] = cosine_sim(w_vecs[w1], w_vecs[w2])\n",
    "        else:\n",
    "            no_exist += 1\n",
    "        size += 1\n",
    "            \n",
    "    print(\"%20s\" % file, \"%15s\" % str(size), \"%15s\" % str(no_exist),\n",
    "          \"%15.2f\" % rho_spearmans(ranking_wvecs(dict1), ranking_wvecs(dict2)))"
   ]
  },
  {
   "cell_type": "markdown",
   "metadata": {},
   "source": [
    "#### FastText-300D, Algo-150D"
   ]
  },
  {
   "cell_type": "code",
   "execution_count": 21,
   "metadata": {
    "scrolled": true
   },
   "outputs": [
    {
     "name": "stderr",
     "output_type": "stream",
     "text": [
      "Warning : `load_model` does not return WordVectorModel or SupervisedModel any more, but a `FastText` object which is very similar.\n"
     ]
    },
    {
     "name": "stdout",
     "output_type": "stream",
     "text": [
      "300\n"
     ]
    }
   ],
   "source": [
    "# Make Fasttext-300D text file\n",
    "\"\"\"\n",
    "import fasttext\n",
    "ft = fasttext.load_model('wiki.en.bin')\n",
    "print(ft.get_dimension())\n",
    "\n",
    "words_ft = ft.get_words()\n",
    "vectors_ft = np.asarray([ft.get_word_vector(word) for word in words_ft])\n",
    "\n",
    "p_emb = {}\n",
    "emb_file = open('fasttext_300d.txt', 'w', encoding='UTF8')\n",
    "    \n",
    "for i,v in enumerate(words_ft):\n",
    "    if v.isalpha() == True:\n",
    "        p_emb[v] = vectors_ft[i]\n",
    "        emb_file.write('%s\\t' % v)\n",
    "        for j in p_emb[v]:\n",
    "            emb_file.write('%f\\t' % j)\n",
    "            \n",
    "        emb_file.write('\\n')\n",
    "    else:\n",
    "        continue\n",
    "\"\"\""
   ]
  },
  {
   "cell_type": "code",
   "execution_count": 15,
   "metadata": {},
   "outputs": [
    {
     "name": "stdout",
     "output_type": "stream",
     "text": [
      "=================================================================================\n",
      "FastText-300D compare with # of Word Pairs       Not exist             Rho\n",
      "=================================================================================\n",
      "        EN-MC-30.txt              30               0           81.23\n",
      "    EN-MEN-TR-3k.txt            3000               0           76.37\n",
      "    EN-MTurk-287.txt             287               0           67.93\n",
      "    EN-MTurk-771.txt             771               0           66.89\n",
      "        EN-RG-65.txt              65               0           79.74\n",
      "  EN-RW-STANFORD.txt            2034              44           48.66\n",
      "   EN-SIMLEX-999.txt             999               0           38.04\n",
      "     EN-VERB-143.txt             144               0           39.73\n",
      "   EN-WS-353-ALL.txt             353               0           73.69\n",
      "   EN-WS-353-REL.txt             252               0           68.22\n",
      "   EN-WS-353-SIM.txt             203               0           78.13\n",
      "       EN-YP-130.txt             130               0           53.33\n"
     ]
    }
   ],
   "source": [
    "txt_file = 'fasttext_300d.txt'\n",
    "eval_dir = 'data/word-sim/'\n",
    "\n",
    "w_vecs = r_vectors(txt_file)\n",
    "print('=================================================================================')\n",
    "print(\"%20s\" % \"FastText-300D compare with\", \"%15s\" % \"# of Word Pairs\", \"%15s\" % \"Not exist\", \"%15s\" % \"Rho\")\n",
    "print('=================================================================================')\n",
    "    \n",
    "for i, file in enumerate(os.listdir(eval_dir)):\n",
    "    dict1, dict2 = ({}, {})\n",
    "    no_exist, size = (0,0)\n",
    "    \n",
    "    for line in open(os.path.join(eval_dir, file), 'r', encoding='UTF8'):\n",
    "        line = line.strip().lower()\n",
    "        w1, w2, val = line.split()\n",
    "        if w1 in w_vecs and w2 in w_vecs:\n",
    "            dict1[(w1, w2)] = float(val)\n",
    "            dict2[(w1,w2)] = cosine_sim(w_vecs[w1], w_vecs[w2])\n",
    "        else:\n",
    "            no_exist += 1\n",
    "        size += 1\n",
    "            \n",
    "    print(\"%20s\" % file, \"%15s\" % str(size), \"%15s\" % str(no_exist),\n",
    "          \"%15.2f\" % rho_spearmans(ranking_wvecs(dict1), ranking_wvecs(dict2)))"
   ]
  },
  {
   "cell_type": "code",
   "execution_count": 16,
   "metadata": {},
   "outputs": [],
   "source": [
    "# FastText + Algo_150D\n",
    "# file = 'fasttext_300d.txt'\n",
    "# Algo_N(file, 150, 300, 7)"
   ]
  },
  {
   "cell_type": "code",
   "execution_count": 17,
   "metadata": {},
   "outputs": [
    {
     "name": "stdout",
     "output_type": "stream",
     "text": [
      "=================================================================================\n",
      "        Compare with      Word Pairs       Not exist             Rho\n",
      "=================================================================================\n",
      "        EN-MC-30.txt              30               0           82.70\n",
      "    EN-MEN-TR-3k.txt            3000               0           76.65\n",
      "    EN-MTurk-287.txt             287               0           67.03\n",
      "    EN-MTurk-771.txt             771               0           67.13\n",
      "        EN-RG-65.txt              65               0           79.12\n",
      "  EN-RW-STANFORD.txt            2034              44           47.38\n",
      "   EN-SIMLEX-999.txt             999               0           35.72\n",
      "     EN-VERB-143.txt             144               0           33.72\n",
      "   EN-WS-353-ALL.txt             353               0           71.98\n",
      "   EN-WS-353-REL.txt             252               0           67.01\n",
      "   EN-WS-353-SIM.txt             203               0           76.76\n",
      "       EN-YP-130.txt             130               0           57.65\n"
     ]
    }
   ],
   "source": [
    "txt_file = 'algo_150_FastText.txt'\n",
    "eval_dir = 'data/word-sim/'\n",
    "\n",
    "w_vecs = r_vectors(txt_file)\n",
    "print('=================================================================================')\n",
    "print(\"%20s\" % \"Compare with\", \"%15s\" % \"Word Pairs\", \"%15s\" % \"Not exist\", \"%15s\" % \"Rho\")\n",
    "print('=================================================================================')\n",
    "    \n",
    "for i, file in enumerate(os.listdir(eval_dir)):\n",
    "    dict1, dict2 = ({}, {})\n",
    "    no_exist, size = (0,0)\n",
    "    \n",
    "    for line in open(os.path.join(eval_dir, file), 'r', encoding='UTF8'):\n",
    "        line = line.strip().lower()\n",
    "        w1, w2, val = line.split()\n",
    "        if w1 in w_vecs and w2 in w_vecs:\n",
    "            dict1[(w1, w2)] = float(val)\n",
    "            dict2[(w1,w2)] = cosine_sim(w_vecs[w1], w_vecs[w2])\n",
    "        else:\n",
    "            no_exist += 1\n",
    "        size += 1\n",
    "            \n",
    "    print(\"%20s\" % file, \"%15s\" % str(size), \"%15s\" % str(no_exist),\n",
    "          \"%15.2f\" % rho_spearmans(ranking_wvecs(dict1), ranking_wvecs(dict2)))"
   ]
  },
  {
   "cell_type": "markdown",
   "metadata": {},
   "source": [
    "#### Glove-200D, Algo-100D"
   ]
  },
  {
   "cell_type": "code",
   "execution_count": 18,
   "metadata": {},
   "outputs": [
    {
     "name": "stdout",
     "output_type": "stream",
     "text": [
      "=================================================================================\n",
      "Glveo-200D compare with      Word Pairs       Not exist             Rho\n",
      "=================================================================================\n",
      "        EN-MC-30.txt              30               0           66.56\n",
      "    EN-MEN-TR-3k.txt            3000               0           71.01\n",
      "    EN-MTurk-287.txt             287               0           61.99\n",
      "    EN-MTurk-771.txt             771               0           62.12\n",
      "        EN-RG-65.txt              65               0           71.26\n",
      "  EN-RW-STANFORD.txt            2034             252           38.95\n",
      "   EN-SIMLEX-999.txt             999               0           34.03\n",
      "     EN-VERB-143.txt             144               0           28.45\n",
      "   EN-WS-353-ALL.txt             353               0           57.42\n",
      "   EN-WS-353-REL.txt             252               0           54.48\n",
      "   EN-WS-353-SIM.txt             203               0           62.91\n",
      "       EN-YP-130.txt             130               0           52.21\n"
     ]
    }
   ],
   "source": [
    "txt_file = 'glove.6B.200d.txt'\n",
    "eval_dir = 'data/word-sim/'\n",
    "\n",
    "w_vecs = r_vectors(txt_file)\n",
    "print('=================================================================================')\n",
    "print(\"%20s\" % \"Glveo-200D compare with\", \"%15s\" % \"Word Pairs\", \"%15s\" % \"Not exist\", \"%15s\" % \"Rho\")\n",
    "print('=================================================================================')\n",
    "    \n",
    "for i, file in enumerate(os.listdir(eval_dir)):\n",
    "    dict1, dict2 = ({}, {})\n",
    "    no_exist, size = (0,0)\n",
    "    \n",
    "    for line in open(os.path.join(eval_dir, file), 'r', encoding='UTF8'):\n",
    "        line = line.strip().lower()\n",
    "        w1, w2, val = line.split()\n",
    "        if w1 in w_vecs and w2 in w_vecs:\n",
    "            dict1[(w1, w2)] = float(val)\n",
    "            dict2[(w1,w2)] = cosine_sim(w_vecs[w1], w_vecs[w2])\n",
    "        else:\n",
    "            no_exist += 1\n",
    "        size += 1\n",
    "            \n",
    "    print(\"%20s\" % file, \"%15s\" % str(size), \"%15s\" % str(no_exist),\n",
    "          \"%15.2f\" % rho_spearmans(ranking_wvecs(dict1), ranking_wvecs(dict2)))"
   ]
  },
  {
   "cell_type": "code",
   "execution_count": 19,
   "metadata": {},
   "outputs": [],
   "source": [
    "# Glove + Algo_100D\n",
    "#file = 'glove.6B.200d.txt'\n",
    "#Algo_N(file, 100, 200, 7)"
   ]
  },
  {
   "cell_type": "code",
   "execution_count": 20,
   "metadata": {},
   "outputs": [
    {
     "name": "stdout",
     "output_type": "stream",
     "text": [
      "=================================================================================\n",
      "Algo-100D compare with      Word Pairs       Not exist             Rho\n",
      "=================================================================================\n",
      "        EN-MC-30.txt              30               0           74.24\n",
      "    EN-MEN-TR-3k.txt            3000               0           74.46\n",
      "    EN-MTurk-287.txt             287               0           61.03\n",
      "    EN-MTurk-771.txt             771               0           62.43\n",
      "        EN-RG-65.txt              65               0           75.79\n",
      "  EN-RW-STANFORD.txt            2034             252           41.65\n",
      "   EN-SIMLEX-999.txt             999               0           35.38\n",
      "     EN-VERB-143.txt             144               0           34.39\n",
      "   EN-WS-353-ALL.txt             353               0           66.09\n",
      "   EN-WS-353-REL.txt             252               0           62.50\n",
      "   EN-WS-353-SIM.txt             203               0           70.84\n",
      "       EN-YP-130.txt             130               0           53.96\n"
     ]
    }
   ],
   "source": [
    "txt_file = 'algo_100_Glove.txt'\n",
    "eval_dir = 'data/word-sim/'\n",
    "\n",
    "w_vecs = r_vectors(txt_file)\n",
    "print('=================================================================================')\n",
    "print(\"%20s\" % \"Algo-100D compare with\", \"%15s\" % \"Word Pairs\", \"%15s\" % \"Not exist\", \"%15s\" % \"Rho\")\n",
    "print('=================================================================================')\n",
    "    \n",
    "for i, file in enumerate(os.listdir(eval_dir)):\n",
    "    dict1, dict2 = ({}, {})\n",
    "    no_exist, size = (0,0)\n",
    "    \n",
    "    for line in open(os.path.join(eval_dir, file), 'r', encoding='UTF8'):\n",
    "        line = line.strip().lower()\n",
    "        w1, w2, val = line.split()\n",
    "        if w1 in w_vecs and w2 in w_vecs:\n",
    "            dict1[(w1, w2)] = float(val)\n",
    "            dict2[(w1,w2)] = cosine_sim(w_vecs[w1], w_vecs[w2])\n",
    "        else:\n",
    "            no_exist += 1\n",
    "        size += 1\n",
    "            \n",
    "    print(\"%20s\" % file, \"%15s\" % str(size), \"%15s\" % str(no_exist),\n",
    "          \"%15.2f\" % rho_spearmans(ranking_wvecs(dict1), ranking_wvecs(dict2)))"
   ]
  },
  {
   "cell_type": "markdown",
   "metadata": {},
   "source": [
    "#### Glove-100D, Algo-50D"
   ]
  },
  {
   "cell_type": "code",
   "execution_count": 21,
   "metadata": {},
   "outputs": [
    {
     "name": "stdout",
     "output_type": "stream",
     "text": [
      "=================================================================================\n",
      "Glove-100D compare with      Word Pairs       Not exist             Rho\n",
      "=================================================================================\n",
      "        EN-MC-30.txt              30               0           62.71\n",
      "    EN-MEN-TR-3k.txt            3000               0           68.09\n",
      "    EN-MTurk-287.txt             287               0           61.94\n",
      "    EN-MTurk-771.txt             771               0           58.05\n",
      "        EN-RG-65.txt              65               0           69.07\n",
      "  EN-RW-STANFORD.txt            2034             252           36.64\n",
      "   EN-SIMLEX-999.txt             999               0           29.75\n",
      "     EN-VERB-143.txt             144               0           30.23\n",
      "   EN-WS-353-ALL.txt             353               0           52.90\n",
      "   EN-WS-353-REL.txt             252               0           49.55\n",
      "   EN-WS-353-SIM.txt             203               0           60.37\n",
      "       EN-YP-130.txt             130               0           45.43\n"
     ]
    }
   ],
   "source": [
    "txt_file = 'glove.6B.100d.txt'\n",
    "eval_dir = 'data/word-sim/'\n",
    "\n",
    "w_vecs = r_vectors(txt_file)\n",
    "print('=================================================================================')\n",
    "print(\"%20s\" % \"Glove-100D compare with\", \"%15s\" % \"Word Pairs\", \"%15s\" % \"Not exist\", \"%15s\" % \"Rho\")\n",
    "print('=================================================================================')\n",
    "    \n",
    "for i, file in enumerate(os.listdir(eval_dir)):\n",
    "    dict1, dict2 = ({}, {})\n",
    "    no_exist, size = (0,0)\n",
    "    \n",
    "    for line in open(os.path.join(eval_dir, file), 'r', encoding='UTF8'):\n",
    "        line = line.strip().lower()\n",
    "        w1, w2, val = line.split()\n",
    "        if w1 in w_vecs and w2 in w_vecs:\n",
    "            dict1[(w1, w2)] = float(val)\n",
    "            dict2[(w1,w2)] = cosine_sim(w_vecs[w1], w_vecs[w2])\n",
    "        else:\n",
    "            no_exist += 1\n",
    "        size += 1\n",
    "            \n",
    "    print(\"%20s\" % file, \"%15s\" % str(size), \"%15s\" % str(no_exist),\n",
    "          \"%15.2f\" % rho_spearmans(ranking_wvecs(dict1), ranking_wvecs(dict2)))"
   ]
  },
  {
   "cell_type": "code",
   "execution_count": 22,
   "metadata": {},
   "outputs": [],
   "source": [
    "# Glove + Algo_100D\n",
    "#file = 'glove.6B.100d.txt'\n",
    "#Algo_N(file, 50, 100, 7)"
   ]
  },
  {
   "cell_type": "code",
   "execution_count": 23,
   "metadata": {},
   "outputs": [
    {
     "name": "stdout",
     "output_type": "stream",
     "text": [
      "=================================================================================\n",
      "Algo-50D compare with      Word Pairs       Not exist             Rho\n",
      "=================================================================================\n",
      "        EN-MC-30.txt              30               0           67.27\n",
      "    EN-MEN-TR-3k.txt            3000               0           70.49\n",
      "    EN-MTurk-287.txt             287               0           62.66\n",
      "    EN-MTurk-771.txt             771               0           58.95\n",
      "        EN-RG-65.txt              65               0           65.97\n",
      "  EN-RW-STANFORD.txt            2034             252           38.36\n",
      "   EN-SIMLEX-999.txt             999               0           28.90\n",
      "     EN-VERB-143.txt             144               0           30.88\n",
      "   EN-WS-353-ALL.txt             353               0           62.16\n",
      "   EN-WS-353-REL.txt             252               0           58.42\n",
      "   EN-WS-353-SIM.txt             203               0           66.33\n",
      "       EN-YP-130.txt             130               0           39.40\n"
     ]
    }
   ],
   "source": [
    "txt_file = 'algo_50_Glove.txt'\n",
    "eval_dir = 'data/word-sim/'\n",
    "\n",
    "w_vecs = r_vectors(txt_file)\n",
    "print('=================================================================================')\n",
    "print(\"%20s\" % \"Algo-50D compare with\", \"%15s\" % \"Word Pairs\", \"%15s\" % \"Not exist\", \"%15s\" % \"Rho\")\n",
    "print('=================================================================================')\n",
    "    \n",
    "for i, file in enumerate(os.listdir(eval_dir)):\n",
    "    dict1, dict2 = ({}, {})\n",
    "    no_exist, size = (0,0)\n",
    "    \n",
    "    for line in open(os.path.join(eval_dir, file), 'r', encoding='UTF8'):\n",
    "        line = line.strip().lower()\n",
    "        w1, w2, val = line.split()\n",
    "        if w1 in w_vecs and w2 in w_vecs:\n",
    "            dict1[(w1, w2)] = float(val)\n",
    "            dict2[(w1,w2)] = cosine_sim(w_vecs[w1], w_vecs[w2])\n",
    "        else:\n",
    "            no_exist += 1\n",
    "        size += 1\n",
    "            \n",
    "    print(\"%20s\" % file, \"%15s\" % str(size), \"%15s\" % str(no_exist),\n",
    "          \"%15.2f\" % rho_spearmans(ranking_wvecs(dict1), ranking_wvecs(dict2)))"
   ]
  },
  {
   "cell_type": "markdown",
   "metadata": {},
   "source": [
    "### Downstream Tasks"
   ]
  },
  {
   "cell_type": "markdown",
   "metadata": {},
   "source": [
    "Embeddings obtained using the proposed dimensionality reduction algorithm can be used as direct features for downstream supervised tasks.\n",
    "\n",
    "|Task|# of Datasets|\n",
    "|:-------:|:---------:|\n",
    "|Textual Classification Task|9|\n",
    "|Sentence Similarity Task|5(27)|\n",
    "\n",
    "**Datasets:** Use the SentEval(*Conneau and Kiela, 2018*) toolkit for all experiments."
   ]
  },
  {
   "cell_type": "code",
   "execution_count": 39,
   "metadata": {},
   "outputs": [
    {
     "name": "stdout",
     "output_type": "stream",
     "text": [
      "Loading word vectors.\n",
      "Done.\n",
      "Make Algo_200 text file\n",
      "Done.\n"
     ]
    }
   ],
   "source": [
    "# Make 200D text files\n",
    "\n",
    "# file = 'glove.6B.300d.txt'\n",
    "# Algo_N(file, 200, 300, 7)"
   ]
  },
  {
   "cell_type": "code",
   "execution_count": 8,
   "metadata": {
    "scrolled": true
   },
   "outputs": [
    {
     "name": "stdout",
     "output_type": "stream",
     "text": [
      "Loading word vectors.\n",
      "Done.\n",
      "Make Algo_50 text file\n",
      "Done.\n",
      "Make Algo_100 text file\n",
      "Done.\n",
      "Make Algo_150 text file\n",
      "Done.\n",
      "Make Algo_200 text file\n",
      "Done.\n"
     ]
    },
    {
     "data": {
      "text/plain": [
       "\"\\n# Make W2V text files\\n\\nfile = 'w2v_300d.txt'\\nAlgo_N(file, [50,100,150,200], 300, 7)\\n\""
      ]
     },
     "execution_count": 8,
     "metadata": {},
     "output_type": "execute_result"
    }
   ],
   "source": [
    "# Make FastText text files\n",
    "\n",
    "file = 'fasttext_300d.txt'\n",
    "Algo_N(file, [50, 100, 150, 200], 300, 7)"
   ]
  },
  {
   "cell_type": "code",
   "execution_count": 15,
   "metadata": {},
   "outputs": [
    {
     "name": "stdout",
     "output_type": "stream",
     "text": [
      "C:\\Users\\user\\Desktop\\paper\\SentEval\n"
     ]
    }
   ],
   "source": [
    "%cd SentEval/"
   ]
  },
  {
   "cell_type": "markdown",
   "metadata": {},
   "source": [
    "#### Textual Classification Task - Glove\n",
    "\n",
    "Performe the experiments on several textual classification tasks using SentEval(*Conneau and Kiela, 2018*)toolkit, which includes binary classification(MR, CR, SUBJ, MPQA), multiclass classification(SST-FG, TREC), entailment(SICK-E), semantic relatedness(STS-B), and paraphrase detection(MRPC) tasks, across a range of domains. "
   ]
  },
  {
   "cell_type": "code",
   "execution_count": 10,
   "metadata": {
    "scrolled": true
   },
   "outputs": [
    {
     "name": "stderr",
     "output_type": "stream",
     "text": [
      "2020-10-03 12:25:35,147 : ***** Transfer task : MR *****\n",
      "\n",
      "\n",
      "2020-10-03 12:25:35,971 : Found 718 words with word vectors, out of         735 words\n",
      "2020-10-03 12:25:35,971 : Generating sentence embeddings\n",
      "2020-10-03 12:25:35,974 : Generated sentence embeddings\n",
      "2020-10-03 12:25:35,975 : Training pytorch-MLP-nhid0-rmsprop-bs128 with (inner) 5-fold cross-validation\n",
      "2020-10-03 12:25:39,310 : Best param found at split 1: l2reg = 1e-05                 with score 57.58\n",
      "2020-10-03 12:25:39,528 : Best param found at split 2: l2reg = 1e-05                 with score 57.42\n",
      "2020-10-03 12:25:39,760 : Best param found at split 3: l2reg = 0.01                 with score 57.88\n",
      "2020-10-03 12:25:39,978 : Best param found at split 4: l2reg = 1e-05                 with score 62.73\n",
      "2020-10-03 12:25:40,182 : Best param found at split 5: l2reg = 0.01                 with score 65.0\n",
      "2020-10-03 12:25:40,193 : Dev acc : 60.12 Test acc : 59.43\n",
      "\n",
      "2020-10-03 12:25:40,193 : ***** Transfer task : CR *****\n",
      "\n",
      "\n",
      "2020-10-03 12:25:41,046 : Found 5282 words with word vectors, out of         5677 words\n",
      "2020-10-03 12:25:41,049 : Generating sentence embeddings\n",
      "2020-10-03 12:25:41,173 : Generated sentence embeddings\n",
      "2020-10-03 12:25:41,173 : Training pytorch-MLP-nhid0-rmsprop-bs128 with (inner) 5-fold cross-validation\n",
      "2020-10-03 12:25:45,785 : Best param found at split 1: l2reg = 0.0001                 with score 71.59\n",
      "2020-10-03 12:25:50,555 : Best param found at split 2: l2reg = 1e-05                 with score 71.56\n",
      "2020-10-03 12:25:55,753 : Best param found at split 3: l2reg = 1e-05                 with score 71.42\n",
      "2020-10-03 12:26:00,677 : Best param found at split 4: l2reg = 0.001                 with score 72.28\n",
      "2020-10-03 12:26:05,914 : Best param found at split 5: l2reg = 1e-05                 with score 71.82\n",
      "2020-10-03 12:26:06,099 : Dev acc : 71.73 Test acc : 70.28\n",
      "\n",
      "2020-10-03 12:26:06,100 : ***** Transfer task : MPQA *****\n",
      "\n",
      "\n",
      "2020-10-03 12:26:06,988 : Found 6195 words with word vectors, out of         6241 words\n",
      "2020-10-03 12:26:07,062 : Generating sentence embeddings\n",
      "2020-10-03 12:26:07,215 : Generated sentence embeddings\n",
      "2020-10-03 12:26:07,216 : Training pytorch-MLP-nhid0-rmsprop-bs128 with (inner) 5-fold cross-validation\n",
      "2020-10-03 12:26:17,671 : Best param found at split 1: l2reg = 0.01                 with score 82.01\n",
      "2020-10-03 12:26:28,916 : Best param found at split 2: l2reg = 1e-05                 with score 81.33\n",
      "2020-10-03 12:26:39,672 : Best param found at split 3: l2reg = 1e-05                 with score 81.86\n",
      "2020-10-03 12:26:50,843 : Best param found at split 4: l2reg = 0.0001                 with score 81.78\n",
      "2020-10-03 12:27:02,086 : Best param found at split 5: l2reg = 0.0001                 with score 81.98\n",
      "2020-10-03 12:27:02,651 : Dev acc : 81.79 Test acc : 81.79\n",
      "\n",
      "2020-10-03 12:27:02,653 : ***** Transfer task : SUBJ *****\n",
      "\n",
      "\n",
      "2020-10-03 12:27:03,691 : Found 13843 words with word vectors, out of         14847 words\n",
      "2020-10-03 12:27:03,696 : Generating sentence embeddings\n",
      "2020-10-03 12:27:03,886 : Generated sentence embeddings\n",
      "2020-10-03 12:27:03,887 : Training pytorch-MLP-nhid0-rmsprop-bs128 with (inner) 5-fold cross-validation\n",
      "2020-10-03 12:27:07,948 : Best param found at split 1: l2reg = 1e-05                 with score 99.6\n",
      "2020-10-03 12:27:12,227 : Best param found at split 2: l2reg = 1e-05                 with score 99.6\n",
      "2020-10-03 12:27:16,524 : Best param found at split 3: l2reg = 1e-05                 with score 99.6\n",
      "2020-10-03 12:27:20,752 : Best param found at split 4: l2reg = 1e-05                 with score 99.6\n",
      "2020-10-03 12:27:24,972 : Best param found at split 5: l2reg = 1e-05                 with score 99.6\n",
      "2020-10-03 12:27:25,198 : Dev acc : 99.6 Test acc : 99.6\n",
      "\n",
      "2020-10-03 12:27:25,199 : ***** Transfer task : SST Fine-Grained classification *****\n",
      "\n",
      "\n",
      "2020-10-03 12:27:26,361 : Found 17754 words with word vectors, out of         19539 words\n",
      "2020-10-03 12:27:26,366 : Computing embedding for train\n",
      "2020-10-03 12:27:26,649 : Computed train embeddings\n",
      "2020-10-03 12:27:26,649 : Computing embedding for dev\n",
      "2020-10-03 12:27:26,688 : Computed dev embeddings\n",
      "2020-10-03 12:27:26,689 : Computing embedding for test\n",
      "2020-10-03 12:27:26,762 : Computed test embeddings\n",
      "2020-10-03 12:27:26,763 : Training pytorch-MLP-nhid0-rmsprop-bs128 with standard validation..\n",
      "2020-10-03 12:27:28,845 : [('reg:1e-05', 38.33), ('reg:0.0001', 38.24), ('reg:0.001', 38.06), ('reg:0.01', 35.42)]\n",
      "2020-10-03 12:27:28,845 : Validation : best param found is reg = 1e-05 with score             38.33\n",
      "2020-10-03 12:27:28,846 : Evaluating...\n",
      "2020-10-03 12:27:29,350 : \n",
      "Dev acc : 38.33 Test acc : 37.56 for             SST Fine-Grained classification\n",
      "\n",
      "2020-10-03 12:27:29,351 : ***** Transfer task : TREC *****\n",
      "\n",
      "\n",
      "2020-10-03 12:27:30,309 : Found 5867 words with word vectors, out of         9779 words\n",
      "2020-10-03 12:27:30,426 : Computed train embeddings\n",
      "2020-10-03 12:27:30,436 : Computed test embeddings\n",
      "2020-10-03 12:27:30,437 : Training pytorch-MLP-nhid0-rmsprop-bs128 with 5-fold cross-validation\n",
      "2020-10-03 12:27:39,186 : [('reg:1e-05', 51.74), ('reg:0.0001', 51.76), ('reg:0.001', 51.1), ('reg:0.01', 48.39)]\n",
      "2020-10-03 12:27:39,187 : Cross-validation : best param found is reg = 0.0001             with score 51.76\n",
      "2020-10-03 12:27:39,187 : Evaluating...\n",
      "2020-10-03 12:27:39,633 : \n",
      "Dev acc : 51.76 Test acc : 52.6             for TREC\n",
      "\n",
      "2020-10-03 12:27:39,634 : ***** Transfer task : MRPC *****\n",
      "\n",
      "\n",
      "2020-10-03 12:27:40,667 : Found 11862 words with word vectors, out of         19556 words\n",
      "2020-10-03 12:27:40,670 : Computing embedding for train\n",
      "2020-10-03 12:27:40,926 : Computed train embeddings\n",
      "2020-10-03 12:27:40,926 : Computing embedding for test\n",
      "2020-10-03 12:27:41,035 : Computed test embeddings\n",
      "2020-10-03 12:27:41,039 : Training pytorch-MLP-nhid0-rmsprop-bs128 with 5-fold cross-validation\n",
      "2020-10-03 12:27:47,125 : [('reg:1e-05', 71.93), ('reg:0.0001', 71.96), ('reg:0.001', 71.66), ('reg:0.01', 70.68)]\n",
      "2020-10-03 12:27:47,125 : Cross-validation : best param found is reg = 0.0001             with score 71.96\n",
      "2020-10-03 12:27:47,126 : Evaluating...\n",
      "2020-10-03 12:27:47,430 : Dev acc : 71.96 Test acc 71.71; Test F1 80.0 for MRPC.\n",
      "\n",
      "2020-10-03 12:27:47,432 : ***** Transfer task : SICK-Entailment*****\n",
      "\n",
      "\n",
      "2020-10-03 12:27:48,290 : Found 2279 words with word vectors, out of         2414 words\n",
      "2020-10-03 12:27:48,294 : Computing embedding for train\n",
      "2020-10-03 12:27:48,478 : Computed train embeddings\n",
      "2020-10-03 12:27:48,478 : Computing embedding for dev\n",
      "2020-10-03 12:27:48,501 : Computed dev embeddings\n",
      "2020-10-03 12:27:48,502 : Computing embedding for test\n",
      "2020-10-03 12:27:48,700 : Computed test embeddings\n",
      "2020-10-03 12:27:48,708 : Training pytorch-MLP-nhid0-rmsprop-bs128 with standard validation..\n",
      "2020-10-03 12:27:50,692 : [('reg:1e-05', 70.0), ('reg:0.0001', 69.8), ('reg:0.001', 70.0), ('reg:0.01', 62.6)]\n",
      "2020-10-03 12:27:50,693 : Validation : best param found is reg = 1e-05 with score             70.0\n",
      "2020-10-03 12:27:50,694 : Evaluating...\n",
      "2020-10-03 12:27:51,295 : \n",
      "Dev acc : 70.0 Test acc : 71.48 for                        SICK entailment\n",
      "\n",
      "2020-10-03 12:27:51,297 : \n",
      "\n",
      "***** Transfer task : STSBenchmark*****\n",
      "\n",
      "\n",
      "2020-10-03 12:27:52,465 : Found 14826 words with word vectors, out of         15891 words\n",
      "2020-10-03 12:27:52,467 : Computing embedding for train\n",
      "2020-10-03 12:27:52,732 : Computed train embeddings\n",
      "2020-10-03 12:27:52,733 : Computing embedding for dev\n",
      "2020-10-03 12:27:52,809 : Computed dev embeddings\n",
      "2020-10-03 12:27:52,810 : Computing embedding for test\n",
      "2020-10-03 12:27:52,875 : Computed test embeddings\n",
      "2020-10-03 12:28:09,066 : Dev : Pearson 0.6743824261711475\n",
      "2020-10-03 12:28:09,067 : Test : Pearson 0.5979528390934437 Spearman 0.5750837113705773 MSE 1.8215060876487001                        for SICK Relatedness\n",
      "\n"
     ]
    },
    {
     "name": "stdout",
     "output_type": "stream",
     "text": [
      "{'MR': {'devacc': 60.12, 'acc': 59.43, 'ndev': 74, 'ntest': 74}, 'CR': {'devacc': 71.73, 'acc': 70.28, 'ndev': 3775, 'ntest': 3775}, 'MPQA': {'devacc': 81.79, 'acc': 81.79, 'ndev': 10606, 'ntest': 10606}, 'SUBJ': {'devacc': 99.6, 'acc': 99.6, 'ndev': 5020, 'ntest': 5020}, 'SST5': {'devacc': 38.33, 'acc': 37.56, 'ndev': 1101, 'ntest': 2210}, 'TREC': {'devacc': 51.76, 'acc': 52.6, 'ndev': 5452, 'ntest': 500}, 'MRPC': {'devacc': 71.96, 'acc': 71.71, 'f1': 80.0, 'ndev': 4076, 'ntest': 1725}, 'SICKEntailment': {'devacc': 70.0, 'acc': 71.48, 'ndev': 500, 'ntest': 4927}, 'STSBenchmark': {'devpearson': 0.6743824261711475, 'pearson': 0.5979528390934437, 'spearman': 0.5750837113705773, 'mse': 1.8215060876487001, 'yhat': array([2.2641333 , 1.79058945, 2.25516389, ..., 3.57340824, 3.40872317,\n",
      "       3.21723215]), 'ndev': 1500, 'ntest': 1379}}\n"
     ]
    }
   ],
   "source": [
    "# Algo-50D \n",
    "%run examples/bow_v2.py"
   ]
  },
  {
   "cell_type": "code",
   "execution_count": 11,
   "metadata": {
    "scrolled": true
   },
   "outputs": [
    {
     "name": "stderr",
     "output_type": "stream",
     "text": [
      "2020-10-03 12:28:16,788 : ***** Transfer task : MR *****\n",
      "\n",
      "\n",
      "2020-10-03 12:28:18,018 : Found 718 words with word vectors, out of         735 words\n",
      "2020-10-03 12:28:18,018 : Generating sentence embeddings\n",
      "2020-10-03 12:28:18,022 : Generated sentence embeddings\n",
      "2020-10-03 12:28:18,022 : Training pytorch-MLP-nhid0-rmsprop-bs128 with (inner) 5-fold cross-validation\n",
      "2020-10-03 12:28:18,229 : Best param found at split 1: l2reg = 0.001                 with score 59.39\n",
      "2020-10-03 12:28:18,452 : Best param found at split 2: l2reg = 0.01                 with score 55.91\n",
      "2020-10-03 12:28:18,676 : Best param found at split 3: l2reg = 1e-05                 with score 52.27\n",
      "2020-10-03 12:28:18,887 : Best param found at split 4: l2reg = 0.01                 with score 71.21\n",
      "2020-10-03 12:28:19,120 : Best param found at split 5: l2reg = 0.01                 with score 65.0\n",
      "2020-10-03 12:28:19,134 : Dev acc : 60.76 Test acc : 63.43\n",
      "\n",
      "2020-10-03 12:28:19,134 : ***** Transfer task : CR *****\n",
      "\n",
      "\n",
      "2020-10-03 12:28:20,529 : Found 5282 words with word vectors, out of         5677 words\n",
      "2020-10-03 12:28:20,532 : Generating sentence embeddings\n",
      "2020-10-03 12:28:20,655 : Generated sentence embeddings\n",
      "2020-10-03 12:28:20,656 : Training pytorch-MLP-nhid0-rmsprop-bs128 with (inner) 5-fold cross-validation\n",
      "2020-10-03 12:28:25,349 : Best param found at split 1: l2reg = 0.0001                 with score 74.9\n",
      "2020-10-03 12:28:30,561 : Best param found at split 2: l2reg = 1e-05                 with score 75.17\n",
      "2020-10-03 12:28:35,707 : Best param found at split 3: l2reg = 1e-05                 with score 75.0\n",
      "2020-10-03 12:28:40,850 : Best param found at split 4: l2reg = 0.0001                 with score 74.97\n",
      "2020-10-03 12:28:45,836 : Best param found at split 5: l2reg = 0.001                 with score 74.93\n",
      "2020-10-03 12:28:46,120 : Dev acc : 74.99 Test acc : 73.94\n",
      "\n",
      "2020-10-03 12:28:46,121 : ***** Transfer task : MPQA *****\n",
      "\n",
      "\n",
      "2020-10-03 12:28:47,577 : Found 6195 words with word vectors, out of         6241 words\n",
      "2020-10-03 12:28:47,587 : Generating sentence embeddings\n",
      "2020-10-03 12:28:47,741 : Generated sentence embeddings\n",
      "2020-10-03 12:28:47,742 : Training pytorch-MLP-nhid0-rmsprop-bs128 with (inner) 5-fold cross-validation\n",
      "2020-10-03 12:28:59,577 : Best param found at split 1: l2reg = 1e-05                 with score 83.46\n",
      "2020-10-03 12:29:11,253 : Best param found at split 2: l2reg = 1e-05                 with score 82.88\n",
      "2020-10-03 12:29:23,040 : Best param found at split 3: l2reg = 0.001                 with score 83.42\n",
      "2020-10-03 12:29:34,112 : Best param found at split 4: l2reg = 0.0001                 with score 83.72\n",
      "2020-10-03 12:29:45,660 : Best param found at split 5: l2reg = 0.0001                 with score 83.3\n",
      "2020-10-03 12:29:46,327 : Dev acc : 83.36 Test acc : 83.29\n",
      "\n",
      "2020-10-03 12:29:46,329 : ***** Transfer task : SUBJ *****\n",
      "\n",
      "\n",
      "2020-10-03 12:29:48,141 : Found 13843 words with word vectors, out of         14847 words\n",
      "2020-10-03 12:29:48,147 : Generating sentence embeddings\n",
      "2020-10-03 12:29:48,343 : Generated sentence embeddings\n",
      "2020-10-03 12:29:48,343 : Training pytorch-MLP-nhid0-rmsprop-bs128 with (inner) 5-fold cross-validation\n",
      "2020-10-03 12:29:52,395 : Best param found at split 1: l2reg = 1e-05                 with score 99.6\n",
      "2020-10-03 12:29:56,676 : Best param found at split 2: l2reg = 1e-05                 with score 99.6\n",
      "2020-10-03 12:30:00,932 : Best param found at split 3: l2reg = 1e-05                 with score 99.6\n",
      "2020-10-03 12:30:05,208 : Best param found at split 4: l2reg = 1e-05                 with score 99.6\n",
      "2020-10-03 12:30:09,498 : Best param found at split 5: l2reg = 1e-05                 with score 99.6\n",
      "2020-10-03 12:30:09,732 : Dev acc : 99.6 Test acc : 99.6\n",
      "\n",
      "2020-10-03 12:30:09,733 : ***** Transfer task : SST Fine-Grained classification *****\n",
      "\n",
      "\n",
      "2020-10-03 12:30:11,645 : Found 17754 words with word vectors, out of         19539 words\n",
      "2020-10-03 12:30:11,651 : Computing embedding for train\n",
      "2020-10-03 12:30:11,936 : Computed train embeddings\n",
      "2020-10-03 12:30:11,936 : Computing embedding for dev\n",
      "2020-10-03 12:30:11,975 : Computed dev embeddings\n",
      "2020-10-03 12:30:11,976 : Computing embedding for test\n",
      "2020-10-03 12:30:12,050 : Computed test embeddings\n",
      "2020-10-03 12:30:12,051 : Training pytorch-MLP-nhid0-rmsprop-bs128 with standard validation..\n",
      "2020-10-03 12:30:14,443 : [('reg:1e-05', 39.78), ('reg:0.0001', 39.42), ('reg:0.001', 39.06), ('reg:0.01', 36.42)]\n",
      "2020-10-03 12:30:14,443 : Validation : best param found is reg = 1e-05 with score             39.78\n",
      "2020-10-03 12:30:14,444 : Evaluating...\n",
      "2020-10-03 12:30:15,042 : \n",
      "Dev acc : 39.78 Test acc : 37.92 for             SST Fine-Grained classification\n",
      "\n",
      "2020-10-03 12:30:15,043 : ***** Transfer task : TREC *****\n",
      "\n",
      "\n",
      "2020-10-03 12:30:16,503 : Found 5867 words with word vectors, out of         9779 words\n",
      "2020-10-03 12:30:16,625 : Computed train embeddings\n",
      "2020-10-03 12:30:16,635 : Computed test embeddings\n",
      "2020-10-03 12:30:16,636 : Training pytorch-MLP-nhid0-rmsprop-bs128 with 5-fold cross-validation\n",
      "2020-10-03 12:30:25,362 : [('reg:1e-05', 56.82), ('reg:0.0001', 56.8), ('reg:0.001', 56.6), ('reg:0.01', 51.8)]\n",
      "2020-10-03 12:30:25,362 : Cross-validation : best param found is reg = 1e-05             with score 56.82\n",
      "2020-10-03 12:30:25,363 : Evaluating...\n",
      "2020-10-03 12:30:25,676 : \n",
      "Dev acc : 56.82 Test acc : 57.6             for TREC\n",
      "\n",
      "2020-10-03 12:30:25,677 : ***** Transfer task : MRPC *****\n",
      "\n",
      "\n",
      "2020-10-03 12:30:27,468 : Found 11862 words with word vectors, out of         19556 words\n",
      "2020-10-03 12:30:27,471 : Computing embedding for train\n",
      "2020-10-03 12:30:27,734 : Computed train embeddings\n",
      "2020-10-03 12:30:27,735 : Computing embedding for test\n",
      "2020-10-03 12:30:27,847 : Computed test embeddings\n",
      "2020-10-03 12:30:27,855 : Training pytorch-MLP-nhid0-rmsprop-bs128 with 5-fold cross-validation\n",
      "2020-10-03 12:30:33,213 : [('reg:1e-05', 72.33), ('reg:0.0001', 72.35), ('reg:0.001', 72.23), ('reg:0.01', 71.07)]\n",
      "2020-10-03 12:30:33,214 : Cross-validation : best param found is reg = 0.0001             with score 72.35\n",
      "2020-10-03 12:30:33,214 : Evaluating...\n",
      "2020-10-03 12:30:33,468 : Dev acc : 72.35 Test acc 71.59; Test F1 80.89 for MRPC.\n",
      "\n",
      "2020-10-03 12:30:33,470 : ***** Transfer task : SICK-Entailment*****\n",
      "\n",
      "\n",
      "2020-10-03 12:30:34,810 : Found 2279 words with word vectors, out of         2414 words\n",
      "2020-10-03 12:30:34,815 : Computing embedding for train\n",
      "2020-10-03 12:30:35,004 : Computed train embeddings\n",
      "2020-10-03 12:30:35,004 : Computing embedding for dev\n",
      "2020-10-03 12:30:35,027 : Computed dev embeddings\n",
      "2020-10-03 12:30:35,027 : Computing embedding for test\n",
      "2020-10-03 12:30:35,234 : Computed test embeddings\n",
      "2020-10-03 12:30:35,248 : Training pytorch-MLP-nhid0-rmsprop-bs128 with standard validation..\n",
      "2020-10-03 12:30:37,075 : [('reg:1e-05', 75.4), ('reg:0.0001', 75.2), ('reg:0.001', 74.8), ('reg:0.01', 67.6)]\n",
      "2020-10-03 12:30:37,076 : Validation : best param found is reg = 1e-05 with score             75.4\n",
      "2020-10-03 12:30:37,076 : Evaluating...\n",
      "2020-10-03 12:30:37,619 : \n",
      "Dev acc : 75.4 Test acc : 75.95 for                        SICK entailment\n",
      "\n",
      "2020-10-03 12:30:37,622 : \n",
      "\n",
      "***** Transfer task : STSBenchmark*****\n",
      "\n",
      "\n",
      "2020-10-03 12:30:39,508 : Found 14826 words with word vectors, out of         15891 words\n",
      "2020-10-03 12:30:39,510 : Computing embedding for train\n",
      "2020-10-03 12:30:39,784 : Computed train embeddings\n",
      "2020-10-03 12:30:39,785 : Computing embedding for dev\n",
      "2020-10-03 12:30:39,865 : Computed dev embeddings\n",
      "2020-10-03 12:30:39,865 : Computing embedding for test\n",
      "2020-10-03 12:30:39,932 : Computed test embeddings\n",
      "2020-10-03 12:30:56,143 : Dev : Pearson 0.7023369912798212\n",
      "2020-10-03 12:30:56,144 : Test : Pearson 0.6189871062742757 Spearman 0.6024792229135908 MSE 1.7702788598632497                        for SICK Relatedness\n",
      "\n"
     ]
    },
    {
     "name": "stdout",
     "output_type": "stream",
     "text": [
      "{'MR': {'devacc': 60.76, 'acc': 63.43, 'ndev': 74, 'ntest': 74}, 'CR': {'devacc': 74.99, 'acc': 73.94, 'ndev': 3775, 'ntest': 3775}, 'MPQA': {'devacc': 83.36, 'acc': 83.29, 'ndev': 10606, 'ntest': 10606}, 'SUBJ': {'devacc': 99.6, 'acc': 99.6, 'ndev': 5020, 'ntest': 5020}, 'SST5': {'devacc': 39.78, 'acc': 37.92, 'ndev': 1101, 'ntest': 2210}, 'TREC': {'devacc': 56.82, 'acc': 57.6, 'ndev': 5452, 'ntest': 500}, 'MRPC': {'devacc': 72.35, 'acc': 71.59, 'f1': 80.89, 'ndev': 4076, 'ntest': 1725}, 'SICKEntailment': {'devacc': 75.4, 'acc': 75.95, 'ndev': 500, 'ntest': 4927}, 'STSBenchmark': {'devpearson': 0.7023369912798212, 'pearson': 0.6189871062742757, 'spearman': 0.6024792229135908, 'mse': 1.7702788598632497, 'yhat': array([2.41092348, 1.74128162, 2.43751119, ..., 3.5341757 , 3.49804419,\n",
      "       3.28595032]), 'ndev': 1500, 'ntest': 1379}}\n"
     ]
    }
   ],
   "source": [
    "# Algo-100D \n",
    "%run examples/bow_v2.py"
   ]
  },
  {
   "cell_type": "code",
   "execution_count": 12,
   "metadata": {
    "scrolled": true
   },
   "outputs": [
    {
     "name": "stderr",
     "output_type": "stream",
     "text": [
      "2020-10-03 12:31:05,670 : ***** Transfer task : MR *****\n",
      "\n",
      "\n",
      "2020-10-03 12:31:07,371 : Found 718 words with word vectors, out of         735 words\n",
      "2020-10-03 12:31:07,371 : Generating sentence embeddings\n",
      "2020-10-03 12:31:07,375 : Generated sentence embeddings\n",
      "2020-10-03 12:31:07,375 : Training pytorch-MLP-nhid0-rmsprop-bs128 with (inner) 5-fold cross-validation\n",
      "2020-10-03 12:31:07,603 : Best param found at split 1: l2reg = 1e-05                 with score 59.39\n",
      "2020-10-03 12:31:07,821 : Best param found at split 2: l2reg = 0.01                 with score 57.58\n",
      "2020-10-03 12:31:08,035 : Best param found at split 3: l2reg = 1e-05                 with score 57.88\n",
      "2020-10-03 12:31:08,262 : Best param found at split 4: l2reg = 0.01                 with score 71.36\n",
      "2020-10-03 12:31:08,514 : Best param found at split 5: l2reg = 1e-05                 with score 68.33\n",
      "2020-10-03 12:31:08,525 : Dev acc : 62.91 Test acc : 49.91\n",
      "\n",
      "2020-10-03 12:31:08,525 : ***** Transfer task : CR *****\n",
      "\n",
      "\n",
      "2020-10-03 12:31:10,467 : Found 5282 words with word vectors, out of         5677 words\n",
      "2020-10-03 12:31:10,471 : Generating sentence embeddings\n",
      "2020-10-03 12:31:10,599 : Generated sentence embeddings\n",
      "2020-10-03 12:31:10,600 : Training pytorch-MLP-nhid0-rmsprop-bs128 with (inner) 5-fold cross-validation\n",
      "2020-10-03 12:31:15,547 : Best param found at split 1: l2reg = 1e-05                 with score 76.39\n",
      "2020-10-03 12:31:20,261 : Best param found at split 2: l2reg = 0.0001                 with score 75.86\n",
      "2020-10-03 12:31:24,902 : Best param found at split 3: l2reg = 0.0001                 with score 75.96\n",
      "2020-10-03 12:31:29,868 : Best param found at split 4: l2reg = 0.0001                 with score 76.19\n",
      "2020-10-03 12:31:34,444 : Best param found at split 5: l2reg = 1e-05                 with score 75.73\n",
      "2020-10-03 12:31:34,663 : Dev acc : 76.03 Test acc : 74.78\n",
      "\n",
      "2020-10-03 12:31:34,665 : ***** Transfer task : MPQA *****\n",
      "\n",
      "\n",
      "2020-10-03 12:31:36,669 : Found 6195 words with word vectors, out of         6241 words\n",
      "2020-10-03 12:31:36,677 : Generating sentence embeddings\n",
      "2020-10-03 12:31:36,831 : Generated sentence embeddings\n",
      "2020-10-03 12:31:36,833 : Training pytorch-MLP-nhid0-rmsprop-bs128 with (inner) 5-fold cross-validation\n",
      "2020-10-03 12:31:48,037 : Best param found at split 1: l2reg = 0.0001                 with score 85.64\n",
      "2020-10-03 12:32:00,170 : Best param found at split 2: l2reg = 0.001                 with score 84.58\n",
      "2020-10-03 12:32:12,365 : Best param found at split 3: l2reg = 0.0001                 with score 85.06\n",
      "2020-10-03 12:32:23,534 : Best param found at split 4: l2reg = 0.001                 with score 85.01\n",
      "2020-10-03 12:32:33,630 : Best param found at split 5: l2reg = 0.0001                 with score 84.8\n",
      "2020-10-03 12:32:34,106 : Dev acc : 85.02 Test acc : 84.72\n",
      "\n",
      "2020-10-03 12:32:34,108 : ***** Transfer task : SUBJ *****\n",
      "\n",
      "\n",
      "2020-10-03 12:32:36,530 : Found 13843 words with word vectors, out of         14847 words\n",
      "2020-10-03 12:32:36,537 : Generating sentence embeddings\n",
      "2020-10-03 12:32:36,743 : Generated sentence embeddings\n",
      "2020-10-03 12:32:36,743 : Training pytorch-MLP-nhid0-rmsprop-bs128 with (inner) 5-fold cross-validation\n",
      "2020-10-03 12:32:40,857 : Best param found at split 1: l2reg = 1e-05                 with score 99.6\n",
      "2020-10-03 12:32:45,188 : Best param found at split 2: l2reg = 1e-05                 with score 99.6\n",
      "2020-10-03 12:32:49,496 : Best param found at split 3: l2reg = 1e-05                 with score 99.6\n",
      "2020-10-03 12:32:53,795 : Best param found at split 4: l2reg = 1e-05                 with score 99.6\n",
      "2020-10-03 12:32:58,135 : Best param found at split 5: l2reg = 1e-05                 with score 99.6\n",
      "2020-10-03 12:32:58,361 : Dev acc : 99.6 Test acc : 99.6\n",
      "\n",
      "2020-10-03 12:32:58,363 : ***** Transfer task : SST Fine-Grained classification *****\n",
      "\n",
      "\n",
      "2020-10-03 12:33:01,092 : Found 17754 words with word vectors, out of         19539 words\n",
      "2020-10-03 12:33:01,099 : Computing embedding for train\n",
      "2020-10-03 12:33:01,391 : Computed train embeddings\n",
      "2020-10-03 12:33:01,391 : Computing embedding for dev\n",
      "2020-10-03 12:33:01,431 : Computed dev embeddings\n",
      "2020-10-03 12:33:01,431 : Computing embedding for test\n",
      "2020-10-03 12:33:01,508 : Computed test embeddings\n",
      "2020-10-03 12:33:01,508 : Training pytorch-MLP-nhid0-rmsprop-bs128 with standard validation..\n",
      "2020-10-03 12:33:03,915 : [('reg:1e-05', 40.24), ('reg:0.0001', 39.96), ('reg:0.001', 38.96), ('reg:0.01', 36.51)]\n",
      "2020-10-03 12:33:03,915 : Validation : best param found is reg = 1e-05 with score             40.24\n",
      "2020-10-03 12:33:03,916 : Evaluating...\n",
      "2020-10-03 12:33:04,513 : \n",
      "Dev acc : 40.24 Test acc : 40.23 for             SST Fine-Grained classification\n",
      "\n",
      "2020-10-03 12:33:04,516 : ***** Transfer task : TREC *****\n",
      "\n",
      "\n",
      "2020-10-03 12:33:06,523 : Found 5867 words with word vectors, out of         9779 words\n",
      "2020-10-03 12:33:06,650 : Computed train embeddings\n",
      "2020-10-03 12:33:06,660 : Computed test embeddings\n",
      "2020-10-03 12:33:06,661 : Training pytorch-MLP-nhid0-rmsprop-bs128 with 5-fold cross-validation\n",
      "2020-10-03 12:33:15,855 : [('reg:1e-05', 59.94), ('reg:0.0001', 59.9), ('reg:0.001', 59.32), ('reg:0.01', 54.81)]\n",
      "2020-10-03 12:33:15,856 : Cross-validation : best param found is reg = 1e-05             with score 59.94\n",
      "2020-10-03 12:33:15,856 : Evaluating...\n",
      "2020-10-03 12:33:16,342 : \n",
      "Dev acc : 59.94 Test acc : 60.4             for TREC\n",
      "\n",
      "2020-10-03 12:33:16,344 : ***** Transfer task : MRPC *****\n",
      "\n",
      "\n",
      "2020-10-03 12:33:18,785 : Found 11862 words with word vectors, out of         19556 words\n",
      "2020-10-03 12:33:18,788 : Computing embedding for train\n",
      "2020-10-03 12:33:19,064 : Computed train embeddings\n",
      "2020-10-03 12:33:19,065 : Computing embedding for test\n",
      "2020-10-03 12:33:19,183 : Computed test embeddings\n",
      "2020-10-03 12:33:19,195 : Training pytorch-MLP-nhid0-rmsprop-bs128 with 5-fold cross-validation\n",
      "2020-10-03 12:33:25,101 : [('reg:1e-05', 71.98), ('reg:0.0001', 72.08), ('reg:0.001', 71.66), ('reg:0.01', 70.98)]\n",
      "2020-10-03 12:33:25,102 : Cross-validation : best param found is reg = 0.0001             with score 72.08\n",
      "2020-10-03 12:33:25,102 : Evaluating...\n",
      "2020-10-03 12:33:25,408 : Dev acc : 72.08 Test acc 71.94; Test F1 81.03 for MRPC.\n",
      "\n",
      "2020-10-03 12:33:25,411 : ***** Transfer task : SICK-Entailment*****\n",
      "\n",
      "\n",
      "2020-10-03 12:33:27,257 : Found 2279 words with word vectors, out of         2414 words\n",
      "2020-10-03 12:33:27,264 : Computing embedding for train\n",
      "2020-10-03 12:33:27,459 : Computed train embeddings\n",
      "2020-10-03 12:33:27,459 : Computing embedding for dev\n",
      "2020-10-03 12:33:27,482 : Computed dev embeddings\n",
      "2020-10-03 12:33:27,483 : Computing embedding for test\n",
      "2020-10-03 12:33:27,695 : Computed test embeddings\n",
      "2020-10-03 12:33:27,715 : Training pytorch-MLP-nhid0-rmsprop-bs128 with standard validation..\n",
      "2020-10-03 12:33:29,611 : [('reg:1e-05', 78.8), ('reg:0.0001', 78.4), ('reg:0.001', 76.4), ('reg:0.01', 68.0)]\n",
      "2020-10-03 12:33:29,611 : Validation : best param found is reg = 1e-05 with score             78.8\n",
      "2020-10-03 12:33:29,612 : Evaluating...\n",
      "2020-10-03 12:33:30,216 : \n",
      "Dev acc : 78.8 Test acc : 75.89 for                        SICK entailment\n",
      "\n",
      "2020-10-03 12:33:30,220 : \n",
      "\n",
      "***** Transfer task : STSBenchmark*****\n",
      "\n",
      "\n",
      "2020-10-03 12:33:32,729 : Found 14826 words with word vectors, out of         15891 words\n",
      "2020-10-03 12:33:32,731 : Computing embedding for train\n",
      "2020-10-03 12:33:33,086 : Computed train embeddings\n",
      "2020-10-03 12:33:33,086 : Computing embedding for dev\n",
      "2020-10-03 12:33:33,169 : Computed dev embeddings\n",
      "2020-10-03 12:33:33,170 : Computing embedding for test\n",
      "2020-10-03 12:33:33,239 : Computed test embeddings\n",
      "2020-10-03 12:33:52,682 : Dev : Pearson 0.7217311886478219\n",
      "2020-10-03 12:33:52,683 : Test : Pearson 0.644985866477282 Spearman 0.624925806331102 MSE 1.6308406754820601                        for SICK Relatedness\n",
      "\n"
     ]
    },
    {
     "name": "stdout",
     "output_type": "stream",
     "text": [
      "{'MR': {'devacc': 62.91, 'acc': 49.91, 'ndev': 74, 'ntest': 74}, 'CR': {'devacc': 76.03, 'acc': 74.78, 'ndev': 3775, 'ntest': 3775}, 'MPQA': {'devacc': 85.02, 'acc': 84.72, 'ndev': 10606, 'ntest': 10606}, 'SUBJ': {'devacc': 99.6, 'acc': 99.6, 'ndev': 5020, 'ntest': 5020}, 'SST5': {'devacc': 40.24, 'acc': 40.23, 'ndev': 1101, 'ntest': 2210}, 'TREC': {'devacc': 59.94, 'acc': 60.4, 'ndev': 5452, 'ntest': 500}, 'MRPC': {'devacc': 72.08, 'acc': 71.94, 'f1': 81.03, 'ndev': 4076, 'ntest': 1725}, 'SICKEntailment': {'devacc': 78.8, 'acc': 75.89, 'ndev': 500, 'ntest': 4927}, 'STSBenchmark': {'devpearson': 0.7217311886478219, 'pearson': 0.644985866477282, 'spearman': 0.624925806331102, 'mse': 1.6308406754820601, 'yhat': array([2.14755779, 1.25959458, 2.61553052, ..., 3.78753355, 3.68574692,\n",
      "       3.39541586]), 'ndev': 1500, 'ntest': 1379}}\n"
     ]
    }
   ],
   "source": [
    "# Algo-150D \n",
    "%run examples/bow_v2.py"
   ]
  },
  {
   "cell_type": "code",
   "execution_count": 14,
   "metadata": {
    "scrolled": true
   },
   "outputs": [
    {
     "name": "stderr",
     "output_type": "stream",
     "text": [
      "2020-10-03 12:35:28,667 : ***** Transfer task : MR *****\n",
      "\n",
      "\n",
      "2020-10-03 12:35:31,277 : Found 718 words with word vectors, out of         735 words\n",
      "2020-10-03 12:35:31,277 : Generating sentence embeddings\n",
      "2020-10-03 12:35:31,281 : Generated sentence embeddings\n",
      "2020-10-03 12:35:31,282 : Training pytorch-MLP-nhid0-rmsprop-bs128 with (inner) 5-fold cross-validation\n",
      "2020-10-03 12:35:31,509 : Best param found at split 1: l2reg = 1e-05                 with score 62.73\n",
      "2020-10-03 12:35:31,745 : Best param found at split 2: l2reg = 1e-05                 with score 59.24\n",
      "2020-10-03 12:35:31,968 : Best param found at split 3: l2reg = 1e-05                 with score 59.39\n",
      "2020-10-03 12:35:32,208 : Best param found at split 4: l2reg = 0.01                 with score 66.21\n",
      "2020-10-03 12:35:32,439 : Best param found at split 5: l2reg = 0.0001                 with score 66.67\n",
      "2020-10-03 12:35:32,450 : Dev acc : 62.85 Test acc : 52.67\n",
      "\n",
      "2020-10-03 12:35:32,450 : ***** Transfer task : CR *****\n",
      "\n",
      "\n",
      "2020-10-03 12:35:35,279 : Found 5282 words with word vectors, out of         5677 words\n",
      "2020-10-03 12:35:35,282 : Generating sentence embeddings\n",
      "2020-10-03 12:35:35,424 : Generated sentence embeddings\n",
      "2020-10-03 12:35:35,424 : Training pytorch-MLP-nhid0-rmsprop-bs128 with (inner) 5-fold cross-validation\n",
      "2020-10-03 12:35:39,953 : Best param found at split 1: l2reg = 0.0001                 with score 77.25\n",
      "2020-10-03 12:35:44,644 : Best param found at split 2: l2reg = 1e-05                 with score 77.19\n",
      "2020-10-03 12:35:49,850 : Best param found at split 3: l2reg = 1e-05                 with score 78.05\n",
      "2020-10-03 12:35:54,839 : Best param found at split 4: l2reg = 1e-05                 with score 77.38\n",
      "2020-10-03 12:35:59,873 : Best param found at split 5: l2reg = 0.001                 with score 77.15\n",
      "2020-10-03 12:36:00,059 : Dev acc : 77.4 Test acc : 75.87\n",
      "\n",
      "2020-10-03 12:36:00,060 : ***** Transfer task : MPQA *****\n",
      "\n",
      "\n",
      "2020-10-03 12:36:02,953 : Found 6195 words with word vectors, out of         6241 words\n",
      "2020-10-03 12:36:02,961 : Generating sentence embeddings\n",
      "2020-10-03 12:36:03,122 : Generated sentence embeddings\n",
      "2020-10-03 12:36:03,123 : Training pytorch-MLP-nhid0-rmsprop-bs128 with (inner) 5-fold cross-validation\n",
      "2020-10-03 12:36:14,865 : Best param found at split 1: l2reg = 0.001                 with score 86.9\n",
      "2020-10-03 12:36:27,052 : Best param found at split 2: l2reg = 0.001                 with score 86.27\n",
      "2020-10-03 12:36:38,092 : Best param found at split 3: l2reg = 0.001                 with score 86.76\n",
      "2020-10-03 12:36:49,295 : Best param found at split 4: l2reg = 0.01                 with score 86.48\n",
      "2020-10-03 12:37:01,171 : Best param found at split 5: l2reg = 0.001                 with score 86.48\n",
      "2020-10-03 12:37:01,842 : Dev acc : 86.58 Test acc : 86.46\n",
      "\n",
      "2020-10-03 12:37:01,845 : ***** Transfer task : SUBJ *****\n",
      "\n",
      "\n",
      "2020-10-03 12:37:04,993 : Found 13843 words with word vectors, out of         14847 words\n",
      "2020-10-03 12:37:04,999 : Generating sentence embeddings\n",
      "2020-10-03 12:37:05,212 : Generated sentence embeddings\n",
      "2020-10-03 12:37:05,212 : Training pytorch-MLP-nhid0-rmsprop-bs128 with (inner) 5-fold cross-validation\n",
      "2020-10-03 12:37:09,426 : Best param found at split 1: l2reg = 1e-05                 with score 99.6\n",
      "2020-10-03 12:37:13,887 : Best param found at split 2: l2reg = 1e-05                 with score 99.6\n",
      "2020-10-03 12:37:18,275 : Best param found at split 3: l2reg = 1e-05                 with score 99.6\n",
      "2020-10-03 12:37:22,691 : Best param found at split 4: l2reg = 1e-05                 with score 99.6\n",
      "2020-10-03 12:37:27,083 : Best param found at split 5: l2reg = 1e-05                 with score 99.6\n",
      "2020-10-03 12:37:27,314 : Dev acc : 99.6 Test acc : 99.6\n",
      "\n",
      "2020-10-03 12:37:27,316 : ***** Transfer task : SST Fine-Grained classification *****\n",
      "\n",
      "\n",
      "2020-10-03 12:37:32,005 : Found 17754 words with word vectors, out of         19539 words\n",
      "2020-10-03 12:37:32,102 : Computing embedding for train\n",
      "2020-10-03 12:37:32,455 : Computed train embeddings\n",
      "2020-10-03 12:37:32,456 : Computing embedding for dev\n",
      "2020-10-03 12:37:32,504 : Computed dev embeddings\n",
      "2020-10-03 12:37:32,504 : Computing embedding for test\n",
      "2020-10-03 12:37:32,596 : Computed test embeddings\n",
      "2020-10-03 12:37:32,596 : Training pytorch-MLP-nhid0-rmsprop-bs128 with standard validation..\n",
      "2020-10-03 12:37:35,291 : [('reg:1e-05', 41.33), ('reg:0.0001', 41.33), ('reg:0.001', 40.96), ('reg:0.01', 38.24)]\n",
      "2020-10-03 12:37:35,291 : Validation : best param found is reg = 1e-05 with score             41.33\n",
      "2020-10-03 12:37:35,292 : Evaluating...\n",
      "2020-10-03 12:37:36,090 : \n",
      "Dev acc : 41.33 Test acc : 41.63 for             SST Fine-Grained classification\n",
      "\n",
      "2020-10-03 12:37:36,092 : ***** Transfer task : TREC *****\n",
      "\n",
      "\n",
      "2020-10-03 12:37:38,722 : Found 5867 words with word vectors, out of         9779 words\n",
      "2020-10-03 12:37:38,886 : Computed train embeddings\n",
      "2020-10-03 12:37:38,897 : Computed test embeddings\n",
      "2020-10-03 12:37:38,897 : Training pytorch-MLP-nhid0-rmsprop-bs128 with 5-fold cross-validation\n",
      "2020-10-03 12:37:48,125 : [('reg:1e-05', 61.85), ('reg:0.0001', 61.68), ('reg:0.001', 61.13), ('reg:0.01', 56.46)]\n",
      "2020-10-03 12:37:48,126 : Cross-validation : best param found is reg = 1e-05             with score 61.85\n",
      "2020-10-03 12:37:48,126 : Evaluating...\n",
      "2020-10-03 12:37:48,613 : \n",
      "Dev acc : 61.85 Test acc : 63.8             for TREC\n",
      "\n",
      "2020-10-03 12:37:48,615 : ***** Transfer task : MRPC *****\n",
      "\n",
      "\n",
      "2020-10-03 12:37:51,698 : Found 11862 words with word vectors, out of         19556 words\n",
      "2020-10-03 12:37:51,715 : Computing embedding for train\n",
      "2020-10-03 12:37:52,071 : Computed train embeddings\n",
      "2020-10-03 12:37:52,072 : Computing embedding for test\n",
      "2020-10-03 12:37:52,208 : Computed test embeddings\n",
      "2020-10-03 12:37:52,223 : Training pytorch-MLP-nhid0-rmsprop-bs128 with 5-fold cross-validation\n",
      "2020-10-03 12:37:57,441 : [('reg:1e-05', 72.33), ('reg:0.0001', 72.47), ('reg:0.001', 71.88), ('reg:0.01', 70.83)]\n",
      "2020-10-03 12:37:57,442 : Cross-validation : best param found is reg = 0.0001             with score 72.47\n",
      "2020-10-03 12:37:57,442 : Evaluating...\n",
      "2020-10-03 12:37:57,745 : Dev acc : 72.47 Test acc 70.32; Test F1 78.03 for MRPC.\n",
      "\n",
      "2020-10-03 12:37:57,748 : ***** Transfer task : SICK-Entailment*****\n",
      "\n",
      "\n",
      "2020-10-03 12:38:00,106 : Found 2279 words with word vectors, out of         2414 words\n",
      "2020-10-03 12:38:00,124 : Computing embedding for train\n",
      "2020-10-03 12:38:00,324 : Computed train embeddings\n",
      "2020-10-03 12:38:00,325 : Computing embedding for dev\n",
      "2020-10-03 12:38:00,349 : Computed dev embeddings\n",
      "2020-10-03 12:38:00,350 : Computing embedding for test\n",
      "2020-10-03 12:38:00,570 : Computed test embeddings\n",
      "2020-10-03 12:38:00,596 : Training pytorch-MLP-nhid0-rmsprop-bs128 with standard validation..\n",
      "2020-10-03 12:38:02,275 : [('reg:1e-05', 77.2), ('reg:0.0001', 77.4), ('reg:0.001', 76.2), ('reg:0.01', 70.8)]\n",
      "2020-10-03 12:38:02,276 : Validation : best param found is reg = 0.0001 with score             77.4\n",
      "2020-10-03 12:38:02,277 : Evaluating...\n",
      "2020-10-03 12:38:02,726 : \n",
      "Dev acc : 77.4 Test acc : 76.58 for                        SICK entailment\n",
      "\n",
      "2020-10-03 12:38:02,732 : \n",
      "\n",
      "***** Transfer task : STSBenchmark*****\n",
      "\n",
      "\n",
      "2020-10-03 12:38:06,021 : Found 14826 words with word vectors, out of         15891 words\n",
      "2020-10-03 12:38:06,028 : Computing embedding for train\n",
      "2020-10-03 12:38:06,343 : Computed train embeddings\n",
      "2020-10-03 12:38:06,344 : Computing embedding for dev\n",
      "2020-10-03 12:38:06,436 : Computed dev embeddings\n",
      "2020-10-03 12:38:06,437 : Computing embedding for test\n",
      "2020-10-03 12:38:06,513 : Computed test embeddings\n",
      "2020-10-03 12:38:22,961 : Dev : Pearson 0.7130920318196328\n",
      "2020-10-03 12:38:22,961 : Test : Pearson 0.638725486903611 Spearman 0.6165328104082263 MSE 1.680423082203129                        for SICK Relatedness\n",
      "\n"
     ]
    },
    {
     "name": "stdout",
     "output_type": "stream",
     "text": [
      "{'MR': {'devacc': 62.85, 'acc': 52.67, 'ndev': 74, 'ntest': 74}, 'CR': {'devacc': 77.4, 'acc': 75.87, 'ndev': 3775, 'ntest': 3775}, 'MPQA': {'devacc': 86.58, 'acc': 86.46, 'ndev': 10606, 'ntest': 10606}, 'SUBJ': {'devacc': 99.6, 'acc': 99.6, 'ndev': 5020, 'ntest': 5020}, 'SST5': {'devacc': 41.33, 'acc': 41.63, 'ndev': 1101, 'ntest': 2210}, 'TREC': {'devacc': 61.85, 'acc': 63.8, 'ndev': 5452, 'ntest': 500}, 'MRPC': {'devacc': 72.47, 'acc': 70.32, 'f1': 78.03, 'ndev': 4076, 'ntest': 1725}, 'SICKEntailment': {'devacc': 77.4, 'acc': 76.58, 'ndev': 500, 'ntest': 4927}, 'STSBenchmark': {'devpearson': 0.7130920318196328, 'pearson': 0.638725486903611, 'spearman': 0.6165328104082263, 'mse': 1.680423082203129, 'yhat': array([2.20007585, 1.10387489, 2.21041052, ..., 3.65456153, 3.55968431,\n",
      "       3.0629672 ]), 'ndev': 1500, 'ntest': 1379}}\n"
     ]
    }
   ],
   "source": [
    "# Algo-200D \n",
    "%run examples/bow_v2.py"
   ]
  },
  {
   "cell_type": "code",
   "execution_count": 16,
   "metadata": {
    "scrolled": true
   },
   "outputs": [
    {
     "name": "stderr",
     "output_type": "stream",
     "text": [
      "2020-10-03 12:38:52,413 : ***** Transfer task : MR *****\n",
      "\n",
      "\n",
      "2020-10-03 12:38:55,003 : Found 718 words with word vectors, out of         735 words\n",
      "2020-10-03 12:38:55,004 : Generating sentence embeddings\n",
      "2020-10-03 12:38:55,007 : Generated sentence embeddings\n",
      "2020-10-03 12:38:55,008 : Training pytorch-MLP-nhid0-rmsprop-bs128 with (inner) 5-fold cross-validation\n",
      "2020-10-03 12:38:55,277 : Best param found at split 1: l2reg = 1e-05                 with score 62.88\n",
      "2020-10-03 12:38:55,539 : Best param found at split 2: l2reg = 1e-05                 with score 55.91\n",
      "2020-10-03 12:38:55,792 : Best param found at split 3: l2reg = 1e-05                 with score 57.58\n",
      "2020-10-03 12:38:56,056 : Best param found at split 4: l2reg = 1e-05                 with score 64.55\n",
      "2020-10-03 12:38:56,294 : Best param found at split 5: l2reg = 1e-05                 with score 56.67\n",
      "2020-10-03 12:38:56,304 : Dev acc : 59.52 Test acc : 46.19\n",
      "\n",
      "2020-10-03 12:38:56,305 : ***** Transfer task : CR *****\n",
      "\n",
      "\n",
      "2020-10-03 12:38:58,080 : Found 5282 words with word vectors, out of         5677 words\n",
      "2020-10-03 12:38:58,110 : Generating sentence embeddings\n",
      "2020-10-03 12:38:58,276 : Generated sentence embeddings\n",
      "2020-10-03 12:38:58,277 : Training pytorch-MLP-nhid0-rmsprop-bs128 with (inner) 5-fold cross-validation\n",
      "2020-10-03 12:39:02,920 : Best param found at split 1: l2reg = 1e-05                 with score 77.19\n",
      "2020-10-03 12:39:07,428 : Best param found at split 2: l2reg = 0.001                 with score 77.45\n",
      "2020-10-03 12:39:12,503 : Best param found at split 3: l2reg = 1e-05                 with score 77.75\n",
      "2020-10-03 12:39:17,892 : Best param found at split 4: l2reg = 1e-05                 with score 78.54\n",
      "2020-10-03 12:39:23,078 : Best param found at split 5: l2reg = 1e-05                 with score 77.38\n",
      "2020-10-03 12:39:23,268 : Dev acc : 77.66 Test acc : 75.81\n",
      "\n",
      "2020-10-03 12:39:23,269 : ***** Transfer task : MPQA *****\n",
      "\n",
      "\n",
      "2020-10-03 12:39:25,156 : Found 6195 words with word vectors, out of         6241 words\n",
      "2020-10-03 12:39:25,169 : Generating sentence embeddings\n",
      "2020-10-03 12:39:25,340 : Generated sentence embeddings\n",
      "2020-10-03 12:39:25,342 : Training pytorch-MLP-nhid0-rmsprop-bs128 with (inner) 5-fold cross-validation\n",
      "2020-10-03 12:39:37,133 : Best param found at split 1: l2reg = 0.001                 with score 86.85\n",
      "2020-10-03 12:39:49,047 : Best param found at split 2: l2reg = 1e-05                 with score 86.22\n",
      "2020-10-03 12:40:00,469 : Best param found at split 3: l2reg = 1e-05                 with score 86.74\n",
      "2020-10-03 12:40:12,906 : Best param found at split 4: l2reg = 0.0001                 with score 86.51\n",
      "2020-10-03 12:40:25,366 : Best param found at split 5: l2reg = 0.001                 with score 86.27\n",
      "2020-10-03 12:40:26,129 : Dev acc : 86.52 Test acc : 86.75\n",
      "\n",
      "2020-10-03 12:40:26,132 : ***** Transfer task : SUBJ *****\n",
      "\n",
      "\n",
      "2020-10-03 12:40:28,850 : Found 13843 words with word vectors, out of         14847 words\n",
      "2020-10-03 12:40:28,870 : Generating sentence embeddings\n",
      "2020-10-03 12:40:29,153 : Generated sentence embeddings\n",
      "2020-10-03 12:40:29,154 : Training pytorch-MLP-nhid0-rmsprop-bs128 with (inner) 5-fold cross-validation\n",
      "2020-10-03 12:40:33,312 : Best param found at split 1: l2reg = 1e-05                 with score 99.6\n",
      "2020-10-03 12:40:37,758 : Best param found at split 2: l2reg = 1e-05                 with score 99.6\n",
      "2020-10-03 12:40:42,203 : Best param found at split 3: l2reg = 1e-05                 with score 99.6\n",
      "2020-10-03 12:40:46,701 : Best param found at split 4: l2reg = 1e-05                 with score 99.6\n",
      "2020-10-03 12:40:51,141 : Best param found at split 5: l2reg = 1e-05                 with score 99.6\n",
      "2020-10-03 12:40:51,385 : Dev acc : 99.6 Test acc : 99.6\n",
      "\n",
      "2020-10-03 12:40:51,387 : ***** Transfer task : SST Fine-Grained classification *****\n",
      "\n",
      "\n",
      "2020-10-03 12:40:54,667 : Found 17754 words with word vectors, out of         19539 words\n",
      "2020-10-03 12:40:54,711 : Computing embedding for train\n",
      "2020-10-03 12:40:55,095 : Computed train embeddings\n",
      "2020-10-03 12:40:55,096 : Computing embedding for dev\n",
      "2020-10-03 12:40:55,147 : Computed dev embeddings\n",
      "2020-10-03 12:40:55,148 : Computing embedding for test\n",
      "2020-10-03 12:40:55,248 : Computed test embeddings\n",
      "2020-10-03 12:40:55,249 : Training pytorch-MLP-nhid0-rmsprop-bs128 with standard validation..\n",
      "2020-10-03 12:40:57,890 : [('reg:1e-05', 40.96), ('reg:0.0001', 41.33), ('reg:0.001', 40.15), ('reg:0.01', 38.24)]\n",
      "2020-10-03 12:40:57,891 : Validation : best param found is reg = 0.0001 with score             41.33\n",
      "2020-10-03 12:40:57,892 : Evaluating...\n",
      "2020-10-03 12:40:58,602 : \n",
      "Dev acc : 41.33 Test acc : 40.77 for             SST Fine-Grained classification\n",
      "\n",
      "2020-10-03 12:40:58,605 : ***** Transfer task : TREC *****\n",
      "\n",
      "\n",
      "2020-10-03 12:41:00,470 : Found 5867 words with word vectors, out of         9779 words\n",
      "2020-10-03 12:41:00,654 : Computed train embeddings\n",
      "2020-10-03 12:41:00,666 : Computed test embeddings\n",
      "2020-10-03 12:41:00,667 : Training pytorch-MLP-nhid0-rmsprop-bs128 with 5-fold cross-validation\n",
      "2020-10-03 12:41:09,252 : [('reg:1e-05', 61.89), ('reg:0.0001', 62.45), ('reg:0.001', 61.21), ('reg:0.01', 55.43)]\n",
      "2020-10-03 12:41:09,253 : Cross-validation : best param found is reg = 0.0001             with score 62.45\n",
      "2020-10-03 12:41:09,253 : Evaluating...\n",
      "2020-10-03 12:41:09,691 : \n",
      "Dev acc : 62.45 Test acc : 68.4             for TREC\n",
      "\n",
      "2020-10-03 12:41:09,694 : ***** Transfer task : MRPC *****\n",
      "\n",
      "\n",
      "2020-10-03 12:41:12,258 : Found 11862 words with word vectors, out of         19556 words\n",
      "2020-10-03 12:41:12,268 : Computing embedding for train\n",
      "2020-10-03 12:41:12,613 : Computed train embeddings\n",
      "2020-10-03 12:41:12,614 : Computing embedding for test\n",
      "2020-10-03 12:41:12,756 : Computed test embeddings\n",
      "2020-10-03 12:41:12,780 : Training pytorch-MLP-nhid0-rmsprop-bs128 with 5-fold cross-validation\n",
      "2020-10-03 12:41:18,286 : [('reg:1e-05', 72.79), ('reg:0.0001', 72.69), ('reg:0.001', 72.57), ('reg:0.01', 71.69)]\n",
      "2020-10-03 12:41:18,286 : Cross-validation : best param found is reg = 1e-05             with score 72.79\n",
      "2020-10-03 12:41:18,287 : Evaluating...\n",
      "2020-10-03 12:41:18,598 : Dev acc : 72.79 Test acc 72.58; Test F1 81.83 for MRPC.\n",
      "\n",
      "2020-10-03 12:41:18,603 : ***** Transfer task : SICK-Entailment*****\n",
      "\n",
      "\n",
      "2020-10-03 12:41:20,157 : Found 2279 words with word vectors, out of         2414 words\n",
      "2020-10-03 12:41:20,194 : Computing embedding for train\n",
      "2020-10-03 12:41:20,416 : Computed train embeddings\n",
      "2020-10-03 12:41:20,416 : Computing embedding for dev\n",
      "2020-10-03 12:41:20,443 : Computed dev embeddings\n",
      "2020-10-03 12:41:20,443 : Computing embedding for test\n",
      "2020-10-03 12:41:20,684 : Computed test embeddings\n",
      "2020-10-03 12:41:20,725 : Training pytorch-MLP-nhid0-rmsprop-bs128 with standard validation..\n",
      "2020-10-03 12:41:22,440 : [('reg:1e-05', 79.6), ('reg:0.0001', 79.0), ('reg:0.001', 79.2), ('reg:0.01', 74.0)]\n",
      "2020-10-03 12:41:22,441 : Validation : best param found is reg = 1e-05 with score             79.6\n",
      "2020-10-03 12:41:22,441 : Evaluating...\n",
      "2020-10-03 12:41:22,951 : \n",
      "Dev acc : 79.6 Test acc : 77.19 for                        SICK entailment\n",
      "\n",
      "2020-10-03 12:41:22,959 : \n",
      "\n",
      "***** Transfer task : STSBenchmark*****\n",
      "\n",
      "\n",
      "2020-10-03 12:41:25,819 : Found 14826 words with word vectors, out of         15891 words\n",
      "2020-10-03 12:41:25,822 : Computing embedding for train\n",
      "2020-10-03 12:41:26,169 : Computed train embeddings\n",
      "2020-10-03 12:41:26,169 : Computing embedding for dev\n",
      "2020-10-03 12:41:26,272 : Computed dev embeddings\n",
      "2020-10-03 12:41:26,272 : Computing embedding for test\n",
      "2020-10-03 12:41:26,355 : Computed test embeddings\n",
      "2020-10-03 12:41:45,892 : Dev : Pearson 0.719071043065479\n",
      "2020-10-03 12:41:45,893 : Test : Pearson 0.6577878484431064 Spearman 0.64533404011396 MSE 1.5440215111750561                        for SICK Relatedness\n",
      "\n"
     ]
    },
    {
     "name": "stdout",
     "output_type": "stream",
     "text": [
      "{'MR': {'devacc': 59.52, 'acc': 46.19, 'ndev': 74, 'ntest': 74}, 'CR': {'devacc': 77.66, 'acc': 75.81, 'ndev': 3775, 'ntest': 3775}, 'MPQA': {'devacc': 86.52, 'acc': 86.75, 'ndev': 10606, 'ntest': 10606}, 'SUBJ': {'devacc': 99.6, 'acc': 99.6, 'ndev': 5020, 'ntest': 5020}, 'SST5': {'devacc': 41.33, 'acc': 40.77, 'ndev': 1101, 'ntest': 2210}, 'TREC': {'devacc': 62.45, 'acc': 68.4, 'ndev': 5452, 'ntest': 500}, 'MRPC': {'devacc': 72.79, 'acc': 72.58, 'f1': 81.83, 'ndev': 4076, 'ntest': 1725}, 'SICKEntailment': {'devacc': 79.6, 'acc': 77.19, 'ndev': 500, 'ntest': 4927}, 'STSBenchmark': {'devpearson': 0.719071043065479, 'pearson': 0.6577878484431064, 'spearman': 0.64533404011396, 'mse': 1.5440215111750561, 'yhat': array([2.02191319, 1.95605692, 2.20550147, ..., 3.49294817, 3.38072623,\n",
      "       3.21779431]), 'ndev': 1500, 'ntest': 1379}}\n"
     ]
    }
   ],
   "source": [
    "# Glove-300D\n",
    "%run examples/bow_v2.py"
   ]
  },
  {
   "cell_type": "code",
   "execution_count": 31,
   "metadata": {},
   "outputs": [
    {
     "data": {
      "text/html": [
       "<div>\n",
       "<style scoped>\n",
       "    .dataframe tbody tr th:only-of-type {\n",
       "        vertical-align: middle;\n",
       "    }\n",
       "\n",
       "    .dataframe tbody tr th {\n",
       "        vertical-align: top;\n",
       "    }\n",
       "\n",
       "    .dataframe thead th {\n",
       "        text-align: right;\n",
       "    }\n",
       "</style>\n",
       "<table border=\"1\" class=\"dataframe\">\n",
       "  <thead>\n",
       "    <tr style=\"text-align: right;\">\n",
       "      <th></th>\n",
       "      <th>MR</th>\n",
       "      <th>CR</th>\n",
       "      <th>MPQA</th>\n",
       "      <th>SUBJ</th>\n",
       "      <th>SST-FG</th>\n",
       "      <th>TREC</th>\n",
       "      <th>MRPC</th>\n",
       "      <th>SICK-E</th>\n",
       "      <th>STS-B</th>\n",
       "    </tr>\n",
       "  </thead>\n",
       "  <tbody>\n",
       "    <tr>\n",
       "      <th>Glove-300D</th>\n",
       "      <td>46.19</td>\n",
       "      <td>75.81</td>\n",
       "      <td>86.75</td>\n",
       "      <td>99.6</td>\n",
       "      <td>40.7</td>\n",
       "      <td>68.4</td>\n",
       "      <td>72.58</td>\n",
       "      <td>77.19</td>\n",
       "      <td>65.78</td>\n",
       "    </tr>\n",
       "    <tr>\n",
       "      <th>Algo-50D</th>\n",
       "      <td>59.43</td>\n",
       "      <td>70.28</td>\n",
       "      <td>81.79</td>\n",
       "      <td>99.6</td>\n",
       "      <td>37.56</td>\n",
       "      <td>52.6</td>\n",
       "      <td>71.71</td>\n",
       "      <td>71.48</td>\n",
       "      <td>59.8</td>\n",
       "    </tr>\n",
       "    <tr>\n",
       "      <th>Algo-100D</th>\n",
       "      <td>63.43</td>\n",
       "      <td>73.94</td>\n",
       "      <td>83.29</td>\n",
       "      <td>99.6</td>\n",
       "      <td>37.92</td>\n",
       "      <td>57.6</td>\n",
       "      <td>71.59</td>\n",
       "      <td>75.95</td>\n",
       "      <td>61.9</td>\n",
       "    </tr>\n",
       "    <tr>\n",
       "      <th>Algo-150D</th>\n",
       "      <td>49.91</td>\n",
       "      <td>74.78</td>\n",
       "      <td>84.72</td>\n",
       "      <td>99.6</td>\n",
       "      <td>40.23</td>\n",
       "      <td>60.4</td>\n",
       "      <td>71.94</td>\n",
       "      <td>75.89</td>\n",
       "      <td>64.5</td>\n",
       "    </tr>\n",
       "    <tr>\n",
       "      <th>Algo-200D</th>\n",
       "      <td>52.67</td>\n",
       "      <td>75.87</td>\n",
       "      <td>86.46</td>\n",
       "      <td>99.6</td>\n",
       "      <td>41.63</td>\n",
       "      <td>63.8</td>\n",
       "      <td>70.32</td>\n",
       "      <td>76.58</td>\n",
       "      <td>63.9</td>\n",
       "    </tr>\n",
       "  </tbody>\n",
       "</table>\n",
       "</div>"
      ],
      "text/plain": [
       "               MR     CR   MPQA  SUBJ SST-FG  TREC   MRPC SICK-E  STS-B\n",
       "Glove-300D  46.19  75.81  86.75  99.6   40.7  68.4  72.58  77.19  65.78\n",
       "Algo-50D    59.43  70.28  81.79  99.6  37.56  52.6  71.71  71.48   59.8\n",
       "Algo-100D   63.43  73.94  83.29  99.6  37.92  57.6  71.59  75.95   61.9\n",
       "Algo-150D   49.91  74.78  84.72  99.6  40.23  60.4  71.94  75.89   64.5\n",
       "Algo-200D   52.67  75.87  86.46  99.6  41.63  63.8  70.32  76.58   63.9"
      ]
     },
     "execution_count": 31,
     "metadata": {},
     "output_type": "execute_result"
    }
   ],
   "source": [
    "import pandas as pd\n",
    "\n",
    "data = {'Model':['MR', 'CR', 'MPQA', 'SUBJ','SST-FG', 'TREC', 'MRPC', 'SICK-E', 'STS-B'],\n",
    "        'Glove-300D':[46.19, 75.81, 86.75, 99.6, 40.7, 68.4, 72.58, 77.19, 65.78],\n",
    "        'Algo-50D':[59.43, 70.28, 81.79, 99.6, 37.56, 52.6, 71.71, 71.48, 59.8],\n",
    "        'Algo-100D':[63.43, 73.94, 83.29, 99.6, 37.92, 57.6, 71.59, 75.95, 61.9],\n",
    "        'Algo-150D':[49.91, 74.78, 84.72, 99.6, 40.23, 60.4, 71.94, 75.89, 64.5],\n",
    "        'Algo-200D':[52.67, 75.87, 86.46, 99.6, 41.63, 63.8, 70.32, 76.58, 63.9]}\n",
    "\n",
    "df = pd.DataFrame(data=data).T\n",
    "header = df.iloc[0]\n",
    "\n",
    "df = df.rename(columns=header)\n",
    "df.drop(df.index[0])"
   ]
  },
  {
   "cell_type": "markdown",
   "metadata": {},
   "source": [
    "#### Textual Classification Task - FastText"
   ]
  },
  {
   "cell_type": "code",
   "execution_count": 34,
   "metadata": {
    "scrolled": true
   },
   "outputs": [
    {
     "name": "stderr",
     "output_type": "stream",
     "text": [
      "2020-10-03 13:01:07,325 : ***** Transfer task : MR *****\n",
      "\n",
      "\n",
      "2020-10-03 13:01:12,720 : Found 684 words with word vectors, out of         735 words\n",
      "2020-10-03 13:01:12,721 : Generating sentence embeddings\n",
      "2020-10-03 13:01:12,724 : Generated sentence embeddings\n",
      "2020-10-03 13:01:12,725 : Training pytorch-MLP-nhid0-rmsprop-bs128 with (inner) 5-fold cross-validation\n",
      "2020-10-03 13:01:12,975 : Best param found at split 1: l2reg = 0.01                 with score 64.7\n",
      "2020-10-03 13:01:13,199 : Best param found at split 2: l2reg = 1e-05                 with score 64.39\n",
      "2020-10-03 13:01:13,438 : Best param found at split 3: l2reg = 1e-05                 with score 55.91\n",
      "2020-10-03 13:01:13,662 : Best param found at split 4: l2reg = 1e-05                 with score 67.73\n",
      "2020-10-03 13:01:13,877 : Best param found at split 5: l2reg = 0.001                 with score 63.33\n",
      "2020-10-03 13:01:13,886 : Dev acc : 63.21 Test acc : 54.09\n",
      "\n",
      "2020-10-03 13:01:13,888 : ***** Transfer task : CR *****\n",
      "\n",
      "\n",
      "2020-10-03 13:01:19,485 : Found 4964 words with word vectors, out of         5677 words\n",
      "2020-10-03 13:01:19,488 : Generating sentence embeddings\n",
      "2020-10-03 13:01:19,602 : Generated sentence embeddings\n",
      "2020-10-03 13:01:19,602 : Training pytorch-MLP-nhid0-rmsprop-bs128 with (inner) 5-fold cross-validation\n",
      "2020-10-03 13:01:24,690 : Best param found at split 1: l2reg = 1e-05                 with score 70.7\n",
      "2020-10-03 13:01:29,640 : Best param found at split 2: l2reg = 0.0001                 with score 70.43\n",
      "2020-10-03 13:01:35,062 : Best param found at split 3: l2reg = 0.0001                 with score 70.53\n",
      "2020-10-03 13:01:40,532 : Best param found at split 4: l2reg = 1e-05                 with score 70.73\n",
      "2020-10-03 13:01:46,219 : Best param found at split 5: l2reg = 1e-05                 with score 70.07\n",
      "2020-10-03 13:01:46,392 : Dev acc : 70.49 Test acc : 69.3\n",
      "\n",
      "2020-10-03 13:01:46,393 : ***** Transfer task : MPQA *****\n",
      "\n",
      "\n",
      "2020-10-03 13:01:52,052 : Found 6171 words with word vectors, out of         6241 words\n",
      "2020-10-03 13:01:52,212 : Generating sentence embeddings\n",
      "2020-10-03 13:01:52,362 : Generated sentence embeddings\n",
      "2020-10-03 13:01:52,363 : Training pytorch-MLP-nhid0-rmsprop-bs128 with (inner) 5-fold cross-validation\n",
      "2020-10-03 13:02:03,456 : Best param found at split 1: l2reg = 0.0001                 with score 80.4\n",
      "2020-10-03 13:02:16,433 : Best param found at split 2: l2reg = 0.0001                 with score 80.58\n",
      "2020-10-03 13:02:29,327 : Best param found at split 3: l2reg = 1e-05                 with score 80.57\n",
      "2020-10-03 13:02:41,275 : Best param found at split 4: l2reg = 0.0001                 with score 80.49\n",
      "2020-10-03 13:02:53,885 : Best param found at split 5: l2reg = 1e-05                 with score 80.59\n",
      "2020-10-03 13:02:54,650 : Dev acc : 80.53 Test acc : 80.56\n",
      "\n",
      "2020-10-03 13:02:54,652 : ***** Transfer task : SUBJ *****\n",
      "\n",
      "\n",
      "2020-10-03 13:03:00,536 : Found 13459 words with word vectors, out of         14847 words\n",
      "2020-10-03 13:03:00,544 : Generating sentence embeddings\n",
      "2020-10-03 13:03:00,725 : Generated sentence embeddings\n",
      "2020-10-03 13:03:00,726 : Training pytorch-MLP-nhid0-rmsprop-bs128 with (inner) 5-fold cross-validation\n",
      "2020-10-03 13:03:04,696 : Best param found at split 1: l2reg = 1e-05                 with score 99.6\n",
      "2020-10-03 13:03:08,915 : Best param found at split 2: l2reg = 1e-05                 with score 99.6\n",
      "2020-10-03 13:03:13,163 : Best param found at split 3: l2reg = 1e-05                 with score 99.6\n",
      "2020-10-03 13:03:17,378 : Best param found at split 4: l2reg = 1e-05                 with score 99.6\n",
      "2020-10-03 13:03:21,577 : Best param found at split 5: l2reg = 1e-05                 with score 99.6\n",
      "2020-10-03 13:03:21,804 : Dev acc : 99.6 Test acc : 99.6\n",
      "\n",
      "2020-10-03 13:03:21,805 : ***** Transfer task : SST Fine-Grained classification *****\n",
      "\n",
      "\n",
      "2020-10-03 13:03:28,142 : Found 16905 words with word vectors, out of         19539 words\n",
      "2020-10-03 13:03:28,151 : Computing embedding for train\n",
      "2020-10-03 13:03:28,411 : Computed train embeddings\n",
      "2020-10-03 13:03:28,411 : Computing embedding for dev\n",
      "2020-10-03 13:03:28,449 : Computed dev embeddings\n",
      "2020-10-03 13:03:28,450 : Computing embedding for test\n",
      "2020-10-03 13:03:28,520 : Computed test embeddings\n",
      "2020-10-03 13:03:28,521 : Training pytorch-MLP-nhid0-rmsprop-bs128 with standard validation..\n",
      "2020-10-03 13:03:31,309 : [('reg:1e-05', 36.24), ('reg:0.0001', 35.88), ('reg:0.001', 35.79), ('reg:0.01', 33.06)]\n",
      "2020-10-03 13:03:31,310 : Validation : best param found is reg = 1e-05 with score             36.24\n",
      "2020-10-03 13:03:31,310 : Evaluating...\n",
      "2020-10-03 13:03:31,918 : \n",
      "Dev acc : 36.24 Test acc : 37.38 for             SST Fine-Grained classification\n",
      "\n",
      "2020-10-03 13:03:31,919 : ***** Transfer task : TREC *****\n",
      "\n",
      "\n",
      "2020-10-03 13:03:37,926 : Found 5541 words with word vectors, out of         9779 words\n",
      "2020-10-03 13:03:38,056 : Computed train embeddings\n",
      "2020-10-03 13:03:38,065 : Computed test embeddings\n",
      "2020-10-03 13:03:38,066 : Training pytorch-MLP-nhid0-rmsprop-bs128 with 5-fold cross-validation\n",
      "2020-10-03 13:03:48,174 : [('reg:1e-05', 50.48), ('reg:0.0001', 50.84), ('reg:0.001', 49.39), ('reg:0.01', 47.63)]\n",
      "2020-10-03 13:03:48,175 : Cross-validation : best param found is reg = 0.0001             with score 50.84\n",
      "2020-10-03 13:03:48,175 : Evaluating...\n",
      "2020-10-03 13:03:48,677 : \n",
      "Dev acc : 50.84 Test acc : 50.8             for TREC\n",
      "\n",
      "2020-10-03 13:03:48,678 : ***** Transfer task : MRPC *****\n",
      "\n",
      "\n",
      "2020-10-03 13:03:54,840 : Found 9751 words with word vectors, out of         19556 words\n",
      "2020-10-03 13:03:54,844 : Computing embedding for train\n",
      "2020-10-03 13:03:55,089 : Computed train embeddings\n",
      "2020-10-03 13:03:55,090 : Computing embedding for test\n",
      "2020-10-03 13:03:55,191 : Computed test embeddings\n",
      "2020-10-03 13:03:55,196 : Training pytorch-MLP-nhid0-rmsprop-bs128 with 5-fold cross-validation\n",
      "2020-10-03 13:04:01,211 : [('reg:1e-05', 71.03), ('reg:0.0001', 71.0), ('reg:0.001', 70.04), ('reg:0.01', 68.3)]\n",
      "2020-10-03 13:04:01,212 : Cross-validation : best param found is reg = 1e-05             with score 71.03\n",
      "2020-10-03 13:04:01,212 : Evaluating...\n",
      "2020-10-03 13:04:01,551 : Dev acc : 71.03 Test acc 70.43; Test F1 79.52 for MRPC.\n",
      "\n",
      "2020-10-03 13:04:01,552 : ***** Transfer task : SICK-Entailment*****\n",
      "\n",
      "\n",
      "2020-10-03 13:04:07,197 : Found 2279 words with word vectors, out of         2414 words\n",
      "2020-10-03 13:04:07,202 : Computing embedding for train\n",
      "2020-10-03 13:04:07,386 : Computed train embeddings\n",
      "2020-10-03 13:04:07,386 : Computing embedding for dev\n",
      "2020-10-03 13:04:07,409 : Computed dev embeddings\n",
      "2020-10-03 13:04:07,409 : Computing embedding for test\n",
      "2020-10-03 13:04:07,627 : Computed test embeddings\n",
      "2020-10-03 13:04:07,635 : Training pytorch-MLP-nhid0-rmsprop-bs128 with standard validation..\n",
      "2020-10-03 13:04:09,388 : [('reg:1e-05', 73.8), ('reg:0.0001', 73.2), ('reg:0.001', 65.6), ('reg:0.01', 60.8)]\n",
      "2020-10-03 13:04:09,389 : Validation : best param found is reg = 1e-05 with score             73.8\n",
      "2020-10-03 13:04:09,389 : Evaluating...\n",
      "2020-10-03 13:04:09,950 : \n",
      "Dev acc : 73.8 Test acc : 71.97 for                        SICK entailment\n",
      "\n",
      "2020-10-03 13:04:09,952 : \n",
      "\n",
      "***** Transfer task : STSBenchmark*****\n",
      "\n",
      "\n",
      "2020-10-03 13:04:15,907 : Found 13502 words with word vectors, out of         15891 words\n",
      "2020-10-03 13:04:15,909 : Computing embedding for train\n",
      "2020-10-03 13:04:16,181 : Computed train embeddings\n",
      "2020-10-03 13:04:16,182 : Computing embedding for dev\n",
      "2020-10-03 13:04:16,259 : Computed dev embeddings\n",
      "2020-10-03 13:04:16,260 : Computing embedding for test\n",
      "2020-10-03 13:04:16,323 : Computed test embeddings\n",
      "2020-10-03 13:04:53,105 : Dev : Pearson 0.6541618511815563\n",
      "2020-10-03 13:04:53,105 : Test : Pearson 0.5929143455389454 Spearman 0.5667648704887971 MSE 1.7530587115342142                        for SICK Relatedness\n",
      "\n"
     ]
    },
    {
     "name": "stdout",
     "output_type": "stream",
     "text": [
      "{'MR': {'devacc': 63.21, 'acc': 54.09, 'ndev': 74, 'ntest': 74}, 'CR': {'devacc': 70.49, 'acc': 69.3, 'ndev': 3775, 'ntest': 3775}, 'MPQA': {'devacc': 80.53, 'acc': 80.56, 'ndev': 10606, 'ntest': 10606}, 'SUBJ': {'devacc': 99.6, 'acc': 99.6, 'ndev': 5020, 'ntest': 5020}, 'SST5': {'devacc': 36.24, 'acc': 37.38, 'ndev': 1101, 'ntest': 2210}, 'TREC': {'devacc': 50.84, 'acc': 50.8, 'ndev': 5452, 'ntest': 500}, 'MRPC': {'devacc': 71.03, 'acc': 70.43, 'f1': 79.52, 'ndev': 4076, 'ntest': 1725}, 'SICKEntailment': {'devacc': 73.8, 'acc': 71.97, 'ndev': 500, 'ntest': 4927}, 'STSBenchmark': {'devpearson': 0.6541618511815563, 'pearson': 0.5929143455389454, 'spearman': 0.5667648704887971, 'mse': 1.7530587115342142, 'yhat': array([2.3470209 , 1.32791534, 2.00367451, ..., 3.81528889, 3.87559639,\n",
      "       3.34307055]), 'ndev': 1500, 'ntest': 1379}}\n"
     ]
    }
   ],
   "source": [
    "# Algo-50D \n",
    "%run examples/bow_v2.py"
   ]
  },
  {
   "cell_type": "code",
   "execution_count": 35,
   "metadata": {},
   "outputs": [
    {
     "name": "stderr",
     "output_type": "stream",
     "text": [
      "2020-10-03 13:05:09,037 : ***** Transfer task : MR *****\n",
      "\n",
      "\n",
      "2020-10-03 13:05:17,260 : Found 684 words with word vectors, out of         735 words\n",
      "2020-10-03 13:05:17,261 : Generating sentence embeddings\n",
      "2020-10-03 13:05:17,264 : Generated sentence embeddings\n",
      "2020-10-03 13:05:17,265 : Training pytorch-MLP-nhid0-rmsprop-bs128 with (inner) 5-fold cross-validation\n",
      "2020-10-03 13:05:17,535 : Best param found at split 1: l2reg = 1e-05                 with score 57.73\n",
      "2020-10-03 13:05:17,784 : Best param found at split 2: l2reg = 1e-05                 with score 64.39\n",
      "2020-10-03 13:05:18,025 : Best param found at split 3: l2reg = 1e-05                 with score 62.73\n",
      "2020-10-03 13:05:18,264 : Best param found at split 4: l2reg = 0.001                 with score 64.39\n",
      "2020-10-03 13:05:18,482 : Best param found at split 5: l2reg = 1e-05                 with score 66.67\n",
      "2020-10-03 13:05:18,494 : Dev acc : 63.18 Test acc : 51.53\n",
      "\n",
      "2020-10-03 13:05:18,495 : ***** Transfer task : CR *****\n",
      "\n",
      "\n",
      "2020-10-03 13:05:26,977 : Found 4964 words with word vectors, out of         5677 words\n",
      "2020-10-03 13:05:26,980 : Generating sentence embeddings\n",
      "2020-10-03 13:05:27,095 : Generated sentence embeddings\n",
      "2020-10-03 13:05:27,095 : Training pytorch-MLP-nhid0-rmsprop-bs128 with (inner) 5-fold cross-validation\n",
      "2020-10-03 13:05:32,169 : Best param found at split 1: l2reg = 1e-05                 with score 74.37\n",
      "2020-10-03 13:05:36,954 : Best param found at split 2: l2reg = 0.0001                 with score 73.74\n",
      "2020-10-03 13:05:42,436 : Best param found at split 3: l2reg = 1e-05                 with score 73.64\n",
      "2020-10-03 13:05:47,833 : Best param found at split 4: l2reg = 1e-05                 with score 74.34\n",
      "2020-10-03 13:05:53,157 : Best param found at split 5: l2reg = 0.0001                 with score 74.11\n",
      "2020-10-03 13:05:53,403 : Dev acc : 74.04 Test acc : 73.01\n",
      "\n",
      "2020-10-03 13:05:53,404 : ***** Transfer task : MPQA *****\n",
      "\n",
      "\n",
      "2020-10-03 13:06:01,936 : Found 6171 words with word vectors, out of         6241 words\n",
      "2020-10-03 13:06:01,949 : Generating sentence embeddings\n",
      "2020-10-03 13:06:02,104 : Generated sentence embeddings\n",
      "2020-10-03 13:06:02,105 : Training pytorch-MLP-nhid0-rmsprop-bs128 with (inner) 5-fold cross-validation\n",
      "2020-10-03 13:06:12,170 : Best param found at split 1: l2reg = 0.0001                 with score 84.46\n",
      "2020-10-03 13:06:23,663 : Best param found at split 2: l2reg = 1e-05                 with score 84.02\n",
      "2020-10-03 13:06:34,971 : Best param found at split 3: l2reg = 1e-05                 with score 84.27\n",
      "2020-10-03 13:06:47,663 : Best param found at split 4: l2reg = 0.0001                 with score 84.67\n",
      "2020-10-03 13:07:00,365 : Best param found at split 5: l2reg = 1e-05                 with score 84.3\n",
      "2020-10-03 13:07:00,846 : Dev acc : 84.34 Test acc : 84.1\n",
      "\n",
      "2020-10-03 13:07:00,848 : ***** Transfer task : SUBJ *****\n",
      "\n",
      "\n",
      "2020-10-03 13:07:09,821 : Found 13459 words with word vectors, out of         14847 words\n",
      "2020-10-03 13:07:09,836 : Generating sentence embeddings\n",
      "2020-10-03 13:07:10,025 : Generated sentence embeddings\n",
      "2020-10-03 13:07:10,026 : Training pytorch-MLP-nhid0-rmsprop-bs128 with (inner) 5-fold cross-validation\n",
      "2020-10-03 13:07:14,098 : Best param found at split 1: l2reg = 1e-05                 with score 99.6\n",
      "2020-10-03 13:07:18,566 : Best param found at split 2: l2reg = 1e-05                 with score 99.6\n",
      "2020-10-03 13:07:22,867 : Best param found at split 3: l2reg = 1e-05                 with score 99.6\n",
      "2020-10-03 13:07:27,160 : Best param found at split 4: l2reg = 1e-05                 with score 99.6\n",
      "2020-10-03 13:07:31,512 : Best param found at split 5: l2reg = 1e-05                 with score 99.6\n",
      "2020-10-03 13:07:31,747 : Dev acc : 99.6 Test acc : 99.6\n",
      "\n",
      "2020-10-03 13:07:31,748 : ***** Transfer task : SST Fine-Grained classification *****\n",
      "\n",
      "\n",
      "2020-10-03 13:07:40,846 : Found 16905 words with word vectors, out of         19539 words\n",
      "2020-10-03 13:07:40,872 : Computing embedding for train\n",
      "2020-10-03 13:07:41,138 : Computed train embeddings\n",
      "2020-10-03 13:07:41,138 : Computing embedding for dev\n",
      "2020-10-03 13:07:41,176 : Computed dev embeddings\n",
      "2020-10-03 13:07:41,177 : Computing embedding for test\n",
      "2020-10-03 13:07:41,248 : Computed test embeddings\n",
      "2020-10-03 13:07:41,248 : Training pytorch-MLP-nhid0-rmsprop-bs128 with standard validation..\n",
      "2020-10-03 13:07:43,952 : [('reg:1e-05', 37.97), ('reg:0.0001', 37.78), ('reg:0.001', 37.51), ('reg:0.01', 34.24)]\n",
      "2020-10-03 13:07:43,953 : Validation : best param found is reg = 1e-05 with score             37.97\n",
      "2020-10-03 13:07:43,954 : Evaluating...\n",
      "2020-10-03 13:07:44,663 : \n",
      "Dev acc : 37.97 Test acc : 39.37 for             SST Fine-Grained classification\n",
      "\n",
      "2020-10-03 13:07:44,665 : ***** Transfer task : TREC *****\n",
      "\n",
      "\n",
      "2020-10-03 13:07:53,260 : Found 5541 words with word vectors, out of         9779 words\n",
      "2020-10-03 13:07:53,398 : Computed train embeddings\n",
      "2020-10-03 13:07:53,408 : Computed test embeddings\n",
      "2020-10-03 13:07:53,409 : Training pytorch-MLP-nhid0-rmsprop-bs128 with 5-fold cross-validation\n",
      "2020-10-03 13:08:02,662 : [('reg:1e-05', 57.92), ('reg:0.0001', 57.89), ('reg:0.001', 56.42), ('reg:0.01', 51.34)]\n",
      "2020-10-03 13:08:02,662 : Cross-validation : best param found is reg = 1e-05             with score 57.92\n",
      "2020-10-03 13:08:02,662 : Evaluating...\n",
      "2020-10-03 13:08:03,273 : \n",
      "Dev acc : 57.92 Test acc : 55.2             for TREC\n",
      "\n",
      "2020-10-03 13:08:03,274 : ***** Transfer task : MRPC *****\n",
      "\n",
      "\n",
      "2020-10-03 13:08:12,107 : Found 9751 words with word vectors, out of         19556 words\n",
      "2020-10-03 13:08:12,115 : Computing embedding for train\n",
      "2020-10-03 13:08:12,470 : Computed train embeddings\n",
      "2020-10-03 13:08:12,471 : Computing embedding for test\n",
      "2020-10-03 13:08:12,577 : Computed test embeddings\n",
      "2020-10-03 13:08:12,585 : Training pytorch-MLP-nhid0-rmsprop-bs128 with 5-fold cross-validation\n",
      "2020-10-03 13:08:18,682 : [('reg:1e-05', 71.66), ('reg:0.0001', 71.2), ('reg:0.001', 70.71), ('reg:0.01', 69.58)]\n",
      "2020-10-03 13:08:18,683 : Cross-validation : best param found is reg = 1e-05             with score 71.66\n",
      "2020-10-03 13:08:18,683 : Evaluating...\n",
      "2020-10-03 13:08:18,978 : Dev acc : 71.66 Test acc 71.07; Test F1 79.77 for MRPC.\n",
      "\n",
      "2020-10-03 13:08:18,980 : ***** Transfer task : SICK-Entailment*****\n",
      "\n",
      "\n",
      "2020-10-03 13:08:27,368 : Found 2279 words with word vectors, out of         2414 words\n",
      "2020-10-03 13:08:27,385 : Computing embedding for train\n",
      "2020-10-03 13:08:27,577 : Computed train embeddings\n",
      "2020-10-03 13:08:27,578 : Computing embedding for dev\n",
      "2020-10-03 13:08:27,601 : Computed dev embeddings\n",
      "2020-10-03 13:08:27,601 : Computing embedding for test\n",
      "2020-10-03 13:08:27,810 : Computed test embeddings\n",
      "2020-10-03 13:08:27,824 : Training pytorch-MLP-nhid0-rmsprop-bs128 with standard validation..\n",
      "2020-10-03 13:08:29,877 : [('reg:1e-05', 74.8), ('reg:0.0001', 75.6), ('reg:0.001', 71.2), ('reg:0.01', 62.6)]\n",
      "2020-10-03 13:08:29,878 : Validation : best param found is reg = 0.0001 with score             75.6\n",
      "2020-10-03 13:08:29,878 : Evaluating...\n",
      "2020-10-03 13:08:30,586 : \n",
      "Dev acc : 75.6 Test acc : 74.63 for                        SICK entailment\n",
      "\n",
      "2020-10-03 13:08:30,590 : \n",
      "\n",
      "***** Transfer task : STSBenchmark*****\n",
      "\n",
      "\n",
      "2020-10-03 13:08:39,489 : Found 13502 words with word vectors, out of         15891 words\n",
      "2020-10-03 13:08:39,492 : Computing embedding for train\n",
      "2020-10-03 13:08:39,759 : Computed train embeddings\n",
      "2020-10-03 13:08:39,760 : Computing embedding for dev\n",
      "2020-10-03 13:08:39,836 : Computed dev embeddings\n",
      "2020-10-03 13:08:39,837 : Computing embedding for test\n",
      "2020-10-03 13:08:39,903 : Computed test embeddings\n",
      "2020-10-03 13:09:06,035 : Dev : Pearson 0.6993327059259867\n",
      "2020-10-03 13:09:06,036 : Test : Pearson 0.6424013188378236 Spearman 0.6235168880388743 MSE 1.6450794665103965                        for SICK Relatedness\n",
      "\n"
     ]
    },
    {
     "name": "stdout",
     "output_type": "stream",
     "text": [
      "{'MR': {'devacc': 63.18, 'acc': 51.53, 'ndev': 74, 'ntest': 74}, 'CR': {'devacc': 74.04, 'acc': 73.01, 'ndev': 3775, 'ntest': 3775}, 'MPQA': {'devacc': 84.34, 'acc': 84.1, 'ndev': 10606, 'ntest': 10606}, 'SUBJ': {'devacc': 99.6, 'acc': 99.6, 'ndev': 5020, 'ntest': 5020}, 'SST5': {'devacc': 37.97, 'acc': 39.37, 'ndev': 1101, 'ntest': 2210}, 'TREC': {'devacc': 57.92, 'acc': 55.2, 'ndev': 5452, 'ntest': 500}, 'MRPC': {'devacc': 71.66, 'acc': 71.07, 'f1': 79.77, 'ndev': 4076, 'ntest': 1725}, 'SICKEntailment': {'devacc': 75.6, 'acc': 74.63, 'ndev': 500, 'ntest': 4927}, 'STSBenchmark': {'devpearson': 0.6993327059259867, 'pearson': 0.6424013188378236, 'spearman': 0.6235168880388743, 'mse': 1.6450794665103965, 'yhat': array([1.82944074, 1.25940283, 2.0656236 , ..., 3.8292861 , 3.83663534,\n",
      "       3.26327565]), 'ndev': 1500, 'ntest': 1379}}\n"
     ]
    }
   ],
   "source": [
    "# Algo-100D \n",
    "%run examples/bow_v2.py"
   ]
  },
  {
   "cell_type": "code",
   "execution_count": 36,
   "metadata": {},
   "outputs": [
    {
     "name": "stderr",
     "output_type": "stream",
     "text": [
      "2020-10-03 13:09:38,085 : ***** Transfer task : MR *****\n",
      "\n",
      "\n",
      "2020-10-03 13:09:49,015 : Found 684 words with word vectors, out of         735 words\n",
      "2020-10-03 13:09:49,016 : Generating sentence embeddings\n",
      "2020-10-03 13:09:49,019 : Generated sentence embeddings\n",
      "2020-10-03 13:09:49,020 : Training pytorch-MLP-nhid0-rmsprop-bs128 with (inner) 5-fold cross-validation\n",
      "2020-10-03 13:09:49,266 : Best param found at split 1: l2reg = 1e-05                 with score 62.88\n",
      "2020-10-03 13:09:49,501 : Best param found at split 2: l2reg = 0.001                 with score 67.58\n",
      "2020-10-03 13:09:49,740 : Best param found at split 3: l2reg = 1e-05                 with score 61.06\n",
      "2020-10-03 13:09:49,979 : Best param found at split 4: l2reg = 1e-05                 with score 69.39\n",
      "2020-10-03 13:09:50,223 : Best param found at split 5: l2reg = 1e-05                 with score 63.33\n",
      "2020-10-03 13:09:50,235 : Dev acc : 64.85 Test acc : 47.33\n",
      "\n",
      "2020-10-03 13:09:50,236 : ***** Transfer task : CR *****\n",
      "\n",
      "\n",
      "2020-10-03 13:10:01,435 : Found 4964 words with word vectors, out of         5677 words\n",
      "2020-10-03 13:10:01,439 : Generating sentence embeddings\n",
      "2020-10-03 13:10:01,565 : Generated sentence embeddings\n",
      "2020-10-03 13:10:01,565 : Training pytorch-MLP-nhid0-rmsprop-bs128 with (inner) 5-fold cross-validation\n",
      "2020-10-03 13:10:06,459 : Best param found at split 1: l2reg = 0.0001                 with score 76.75\n",
      "2020-10-03 13:10:11,491 : Best param found at split 2: l2reg = 1e-05                 with score 76.36\n",
      "2020-10-03 13:10:16,901 : Best param found at split 3: l2reg = 1e-05                 with score 75.93\n",
      "2020-10-03 13:10:21,965 : Best param found at split 4: l2reg = 1e-05                 with score 76.42\n",
      "2020-10-03 13:10:27,350 : Best param found at split 5: l2reg = 1e-05                 with score 75.76\n",
      "2020-10-03 13:10:27,633 : Dev acc : 76.24 Test acc : 74.99\n",
      "\n",
      "2020-10-03 13:10:27,634 : ***** Transfer task : MPQA *****\n",
      "\n",
      "\n",
      "2020-10-03 13:10:38,932 : Found 6171 words with word vectors, out of         6241 words\n",
      "2020-10-03 13:10:38,943 : Generating sentence embeddings\n",
      "2020-10-03 13:10:39,096 : Generated sentence embeddings\n",
      "2020-10-03 13:10:39,097 : Training pytorch-MLP-nhid0-rmsprop-bs128 with (inner) 5-fold cross-validation\n",
      "2020-10-03 13:10:49,599 : Best param found at split 1: l2reg = 0.0001                 with score 85.54\n",
      "2020-10-03 13:11:01,216 : Best param found at split 2: l2reg = 1e-05                 with score 85.32\n",
      "2020-10-03 13:11:11,946 : Best param found at split 3: l2reg = 1e-05                 with score 85.54\n",
      "2020-10-03 13:11:24,108 : Best param found at split 4: l2reg = 0.001                 with score 85.67\n",
      "2020-10-03 13:11:35,651 : Best param found at split 5: l2reg = 1e-05                 with score 85.89\n",
      "2020-10-03 13:11:36,316 : Dev acc : 85.59 Test acc : 85.51\n",
      "\n",
      "2020-10-03 13:11:36,318 : ***** Transfer task : SUBJ *****\n",
      "\n",
      "\n",
      "2020-10-03 13:11:48,072 : Found 13459 words with word vectors, out of         14847 words\n",
      "2020-10-03 13:11:48,090 : Generating sentence embeddings\n",
      "2020-10-03 13:11:48,297 : Generated sentence embeddings\n",
      "2020-10-03 13:11:48,297 : Training pytorch-MLP-nhid0-rmsprop-bs128 with (inner) 5-fold cross-validation\n",
      "2020-10-03 13:11:52,530 : Best param found at split 1: l2reg = 1e-05                 with score 99.6\n",
      "2020-10-03 13:11:56,910 : Best param found at split 2: l2reg = 1e-05                 with score 99.6\n",
      "2020-10-03 13:12:01,260 : Best param found at split 3: l2reg = 1e-05                 with score 99.6\n",
      "2020-10-03 13:12:05,708 : Best param found at split 4: l2reg = 1e-05                 with score 99.6\n",
      "2020-10-03 13:12:10,092 : Best param found at split 5: l2reg = 1e-05                 with score 99.6\n",
      "2020-10-03 13:12:10,320 : Dev acc : 99.6 Test acc : 99.6\n",
      "\n",
      "2020-10-03 13:12:10,322 : ***** Transfer task : SST Fine-Grained classification *****\n",
      "\n",
      "\n",
      "2020-10-03 13:12:22,473 : Found 16905 words with word vectors, out of         19539 words\n",
      "2020-10-03 13:12:22,503 : Computing embedding for train\n",
      "2020-10-03 13:12:22,893 : Computed train embeddings\n",
      "2020-10-03 13:12:22,894 : Computing embedding for dev\n",
      "2020-10-03 13:12:22,933 : Computed dev embeddings\n",
      "2020-10-03 13:12:22,934 : Computing embedding for test\n",
      "2020-10-03 13:12:23,010 : Computed test embeddings\n",
      "2020-10-03 13:12:23,010 : Training pytorch-MLP-nhid0-rmsprop-bs128 with standard validation..\n",
      "2020-10-03 13:12:25,420 : [('reg:1e-05', 39.69), ('reg:0.0001', 39.96), ('reg:0.001', 39.24), ('reg:0.01', 35.69)]\n",
      "2020-10-03 13:12:25,421 : Validation : best param found is reg = 0.0001 with score             39.96\n",
      "2020-10-03 13:12:25,421 : Evaluating...\n",
      "2020-10-03 13:12:26,114 : \n",
      "Dev acc : 39.96 Test acc : 41.04 for             SST Fine-Grained classification\n",
      "\n",
      "2020-10-03 13:12:26,116 : ***** Transfer task : TREC *****\n",
      "\n",
      "\n",
      "2020-10-03 13:12:37,433 : Found 5541 words with word vectors, out of         9779 words\n",
      "2020-10-03 13:12:37,586 : Computed train embeddings\n",
      "2020-10-03 13:12:37,595 : Computed test embeddings\n",
      "2020-10-03 13:12:37,596 : Training pytorch-MLP-nhid0-rmsprop-bs128 with 5-fold cross-validation\n",
      "2020-10-03 13:12:47,105 : [('reg:1e-05', 60.79), ('reg:0.0001', 60.66), ('reg:0.001', 59.5), ('reg:0.01', 53.32)]\n",
      "2020-10-03 13:12:47,105 : Cross-validation : best param found is reg = 1e-05             with score 60.79\n",
      "2020-10-03 13:12:47,106 : Evaluating...\n",
      "2020-10-03 13:12:47,491 : \n",
      "Dev acc : 60.79 Test acc : 61.4             for TREC\n",
      "\n",
      "2020-10-03 13:12:47,493 : ***** Transfer task : MRPC *****\n",
      "\n",
      "\n",
      "2020-10-03 13:12:59,122 : Found 9751 words with word vectors, out of         19556 words\n",
      "2020-10-03 13:12:59,128 : Computing embedding for train\n",
      "2020-10-03 13:12:59,383 : Computed train embeddings\n",
      "2020-10-03 13:12:59,384 : Computing embedding for test\n",
      "2020-10-03 13:12:59,493 : Computed test embeddings\n",
      "2020-10-03 13:12:59,505 : Training pytorch-MLP-nhid0-rmsprop-bs128 with 5-fold cross-validation\n",
      "2020-10-03 13:13:05,600 : [('reg:1e-05', 72.08), ('reg:0.0001', 71.83), ('reg:0.001', 70.98), ('reg:0.01', 70.14)]\n",
      "2020-10-03 13:13:05,601 : Cross-validation : best param found is reg = 1e-05             with score 72.08\n",
      "2020-10-03 13:13:05,601 : Evaluating...\n",
      "2020-10-03 13:13:05,906 : Dev acc : 72.08 Test acc 71.3; Test F1 79.38 for MRPC.\n",
      "\n",
      "2020-10-03 13:13:05,908 : ***** Transfer task : SICK-Entailment*****\n",
      "\n",
      "\n",
      "2020-10-03 13:13:17,066 : Found 2279 words with word vectors, out of         2414 words\n",
      "2020-10-03 13:13:17,088 : Computing embedding for train\n",
      "2020-10-03 13:13:17,289 : Computed train embeddings\n",
      "2020-10-03 13:13:17,290 : Computing embedding for dev\n",
      "2020-10-03 13:13:17,315 : Computed dev embeddings\n",
      "2020-10-03 13:13:17,315 : Computing embedding for test\n",
      "2020-10-03 13:13:17,531 : Computed test embeddings\n",
      "2020-10-03 13:13:17,551 : Training pytorch-MLP-nhid0-rmsprop-bs128 with standard validation..\n",
      "2020-10-03 13:13:19,214 : [('reg:1e-05', 76.8), ('reg:0.0001', 76.6), ('reg:0.001', 71.4), ('reg:0.01', 62.8)]\n",
      "2020-10-03 13:13:19,215 : Validation : best param found is reg = 1e-05 with score             76.8\n",
      "2020-10-03 13:13:19,215 : Evaluating...\n",
      "2020-10-03 13:13:19,665 : \n",
      "Dev acc : 76.8 Test acc : 75.26 for                        SICK entailment\n",
      "\n",
      "2020-10-03 13:13:19,669 : \n",
      "\n",
      "***** Transfer task : STSBenchmark*****\n",
      "\n",
      "\n",
      "2020-10-03 13:13:31,520 : Found 13502 words with word vectors, out of         15891 words\n",
      "2020-10-03 13:13:31,523 : Computing embedding for train\n",
      "2020-10-03 13:13:31,797 : Computed train embeddings\n",
      "2020-10-03 13:13:31,798 : Computing embedding for dev\n",
      "2020-10-03 13:13:31,876 : Computed dev embeddings\n",
      "2020-10-03 13:13:31,877 : Computing embedding for test\n",
      "2020-10-03 13:13:31,944 : Computed test embeddings\n",
      "2020-10-03 13:13:51,371 : Dev : Pearson 0.711796053086211\n",
      "2020-10-03 13:13:51,372 : Test : Pearson 0.6514226544887254 Spearman 0.6368138407612056 MSE 1.6291165135486902                        for SICK Relatedness\n",
      "\n"
     ]
    },
    {
     "name": "stdout",
     "output_type": "stream",
     "text": [
      "{'MR': {'devacc': 64.85, 'acc': 47.33, 'ndev': 74, 'ntest': 74}, 'CR': {'devacc': 76.24, 'acc': 74.99, 'ndev': 3775, 'ntest': 3775}, 'MPQA': {'devacc': 85.59, 'acc': 85.51, 'ndev': 10606, 'ntest': 10606}, 'SUBJ': {'devacc': 99.6, 'acc': 99.6, 'ndev': 5020, 'ntest': 5020}, 'SST5': {'devacc': 39.96, 'acc': 41.04, 'ndev': 1101, 'ntest': 2210}, 'TREC': {'devacc': 60.79, 'acc': 61.4, 'ndev': 5452, 'ntest': 500}, 'MRPC': {'devacc': 72.08, 'acc': 71.3, 'f1': 79.38, 'ndev': 4076, 'ntest': 1725}, 'SICKEntailment': {'devacc': 76.8, 'acc': 75.26, 'ndev': 500, 'ntest': 4927}, 'STSBenchmark': {'devpearson': 0.711796053086211, 'pearson': 0.6514226544887254, 'spearman': 0.6368138407612056, 'mse': 1.6291165135486902, 'yhat': array([2.14469316, 1.13847754, 2.01961557, ..., 3.75742275, 3.7778362 ,\n",
      "       3.30078122]), 'ndev': 1500, 'ntest': 1379}}\n"
     ]
    }
   ],
   "source": [
    "# Algo-150D \n",
    "%run examples/bow_v2.py"
   ]
  },
  {
   "cell_type": "code",
   "execution_count": 37,
   "metadata": {},
   "outputs": [
    {
     "name": "stderr",
     "output_type": "stream",
     "text": [
      "2020-10-03 13:14:12,501 : ***** Transfer task : MR *****\n",
      "\n",
      "\n",
      "2020-10-03 13:14:26,047 : Found 684 words with word vectors, out of         735 words\n",
      "2020-10-03 13:14:26,047 : Generating sentence embeddings\n",
      "2020-10-03 13:14:26,051 : Generated sentence embeddings\n",
      "2020-10-03 13:14:26,052 : Training pytorch-MLP-nhid0-rmsprop-bs128 with (inner) 5-fold cross-validation\n",
      "2020-10-03 13:14:26,293 : Best param found at split 1: l2reg = 0.0001                 with score 62.88\n",
      "2020-10-03 13:14:26,524 : Best param found at split 2: l2reg = 1e-05                 with score 67.73\n",
      "2020-10-03 13:14:26,763 : Best param found at split 3: l2reg = 0.001                 with score 66.36\n",
      "2020-10-03 13:14:26,986 : Best param found at split 4: l2reg = 0.001                 with score 69.55\n",
      "2020-10-03 13:14:27,222 : Best param found at split 5: l2reg = 1e-05                 with score 63.33\n",
      "2020-10-03 13:14:27,233 : Dev acc : 65.97 Test acc : 55.43\n",
      "\n",
      "2020-10-03 13:14:27,234 : ***** Transfer task : CR *****\n",
      "\n",
      "\n",
      "2020-10-03 13:14:41,198 : Found 4964 words with word vectors, out of         5677 words\n",
      "2020-10-03 13:14:41,202 : Generating sentence embeddings\n",
      "2020-10-03 13:14:41,339 : Generated sentence embeddings\n",
      "2020-10-03 13:14:41,340 : Training pytorch-MLP-nhid0-rmsprop-bs128 with (inner) 5-fold cross-validation\n",
      "2020-10-03 13:14:46,258 : Best param found at split 1: l2reg = 0.0001                 with score 77.65\n",
      "2020-10-03 13:14:51,260 : Best param found at split 2: l2reg = 1e-05                 with score 77.28\n",
      "2020-10-03 13:14:56,742 : Best param found at split 3: l2reg = 1e-05                 with score 77.81\n",
      "2020-10-03 13:15:02,108 : Best param found at split 4: l2reg = 1e-05                 with score 77.45\n",
      "2020-10-03 13:15:07,331 : Best param found at split 5: l2reg = 1e-05                 with score 76.95\n",
      "2020-10-03 13:15:07,613 : Dev acc : 77.43 Test acc : 75.95\n",
      "\n",
      "2020-10-03 13:15:07,615 : ***** Transfer task : MPQA *****\n",
      "\n",
      "\n",
      "2020-10-03 13:15:21,651 : Found 6171 words with word vectors, out of         6241 words\n",
      "2020-10-03 13:15:21,666 : Generating sentence embeddings\n",
      "2020-10-03 13:15:21,828 : Generated sentence embeddings\n",
      "2020-10-03 13:15:21,830 : Training pytorch-MLP-nhid0-rmsprop-bs128 with (inner) 5-fold cross-validation\n",
      "2020-10-03 13:15:31,841 : Best param found at split 1: l2reg = 0.0001                 with score 86.16\n",
      "2020-10-03 13:15:43,181 : Best param found at split 2: l2reg = 1e-05                 with score 86.12\n",
      "2020-10-03 13:15:53,894 : Best param found at split 3: l2reg = 0.001                 with score 86.29\n",
      "2020-10-03 13:16:06,506 : Best param found at split 4: l2reg = 0.001                 with score 86.51\n",
      "2020-10-03 13:16:18,394 : Best param found at split 5: l2reg = 0.001                 with score 86.26\n",
      "2020-10-03 13:16:19,064 : Dev acc : 86.27 Test acc : 86.37\n",
      "\n",
      "2020-10-03 13:16:19,066 : ***** Transfer task : SUBJ *****\n",
      "\n",
      "\n",
      "2020-10-03 13:16:33,858 : Found 13459 words with word vectors, out of         14847 words\n",
      "2020-10-03 13:16:33,878 : Generating sentence embeddings\n",
      "2020-10-03 13:16:34,120 : Generated sentence embeddings\n",
      "2020-10-03 13:16:34,121 : Training pytorch-MLP-nhid0-rmsprop-bs128 with (inner) 5-fold cross-validation\n",
      "2020-10-03 13:16:38,285 : Best param found at split 1: l2reg = 1e-05                 with score 99.6\n",
      "2020-10-03 13:16:42,654 : Best param found at split 2: l2reg = 1e-05                 with score 99.6\n",
      "2020-10-03 13:16:47,023 : Best param found at split 3: l2reg = 1e-05                 with score 99.6\n",
      "2020-10-03 13:16:51,432 : Best param found at split 4: l2reg = 1e-05                 with score 99.6\n",
      "2020-10-03 13:16:55,804 : Best param found at split 5: l2reg = 1e-05                 with score 99.6\n",
      "2020-10-03 13:16:56,036 : Dev acc : 99.6 Test acc : 99.6\n",
      "\n",
      "2020-10-03 13:16:56,037 : ***** Transfer task : SST Fine-Grained classification *****\n",
      "\n",
      "\n",
      "2020-10-03 13:17:11,064 : Found 16905 words with word vectors, out of         19539 words\n",
      "2020-10-03 13:17:11,100 : Computing embedding for train\n",
      "2020-10-03 13:17:11,417 : Computed train embeddings\n",
      "2020-10-03 13:17:11,417 : Computing embedding for dev\n",
      "2020-10-03 13:17:11,462 : Computed dev embeddings\n",
      "2020-10-03 13:17:11,463 : Computing embedding for test\n",
      "2020-10-03 13:17:11,547 : Computed test embeddings\n",
      "2020-10-03 13:17:11,547 : Training pytorch-MLP-nhid0-rmsprop-bs128 with standard validation..\n",
      "2020-10-03 13:17:13,685 : [('reg:1e-05', 40.87), ('reg:0.0001', 40.96), ('reg:0.001', 39.33), ('reg:0.01', 35.79)]\n",
      "2020-10-03 13:17:13,686 : Validation : best param found is reg = 0.0001 with score             40.96\n",
      "2020-10-03 13:17:13,686 : Evaluating...\n",
      "2020-10-03 13:17:14,291 : \n",
      "Dev acc : 40.96 Test acc : 41.27 for             SST Fine-Grained classification\n",
      "\n",
      "2020-10-03 13:17:14,293 : ***** Transfer task : TREC *****\n",
      "\n",
      "\n",
      "2020-10-03 13:17:28,358 : Found 5541 words with word vectors, out of         9779 words\n",
      "2020-10-03 13:17:28,516 : Computed train embeddings\n",
      "2020-10-03 13:17:28,526 : Computed test embeddings\n",
      "2020-10-03 13:17:28,527 : Training pytorch-MLP-nhid0-rmsprop-bs128 with 5-fold cross-validation\n",
      "2020-10-03 13:17:37,386 : [('reg:1e-05', 63.24), ('reg:0.0001', 63.46), ('reg:0.001', 62.27), ('reg:0.01', 54.62)]\n",
      "2020-10-03 13:17:37,387 : Cross-validation : best param found is reg = 0.0001             with score 63.46\n",
      "2020-10-03 13:17:37,387 : Evaluating...\n",
      "2020-10-03 13:17:37,821 : \n",
      "Dev acc : 63.46 Test acc : 62.8             for TREC\n",
      "\n",
      "2020-10-03 13:17:37,824 : ***** Transfer task : MRPC *****\n",
      "\n",
      "\n",
      "2020-10-03 13:17:52,299 : Found 9751 words with word vectors, out of         19556 words\n",
      "2020-10-03 13:17:52,310 : Computing embedding for train\n",
      "2020-10-03 13:17:52,591 : Computed train embeddings\n",
      "2020-10-03 13:17:52,592 : Computing embedding for test\n",
      "2020-10-03 13:17:52,710 : Computed test embeddings\n",
      "2020-10-03 13:17:52,727 : Training pytorch-MLP-nhid0-rmsprop-bs128 with 5-fold cross-validation\n",
      "2020-10-03 13:17:58,851 : [('reg:1e-05', 71.81), ('reg:0.0001', 71.86), ('reg:0.001', 71.42), ('reg:0.01', 70.76)]\n",
      "2020-10-03 13:17:58,852 : Cross-validation : best param found is reg = 0.0001             with score 71.86\n",
      "2020-10-03 13:17:58,852 : Evaluating...\n",
      "2020-10-03 13:17:59,168 : Dev acc : 71.86 Test acc 70.38; Test F1 78.19 for MRPC.\n",
      "\n",
      "2020-10-03 13:17:59,171 : ***** Transfer task : SICK-Entailment*****\n",
      "\n",
      "\n",
      "2020-10-03 13:18:12,977 : Found 2279 words with word vectors, out of         2414 words\n",
      "2020-10-03 13:18:13,000 : Computing embedding for train\n",
      "2020-10-03 13:18:13,202 : Computed train embeddings\n",
      "2020-10-03 13:18:13,203 : Computing embedding for dev\n",
      "2020-10-03 13:18:13,230 : Computed dev embeddings\n",
      "2020-10-03 13:18:13,230 : Computing embedding for test\n",
      "2020-10-03 13:18:13,452 : Computed test embeddings\n",
      "2020-10-03 13:18:13,479 : Training pytorch-MLP-nhid0-rmsprop-bs128 with standard validation..\n",
      "2020-10-03 13:18:15,340 : [('reg:1e-05', 78.8), ('reg:0.0001', 78.2), ('reg:0.001', 73.2), ('reg:0.01', 63.0)]\n",
      "2020-10-03 13:18:15,341 : Validation : best param found is reg = 1e-05 with score             78.8\n",
      "2020-10-03 13:18:15,342 : Evaluating...\n",
      "2020-10-03 13:18:15,905 : \n",
      "Dev acc : 78.8 Test acc : 76.76 for                        SICK entailment\n",
      "\n",
      "2020-10-03 13:18:15,910 : \n",
      "\n",
      "***** Transfer task : STSBenchmark*****\n",
      "\n",
      "\n",
      "2020-10-03 13:18:30,660 : Found 13502 words with word vectors, out of         15891 words\n",
      "2020-10-03 13:18:30,665 : Computing embedding for train\n",
      "2020-10-03 13:18:30,953 : Computed train embeddings\n",
      "2020-10-03 13:18:30,953 : Computing embedding for dev\n",
      "2020-10-03 13:18:31,037 : Computed dev embeddings\n",
      "2020-10-03 13:18:31,037 : Computing embedding for test\n",
      "2020-10-03 13:18:31,108 : Computed test embeddings\n",
      "2020-10-03 13:18:50,576 : Dev : Pearson 0.7181373627268433\n",
      "2020-10-03 13:18:50,577 : Test : Pearson 0.6500029903902469 Spearman 0.6316284993459389 MSE 1.6240144403155894                        for SICK Relatedness\n",
      "\n"
     ]
    },
    {
     "name": "stdout",
     "output_type": "stream",
     "text": [
      "{'MR': {'devacc': 65.97, 'acc': 55.43, 'ndev': 74, 'ntest': 74}, 'CR': {'devacc': 77.43, 'acc': 75.95, 'ndev': 3775, 'ntest': 3775}, 'MPQA': {'devacc': 86.27, 'acc': 86.37, 'ndev': 10606, 'ntest': 10606}, 'SUBJ': {'devacc': 99.6, 'acc': 99.6, 'ndev': 5020, 'ntest': 5020}, 'SST5': {'devacc': 40.96, 'acc': 41.27, 'ndev': 1101, 'ntest': 2210}, 'TREC': {'devacc': 63.46, 'acc': 62.8, 'ndev': 5452, 'ntest': 500}, 'MRPC': {'devacc': 71.86, 'acc': 70.38, 'f1': 78.19, 'ndev': 4076, 'ntest': 1725}, 'SICKEntailment': {'devacc': 78.8, 'acc': 76.76, 'ndev': 500, 'ntest': 4927}, 'STSBenchmark': {'devpearson': 0.7181373627268433, 'pearson': 0.6500029903902469, 'spearman': 0.6316284993459389, 'mse': 1.6240144403155894, 'yhat': array([2.11288309, 1.23126938, 1.89506478, ..., 3.78231052, 3.77985907,\n",
      "       3.21039648]), 'ndev': 1500, 'ntest': 1379}}\n"
     ]
    }
   ],
   "source": [
    "# Algo-200D \n",
    "%run examples/bow_v2.py"
   ]
  },
  {
   "cell_type": "code",
   "execution_count": 39,
   "metadata": {},
   "outputs": [
    {
     "name": "stderr",
     "output_type": "stream",
     "text": [
      "2020-10-03 13:19:32,718 : ***** Transfer task : MR *****\n",
      "\n",
      "\n",
      "2020-10-03 13:19:51,429 : Found 684 words with word vectors, out of         735 words\n",
      "2020-10-03 13:19:51,430 : Generating sentence embeddings\n",
      "2020-10-03 13:19:51,434 : Generated sentence embeddings\n",
      "2020-10-03 13:19:51,434 : Training pytorch-MLP-nhid0-rmsprop-bs128 with (inner) 5-fold cross-validation\n",
      "2020-10-03 13:19:51,691 : Best param found at split 1: l2reg = 1e-05                 with score 62.73\n",
      "2020-10-03 13:19:51,960 : Best param found at split 2: l2reg = 1e-05                 with score 69.39\n",
      "2020-10-03 13:19:52,230 : Best param found at split 3: l2reg = 0.001                 with score 64.55\n",
      "2020-10-03 13:19:52,494 : Best param found at split 4: l2reg = 0.01                 with score 76.21\n",
      "2020-10-03 13:19:52,748 : Best param found at split 5: l2reg = 0.001                 with score 70.0\n",
      "2020-10-03 13:19:52,760 : Dev acc : 68.58 Test acc : 46.0\n",
      "\n",
      "2020-10-03 13:19:52,761 : ***** Transfer task : CR *****\n",
      "\n",
      "\n",
      "2020-10-03 13:20:12,185 : Found 4964 words with word vectors, out of         5677 words\n",
      "2020-10-03 13:20:12,188 : Generating sentence embeddings\n",
      "2020-10-03 13:20:12,345 : Generated sentence embeddings\n",
      "2020-10-03 13:20:12,346 : Training pytorch-MLP-nhid0-rmsprop-bs128 with (inner) 5-fold cross-validation\n",
      "2020-10-03 13:20:18,073 : Best param found at split 1: l2reg = 0.0001                 with score 78.71\n",
      "2020-10-03 13:20:23,400 : Best param found at split 2: l2reg = 1e-05                 with score 77.91\n",
      "2020-10-03 13:20:28,319 : Best param found at split 3: l2reg = 0.001                 with score 77.75\n",
      "2020-10-03 13:20:33,622 : Best param found at split 4: l2reg = 1e-05                 with score 78.18\n",
      "2020-10-03 13:20:39,044 : Best param found at split 5: l2reg = 0.001                 with score 77.98\n",
      "2020-10-03 13:20:39,307 : Dev acc : 78.11 Test acc : 76.0\n",
      "\n",
      "2020-10-03 13:20:39,308 : ***** Transfer task : MPQA *****\n",
      "\n",
      "\n",
      "2020-10-03 13:20:58,918 : Found 6171 words with word vectors, out of         6241 words\n",
      "2020-10-03 13:20:58,931 : Generating sentence embeddings\n",
      "2020-10-03 13:20:59,108 : Generated sentence embeddings\n",
      "2020-10-03 13:20:59,109 : Training pytorch-MLP-nhid0-rmsprop-bs128 with (inner) 5-fold cross-validation\n",
      "2020-10-03 13:21:10,977 : Best param found at split 1: l2reg = 1e-05                 with score 87.38\n",
      "2020-10-03 13:21:23,298 : Best param found at split 2: l2reg = 0.001                 with score 87.01\n",
      "2020-10-03 13:21:34,992 : Best param found at split 3: l2reg = 0.0001                 with score 87.5\n",
      "2020-10-03 13:21:48,001 : Best param found at split 4: l2reg = 0.001                 with score 87.19\n",
      "2020-10-03 13:22:00,177 : Best param found at split 5: l2reg = 0.0001                 with score 86.8\n",
      "2020-10-03 13:22:00,758 : Dev acc : 87.18 Test acc : 87.13\n",
      "\n",
      "2020-10-03 13:22:00,760 : ***** Transfer task : SUBJ *****\n",
      "\n",
      "\n",
      "2020-10-03 13:22:21,189 : Found 13459 words with word vectors, out of         14847 words\n",
      "2020-10-03 13:22:21,209 : Generating sentence embeddings\n",
      "2020-10-03 13:22:21,470 : Generated sentence embeddings\n",
      "2020-10-03 13:22:21,471 : Training pytorch-MLP-nhid0-rmsprop-bs128 with (inner) 5-fold cross-validation\n",
      "2020-10-03 13:22:25,723 : Best param found at split 1: l2reg = 1e-05                 with score 99.6\n",
      "2020-10-03 13:22:30,238 : Best param found at split 2: l2reg = 1e-05                 with score 99.6\n",
      "2020-10-03 13:22:34,766 : Best param found at split 3: l2reg = 1e-05                 with score 99.6\n",
      "2020-10-03 13:22:39,216 : Best param found at split 4: l2reg = 1e-05                 with score 99.6\n",
      "2020-10-03 13:22:43,607 : Best param found at split 5: l2reg = 1e-05                 with score 99.6\n",
      "2020-10-03 13:22:43,844 : Dev acc : 99.6 Test acc : 99.6\n",
      "\n",
      "2020-10-03 13:22:43,846 : ***** Transfer task : SST Fine-Grained classification *****\n",
      "\n",
      "\n",
      "2020-10-03 13:23:04,649 : Found 16905 words with word vectors, out of         19539 words\n",
      "2020-10-03 13:23:04,689 : Computing embedding for train\n",
      "2020-10-03 13:23:05,038 : Computed train embeddings\n",
      "2020-10-03 13:23:05,039 : Computing embedding for dev\n",
      "2020-10-03 13:23:05,086 : Computed dev embeddings\n",
      "2020-10-03 13:23:05,087 : Computing embedding for test\n",
      "2020-10-03 13:23:05,177 : Computed test embeddings\n",
      "2020-10-03 13:23:05,178 : Training pytorch-MLP-nhid0-rmsprop-bs128 with standard validation..\n",
      "2020-10-03 13:23:08,093 : [('reg:1e-05', 41.05), ('reg:0.0001', 40.87), ('reg:0.001', 40.78), ('reg:0.01', 36.78)]\n",
      "2020-10-03 13:23:08,093 : Validation : best param found is reg = 1e-05 with score             41.05\n",
      "2020-10-03 13:23:08,094 : Evaluating...\n",
      "2020-10-03 13:23:08,897 : \n",
      "Dev acc : 41.05 Test acc : 42.35 for             SST Fine-Grained classification\n",
      "\n",
      "2020-10-03 13:23:08,899 : ***** Transfer task : TREC *****\n",
      "\n",
      "\n",
      "2020-10-03 13:23:28,448 : Found 5541 words with word vectors, out of         9779 words\n",
      "2020-10-03 13:23:28,616 : Computed train embeddings\n",
      "2020-10-03 13:23:28,627 : Computed test embeddings\n",
      "2020-10-03 13:23:28,628 : Training pytorch-MLP-nhid0-rmsprop-bs128 with 5-fold cross-validation\n",
      "2020-10-03 13:23:37,339 : [('reg:1e-05', 66.62), ('reg:0.0001', 66.42), ('reg:0.001', 64.8), ('reg:0.01', 56.26)]\n",
      "2020-10-03 13:23:37,340 : Cross-validation : best param found is reg = 1e-05             with score 66.62\n",
      "2020-10-03 13:23:37,340 : Evaluating...\n",
      "2020-10-03 13:23:37,787 : \n",
      "Dev acc : 66.62 Test acc : 69.0             for TREC\n",
      "\n",
      "2020-10-03 13:23:37,789 : ***** Transfer task : MRPC *****\n",
      "\n",
      "\n",
      "2020-10-03 13:23:57,929 : Found 9751 words with word vectors, out of         19556 words\n",
      "2020-10-03 13:23:57,938 : Computing embedding for train\n",
      "2020-10-03 13:23:58,242 : Computed train embeddings\n",
      "2020-10-03 13:23:58,242 : Computing embedding for test\n",
      "2020-10-03 13:23:58,371 : Computed test embeddings\n",
      "2020-10-03 13:23:58,395 : Training pytorch-MLP-nhid0-rmsprop-bs128 with 5-fold cross-validation\n",
      "2020-10-03 13:24:04,217 : [('reg:1e-05', 72.28), ('reg:0.0001', 72.2), ('reg:0.001', 71.49), ('reg:0.01', 70.83)]\n",
      "2020-10-03 13:24:04,218 : Cross-validation : best param found is reg = 1e-05             with score 72.28\n",
      "2020-10-03 13:24:04,218 : Evaluating...\n",
      "2020-10-03 13:24:04,580 : Dev acc : 72.28 Test acc 71.13; Test F1 78.99 for MRPC.\n",
      "\n",
      "2020-10-03 13:24:04,584 : ***** Transfer task : SICK-Entailment*****\n",
      "\n",
      "\n",
      "2020-10-03 13:24:23,824 : Found 2279 words with word vectors, out of         2414 words\n",
      "2020-10-03 13:24:23,853 : Computing embedding for train\n",
      "2020-10-03 13:24:24,073 : Computed train embeddings\n",
      "2020-10-03 13:24:24,073 : Computing embedding for dev\n",
      "2020-10-03 13:24:24,100 : Computed dev embeddings\n",
      "2020-10-03 13:24:24,101 : Computing embedding for test\n",
      "2020-10-03 13:24:24,340 : Computed test embeddings\n",
      "2020-10-03 13:24:24,380 : Training pytorch-MLP-nhid0-rmsprop-bs128 with standard validation..\n",
      "2020-10-03 13:24:26,272 : [('reg:1e-05', 80.8), ('reg:0.0001', 80.6), ('reg:0.001', 77.2), ('reg:0.01', 67.8)]\n",
      "2020-10-03 13:24:26,272 : Validation : best param found is reg = 1e-05 with score             80.8\n",
      "2020-10-03 13:24:26,273 : Evaluating...\n",
      "2020-10-03 13:24:26,782 : \n",
      "Dev acc : 80.8 Test acc : 77.71 for                        SICK entailment\n",
      "\n",
      "2020-10-03 13:24:26,788 : \n",
      "\n",
      "***** Transfer task : STSBenchmark*****\n",
      "\n",
      "\n",
      "2020-10-03 13:24:47,178 : Found 13502 words with word vectors, out of         15891 words\n",
      "2020-10-03 13:24:47,181 : Computing embedding for train\n",
      "2020-10-03 13:24:47,508 : Computed train embeddings\n",
      "2020-10-03 13:24:47,509 : Computing embedding for dev\n",
      "2020-10-03 13:24:47,603 : Computed dev embeddings\n",
      "2020-10-03 13:24:47,603 : Computing embedding for test\n",
      "2020-10-03 13:24:47,680 : Computed test embeddings\n",
      "2020-10-03 13:25:04,287 : Dev : Pearson 0.7302356212023458\n",
      "2020-10-03 13:25:04,287 : Test : Pearson 0.654422238024213 Spearman 0.6336112006297538 MSE 1.6331119736253432                        for SICK Relatedness\n",
      "\n"
     ]
    },
    {
     "name": "stdout",
     "output_type": "stream",
     "text": [
      "{'MR': {'devacc': 68.58, 'acc': 46.0, 'ndev': 74, 'ntest': 74}, 'CR': {'devacc': 78.11, 'acc': 76.0, 'ndev': 3775, 'ntest': 3775}, 'MPQA': {'devacc': 87.18, 'acc': 87.13, 'ndev': 10606, 'ntest': 10606}, 'SUBJ': {'devacc': 99.6, 'acc': 99.6, 'ndev': 5020, 'ntest': 5020}, 'SST5': {'devacc': 41.05, 'acc': 42.35, 'ndev': 1101, 'ntest': 2210}, 'TREC': {'devacc': 66.62, 'acc': 69.0, 'ndev': 5452, 'ntest': 500}, 'MRPC': {'devacc': 72.28, 'acc': 71.13, 'f1': 78.99, 'ndev': 4076, 'ntest': 1725}, 'SICKEntailment': {'devacc': 80.8, 'acc': 77.71, 'ndev': 500, 'ntest': 4927}, 'STSBenchmark': {'devpearson': 0.7302356212023458, 'pearson': 0.654422238024213, 'spearman': 0.6336112006297538, 'mse': 1.6331119736253432, 'yhat': array([1.76341778, 1.33645568, 2.18096292, ..., 3.75299812, 3.70649612,\n",
      "       3.44884537]), 'ndev': 1500, 'ntest': 1379}}\n"
     ]
    }
   ],
   "source": [
    "# Fasttext-300D \n",
    "%run examples/bow_v2.py"
   ]
  },
  {
   "cell_type": "code",
   "execution_count": 40,
   "metadata": {},
   "outputs": [
    {
     "data": {
      "text/html": [
       "<div>\n",
       "<style scoped>\n",
       "    .dataframe tbody tr th:only-of-type {\n",
       "        vertical-align: middle;\n",
       "    }\n",
       "\n",
       "    .dataframe tbody tr th {\n",
       "        vertical-align: top;\n",
       "    }\n",
       "\n",
       "    .dataframe thead th {\n",
       "        text-align: right;\n",
       "    }\n",
       "</style>\n",
       "<table border=\"1\" class=\"dataframe\">\n",
       "  <thead>\n",
       "    <tr style=\"text-align: right;\">\n",
       "      <th></th>\n",
       "      <th>MR</th>\n",
       "      <th>CR</th>\n",
       "      <th>MPQA</th>\n",
       "      <th>SUBJ</th>\n",
       "      <th>SST-FG</th>\n",
       "      <th>TREC</th>\n",
       "      <th>MRPC</th>\n",
       "      <th>SICK-E</th>\n",
       "      <th>STS-B</th>\n",
       "    </tr>\n",
       "  </thead>\n",
       "  <tbody>\n",
       "    <tr>\n",
       "      <th>fasttext-300D</th>\n",
       "      <td>46</td>\n",
       "      <td>76</td>\n",
       "      <td>87.13</td>\n",
       "      <td>99.6</td>\n",
       "      <td>42.35</td>\n",
       "      <td>69</td>\n",
       "      <td>72.28</td>\n",
       "      <td>77.71</td>\n",
       "      <td>65.44</td>\n",
       "    </tr>\n",
       "    <tr>\n",
       "      <th>Algo-50D</th>\n",
       "      <td>54.09</td>\n",
       "      <td>69.3</td>\n",
       "      <td>80.56</td>\n",
       "      <td>99.6</td>\n",
       "      <td>37.38</td>\n",
       "      <td>50.8</td>\n",
       "      <td>70.43</td>\n",
       "      <td>71.97</td>\n",
       "      <td>65.42</td>\n",
       "    </tr>\n",
       "    <tr>\n",
       "      <th>Algo-100D</th>\n",
       "      <td>51.53</td>\n",
       "      <td>73.01</td>\n",
       "      <td>84.1</td>\n",
       "      <td>99.6</td>\n",
       "      <td>39.37</td>\n",
       "      <td>55.2</td>\n",
       "      <td>71.07</td>\n",
       "      <td>74.63</td>\n",
       "      <td>64.24</td>\n",
       "    </tr>\n",
       "    <tr>\n",
       "      <th>Algo-150D</th>\n",
       "      <td>47.33</td>\n",
       "      <td>74.99</td>\n",
       "      <td>85.51</td>\n",
       "      <td>99.6</td>\n",
       "      <td>41.04</td>\n",
       "      <td>61.4</td>\n",
       "      <td>71.3</td>\n",
       "      <td>75.26</td>\n",
       "      <td>65.14</td>\n",
       "    </tr>\n",
       "    <tr>\n",
       "      <th>Algo-200D</th>\n",
       "      <td>55.43</td>\n",
       "      <td>75.95</td>\n",
       "      <td>86.37</td>\n",
       "      <td>99.6</td>\n",
       "      <td>41.27</td>\n",
       "      <td>62.8</td>\n",
       "      <td>70.38</td>\n",
       "      <td>76.76</td>\n",
       "      <td>65</td>\n",
       "    </tr>\n",
       "  </tbody>\n",
       "</table>\n",
       "</div>"
      ],
      "text/plain": [
       "                  MR     CR   MPQA  SUBJ SST-FG  TREC   MRPC SICK-E  STS-B\n",
       "fasttext-300D     46     76  87.13  99.6  42.35    69  72.28  77.71  65.44\n",
       "Algo-50D       54.09   69.3  80.56  99.6  37.38  50.8  70.43  71.97  65.42\n",
       "Algo-100D      51.53  73.01   84.1  99.6  39.37  55.2  71.07  74.63  64.24\n",
       "Algo-150D      47.33  74.99  85.51  99.6  41.04  61.4   71.3  75.26  65.14\n",
       "Algo-200D      55.43  75.95  86.37  99.6  41.27  62.8  70.38  76.76     65"
      ]
     },
     "execution_count": 40,
     "metadata": {},
     "output_type": "execute_result"
    }
   ],
   "source": [
    "data = {'Model':['MR', 'CR', 'MPQA', 'SUBJ','SST-FG', 'TREC', 'MRPC', 'SICK-E', 'STS-B'],\n",
    "        'fasttext-300D':[46.0, 76.0, 87.13, 99.6, 42.35, 69.0, 72.28, 77.71, 65.44],\n",
    "        'Algo-50D':[54.09, 69.3, 80.56, 99.6, 37.38, 50.8, 70.43, 71.97, 65.42],\n",
    "        'Algo-100D':[51.53, 73.01, 84.1, 99.6, 39.37, 55.2, 71.07, 74.63, 64.24],\n",
    "        'Algo-150D':[47.33, 74.99, 85.51, 99.6, 41.04, 61.4, 71.3, 75.26, 65.14],\n",
    "        'Algo-200D':[55.43, 75.95, 86.37, 99.6, 41.27, 62.8, 70.38, 76.76, 65]}\n",
    "\n",
    "df = pd.DataFrame(data=data).T\n",
    "header = df.iloc[0]\n",
    "\n",
    "df = df.rename(columns=header)\n",
    "df.drop(df.index[0])"
   ]
  },
  {
   "cell_type": "markdown",
   "metadata": {},
   "source": [
    "#### Sentence Similarity Task - 2012, 2013,2014,2015\n",
    "\n",
    "Evaluate algorithm against the baselines on the SemEval dataset(2012-2015) which involves 27 semanic textual similarity (STS) tasks. The objective of these tasks are to predict the similarity between two sentences."
   ]
  },
  {
   "cell_type": "code",
   "execution_count": 13,
   "metadata": {},
   "outputs": [
    {
     "name": "stdout",
     "output_type": "stream",
     "text": [
      "Loading Glove vectors.\n",
      "Done.\n",
      "Loading Glove vectors.\n",
      "Done.\n",
      "Loading Glove vectors.\n",
      "Done.\n"
     ]
    }
   ],
   "source": [
    "\"\"\"\n",
    "file = 'SentEval/glove.6B.200d.txt'\n",
    "_, _ = base_pca(file, [50,100,150,200])\n",
    "_, _ = base_pca_ppa(file, [50,100,150,200], 7)\n",
    "_, _ = base_ppa_pca(file, [50,100,150,200], 200, 7)\n",
    "\"\"\""
   ]
  },
  {
   "cell_type": "markdown",
   "metadata": {},
   "source": [
    "##### 50D"
   ]
  },
  {
   "cell_type": "code",
   "execution_count": 17,
   "metadata": {
    "scrolled": true
   },
   "outputs": [
    {
     "name": "stderr",
     "output_type": "stream",
     "text": [
      "C:\\Users\\user\\Desktop\\paper\\SentEval\\senteval\\utils.py:39: RuntimeWarning: invalid value encountered in double_scalars\n",
      "  return np.dot(u, v) / (np.linalg.norm(u) * np.linalg.norm(v))\n"
     ]
    },
    {
     "name": "stdout",
     "output_type": "stream",
     "text": [
      "{'STS12': {'MSRpar': {'pearson': (0.18089339227292853, 6.135471531263071e-07), 'spearman': SpearmanrResult(correlation=0.3349682104068317, pvalue=4.0230808952033785e-21), 'nsamples': 750}, 'MSRvid': {'pearson': (0.17813211572532195, 9.129526687637343e-07), 'spearman': SpearmanrResult(correlation=0.27463195401161733, pvalue=1.9143785722473304e-14), 'nsamples': 750}, 'SMTeuroparl': {'pearson': (-0.11931840038283867, 0.010512873034954507), 'spearman': SpearmanrResult(correlation=0.1584634725819502, pvalue=0.0006561813784311926), 'nsamples': 459}, 'surprise.OnWN': {'pearson': (0.19193707236753665, 1.17739406560264e-07), 'spearman': SpearmanrResult(correlation=0.4864477825917007, pvalue=8.290391362080383e-46), 'nsamples': 750}, 'surprise.SMTnews': {'pearson': (0.2104978884234959, 2.2442775210941978e-05), 'spearman': SpearmanrResult(correlation=0.25245448931163406, pvalue=3.222323831008058e-07), 'nsamples': 399}, 'all': {'pearson': {'mean': 0.12842841368128888, 'wmean': 0.14235632142200524}, 'spearman': {'mean': 0.3013931817807468, 'wmean': 0.320302456695003}}}, 'STS13': {'FNWN': {'pearson': (0.23718773615755118, 0.001015554437345563), 'spearman': SpearmanrResult(correlation=0.23169737422254755, pvalue=0.0013368553927245006), 'nsamples': 189}, 'headlines': {'pearson': (-0.016343323846738853, 0.6549735021162093), 'spearman': SpearmanrResult(correlation=0.21820394127097678, pvalue=1.5535445760548468e-09), 'nsamples': 750}, 'OnWN': {'pearson': (0.25525680449784427, 8.554081818911239e-10), 'spearman': SpearmanrResult(correlation=0.3348342397064641, pvalue=3.6570017782425686e-16), 'nsamples': 561}, 'all': {'pearson': {'mean': 0.15870040560288554, 'wmean': 0.11718003771467579}, 'spearman': {'mean': 0.26157851839999613, 'wmean': 0.26352384543774693}}}, 'STS14': {'deft-forum': {'pearson': (-0.07144434201920298, 0.13020794793760113), 'spearman': SpearmanrResult(correlation=0.14141791614819146, pvalue=0.0026409376089079205), 'nsamples': 450}, 'deft-news': {'pearson': (0.48547811888804127, 3.810387475523103e-19), 'spearman': SpearmanrResult(correlation=0.5351500641768295, pvalue=1.2546835059077507e-23), 'nsamples': 300}, 'headlines': {'pearson': (-0.027837203474520646, 0.4465201977358526), 'spearman': SpearmanrResult(correlation=0.21783731100458364, pvalue=1.6568375349272306e-09), 'nsamples': 750}, 'images': {'pearson': (0.1135687307514695, 0.0018388016651874964), 'spearman': SpearmanrResult(correlation=0.3392584998628169, pvalue=1.1723907946246538e-21), 'nsamples': 750}, 'OnWN': {'pearson': (0.24176346061590093, 1.9502036284882815e-11), 'spearman': SpearmanrResult(correlation=0.4428752620657302, pvalue=2.259441420168513e-37), 'nsamples': 750}, 'tweet-news': {'pearson': (0.048425639377915504, 0.1852520899664877), 'spearman': SpearmanrResult(correlation=0.31162031350679786, pvalue=2.3654990036157724e-18), 'nsamples': 750}, 'all': {'pearson': {'mean': 0.13165906735660063, 'wmean': 0.105449053922892}, 'spearman': {'mean': 0.3313598944608249, 'wmean': 0.3221004323599151}}}, 'STS15': {'answers-forums': {'pearson': (0.15921647683728146, 0.001983634576914224), 'spearman': SpearmanrResult(correlation=0.1910429203851231, pvalue=0.00019803324012686213), 'nsamples': 375}, 'answers-students': {'pearson': (0.11449375586275432, 0.001685767860983673), 'spearman': SpearmanrResult(correlation=0.4585078992047911, pvalue=2.9287966437010594e-40), 'nsamples': 750}, 'belief': {'pearson': (0.08770512534733312, 0.08988550629054513), 'spearman': SpearmanrResult(correlation=0.4245865989957202, pvalue=7.61988353447543e-18), 'nsamples': 375}, 'headlines': {'pearson': (-0.0262901431330683, 0.4721972456974001), 'spearman': SpearmanrResult(correlation=0.2069147724964773, pvalue=1.070603459016385e-08), 'nsamples': 750}, 'images': {'pearson': (0.4025764892677107, 1.3714086028855472e-30), 'spearman': SpearmanrResult(correlation=0.43921719938158277, pvalue=1.0191509810744578e-36), 'nsamples': 750}, 'all': {'pearson': {'mean': 0.14754034083640227, 'wmean': 0.15356022577242598}, 'spearman': {'mean': 0.3440538780927389, 'wmean': 0.3531136576933182}}}}\n"
     ]
    }
   ],
   "source": [
    "# PCA-50D\n",
    "%run examples/bow_STS.py"
   ]
  },
  {
   "cell_type": "code",
   "execution_count": 7,
   "metadata": {
    "scrolled": true
   },
   "outputs": [
    {
     "name": "stdout",
     "output_type": "stream",
     "text": [
      "{'STS12': {'MSRpar': {'pearson': (0.2578404876910066, 7.44128901781231e-13), 'spearman': SpearmanrResult(correlation=0.273411131103171, pvalue=2.5199677901755797e-14), 'nsamples': 750}, 'MSRvid': {'pearson': (0.30471123750679674, 1.4049030764991663e-17), 'spearman': SpearmanrResult(correlation=0.3473612824828214, pvalue=1.082979197953765e-22), 'nsamples': 750}, 'SMTeuroparl': {'pearson': (0.05431327820889622, 0.24551682210784403), 'spearman': SpearmanrResult(correlation=0.18830204062770423, pvalue=4.91550755251526e-05), 'nsamples': 459}, 'surprise.OnWN': {'pearson': (0.48990863959050346, 1.5666035187333307e-46), 'spearman': SpearmanrResult(correlation=0.512891670993579, pvalue=1.4903834726845788e-51), 'nsamples': 750}, 'surprise.SMTnews': {'pearson': (0.2939162602589417, 2.160448905744617e-09), 'spearman': SpearmanrResult(correlation=0.2713879141270883, pvalue=3.636262576087398e-08), 'nsamples': 399}, 'all': {'pearson': {'mean': 0.28013798065122897, 'wmean': 0.29972575808636787}, 'spearman': {'mean': 0.31867080786687285, 'wmean': 0.3362170134554386}}}, 'STS13': {'FNWN': {'pearson': (0.1723797870279227, 0.017697261318466585), 'spearman': SpearmanrResult(correlation=0.21514934362696492, pvalue=0.0029481816894288662), 'nsamples': 189}, 'headlines': {'pearson': (0.25666254287914647, 9.527499259071268e-13), 'spearman': SpearmanrResult(correlation=0.2802754077962136, pvalue=5.277132905229703e-15), 'nsamples': 750}, 'OnWN': {'pearson': (0.4712897574060383, 2.307201993392895e-32), 'spearman': SpearmanrResult(correlation=0.5293608544656804, pvalue=7.747605303480659e-42), 'nsamples': 561}, 'all': {'pearson': {'mean': 0.30011069577103583, 'wmean': 0.32631349387494984}, 'spearman': {'mean': 0.34159520196295295, 'wmean': 0.36522748076526884}}}, 'STS14': {'deft-forum': {'pearson': (0.11991715777250248, 0.010898236529827673), 'spearman': SpearmanrResult(correlation=0.17635369558487346, pvalue=0.0001698233274433406), 'nsamples': 450}, 'deft-news': {'pearson': (0.6288676930170812, 1.9701249258229568e-34), 'spearman': SpearmanrResult(correlation=0.5968949297569587, pvalue=2.4070656180246016e-30), 'nsamples': 300}, 'headlines': {'pearson': (0.2565588617655862, 9.736436674113255e-13), 'spearman': SpearmanrResult(correlation=0.26982846542905237, pvalue=5.6006004963939047e-14), 'nsamples': 750}, 'images': {'pearson': (0.47640578049538107, 9.374187364332915e-44), 'spearman': SpearmanrResult(correlation=0.48627634246107565, pvalue=8.999240109262412e-46), 'nsamples': 750}, 'OnWN': {'pearson': (0.5503842492753548, 1.2879498206943854e-60), 'spearman': SpearmanrResult(correlation=0.5902835302071323, pvalue=1.2971583900904395e-71), 'nsamples': 750}, 'tweet-news': {'pearson': (0.3864192709073461, 4.047081129608158e-28), 'spearman': SpearmanrResult(correlation=0.3976842227655968, pvalue=7.934711477474126e-30), 'nsamples': 750}, 'all': {'pearson': {'mean': 0.4030921688722086, 'wmean': 0.3986531068628005}, 'spearman': {'mean': 0.4195535310341148, 'wmean': 0.4177285500233129}}}, 'STS15': {'answers-forums': {'pearson': (0.22641082700920567, 9.536946118887072e-06), 'spearman': SpearmanrResult(correlation=0.2443619558797768, pvalue=1.675762446448037e-06), 'nsamples': 375}, 'answers-students': {'pearson': (0.4868951254030787, 6.691254131197254e-46), 'spearman': SpearmanrResult(correlation=0.5120993817619749, pvalue=2.2534772860773072e-51), 'nsamples': 750}, 'belief': {'pearson': (0.4933495169792587, 2.1298666835579377e-24), 'spearman': SpearmanrResult(correlation=0.5318618330454624, pvalue=9.022408937359506e-29), 'nsamples': 375}, 'headlines': {'pearson': (0.28033866103804006, 5.200585507055889e-15), 'spearman': SpearmanrResult(correlation=0.2787317564296385, pvalue=7.5293509476267e-15), 'nsamples': 750}, 'images': {'pearson': (0.5224777013168234, 9.181779993127889e-54), 'spearman': SpearmanrResult(correlation=0.528926397088338, pvalue=2.7274115380479193e-55), 'nsamples': 750}, 'all': {'pearson': {'mean': 0.4018943663492813, 'wmean': 0.41239791493804356}, 'spearman': {'mean': 0.41919626484103817, 'wmean': 0.42696735743564274}}}}\n"
     ]
    }
   ],
   "source": [
    "# Algo-50D\n",
    "%run examples/bow_STS.py"
   ]
  },
  {
   "cell_type": "code",
   "execution_count": 18,
   "metadata": {
    "scrolled": true
   },
   "outputs": [
    {
     "name": "stdout",
     "output_type": "stream",
     "text": [
      "{'STS12': {'MSRpar': {'pearson': (0.2634965806852866, 2.2319901207386697e-13), 'spearman': SpearmanrResult(correlation=0.3185325963805838, pvalue=3.7944889611378625e-19), 'nsamples': 750}, 'MSRvid': {'pearson': (0.2844386807743524, 2.00094710056669e-15), 'spearman': SpearmanrResult(correlation=0.32416747057097645, pvalue=8.236563517713245e-20), 'nsamples': 750}, 'SMTeuroparl': {'pearson': (-0.03905917028356918, 0.4038012379209427), 'spearman': SpearmanrResult(correlation=0.16334919896907038, pvalue=0.0004418686922914804), 'nsamples': 459}, 'surprise.OnWN': {'pearson': (0.40562776177489923, 4.520757386259569e-31), 'spearman': SpearmanrResult(correlation=0.500167458426168, pvalue=1.00148909508652e-48), 'nsamples': 750}, 'surprise.SMTnews': {'pearson': (0.268600099617503, 5.0681692634257e-08), 'spearman': SpearmanrResult(correlation=0.2767704737123425, pvalue=1.8949921329311936e-08), 'nsamples': 399}, 'all': {'pearson': {'mean': 0.23662079051369442, 'wmean': 0.25882096139418564}, 'spearman': {'mean': 0.3165974396118282, 'wmean': 0.33544380481702835}}}, 'STS13': {'FNWN': {'pearson': (0.19825674879440547, 0.00624376468164378), 'spearman': SpearmanrResult(correlation=0.19694775726604358, pvalue=0.00660204150772464), 'nsamples': 189}, 'headlines': {'pearson': (0.18027077926695084, 6.714242948240131e-07), 'spearman': SpearmanrResult(correlation=0.26749190007811935, pvalue=9.368508657290554e-14), 'nsamples': 750}, 'OnWN': {'pearson': (0.3035159317667927, 2.0287653433365602e-13), 'spearman': SpearmanrResult(correlation=0.37042552146510377, pvalue=1.094872697623095e-19), 'nsamples': 561}, 'all': {'pearson': {'mean': 0.22734781994271636, 'wmean': 0.228630698462351}, 'spearman': {'mean': 0.2782883929364222, 'wmean': 0.29710051248252994}}}, 'STS14': {'deft-forum': {'pearson': (0.05110698717035229, 0.2793260119522899), 'spearman': SpearmanrResult(correlation=0.1591727540747479, pvalue=0.0007019864686811627), 'nsamples': 450}, 'deft-news': {'pearson': (0.602156629959298, 5.500429465707849e-31), 'spearman': SpearmanrResult(correlation=0.5870803508509864, pvalue=3.5177478575523895e-29), 'nsamples': 300}, 'headlines': {'pearson': (0.16983162869770574, 2.9068884181337365e-06), 'spearman': SpearmanrResult(correlation=0.24686438033404595, pvalue=7.093155385572961e-12), 'nsamples': 750}, 'images': {'pearson': (0.3575396199098666, 4.916205843433882e-24), 'spearman': SpearmanrResult(correlation=0.40959429460881563, pvalue=1.0499617948075317e-31), 'nsamples': 750}, 'OnWN': {'pearson': (0.41095959598187515, 6.323455459152394e-32), 'spearman': SpearmanrResult(correlation=0.4766706423260104, pvalue=8.291755536362008e-44), 'nsamples': 750}, 'tweet-news': {'pearson': (0.27242467618312843, 3.1434623286559535e-14), 'spearman': SpearmanrResult(correlation=0.35745824136973237, pvalue=5.041533405200137e-24), 'nsamples': 750}, 'all': {'pearson': {'mean': 0.3106698563170377, 'wmean': 0.29645647301170125}, 'spearman': {'mean': 0.37280677726072314, 'wmean': 0.36418467028476953}}}, 'STS15': {'answers-forums': {'pearson': (0.22350488483110503, 1.2476109945826281e-05), 'spearman': SpearmanrResult(correlation=0.2407022517441323, pvalue=2.415678524655831e-06), 'nsamples': 375}, 'answers-students': {'pearson': (0.4369695572998948, 2.548504632042493e-36), 'spearman': SpearmanrResult(correlation=0.5254918303866596, pvalue=1.7914811741058004e-54), 'nsamples': 750}, 'belief': {'pearson': (0.326332295813091, 9.390677634872751e-11), 'spearman': SpearmanrResult(correlation=0.4798300184181977, pvalue=5.451550379329502e-23), 'nsamples': 375}, 'headlines': {'pearson': (0.1782340047124506, 8.997594944724182e-07), 'spearman': SpearmanrResult(correlation=0.2430985998780072, pvalue=1.4999367866622652e-11), 'nsamples': 750}, 'images': {'pearson': (0.48315786145326267, 3.970209618898171e-45), 'spearman': SpearmanrResult(correlation=0.48729349202838906, pvalue=5.5273030897479345e-46), 'nsamples': 750}, 'all': {'pearson': {'mean': 0.32963972082196086, 'wmean': 0.3433200034469265}, 'spearman': {'mean': 0.3952832384910772, 'wmean': 0.4040375143435552}}}}\n"
     ]
    }
   ],
   "source": [
    "# PCA-PPA-50D\n",
    "%run examples/bow_STS.py"
   ]
  },
  {
   "cell_type": "code",
   "execution_count": 19,
   "metadata": {
    "scrolled": true
   },
   "outputs": [
    {
     "name": "stdout",
     "output_type": "stream",
     "text": [
      "{'STS12': {'MSRpar': {'pearson': (0.24828872695857704, 5.326055209097013e-12), 'spearman': SpearmanrResult(correlation=0.3025284253034475, pvalue=2.4425338922697954e-17), 'nsamples': 750}, 'MSRvid': {'pearson': (0.24915387653346682, 4.471393063273112e-12), 'spearman': SpearmanrResult(correlation=0.301236288634412, pvalue=3.381198006934679e-17), 'nsamples': 750}, 'SMTeuroparl': {'pearson': (-0.03992896065624037, 0.39340578185797226), 'spearman': SpearmanrResult(correlation=0.17505915033063288, pvalue=0.00016361582834770107), 'nsamples': 459}, 'surprise.OnWN': {'pearson': (0.43698810776575, 2.5293703790686715e-36), 'spearman': SpearmanrResult(correlation=0.5151150338162848, pvalue=4.643968631289505e-52), 'nsamples': 750}, 'surprise.SMTnews': {'pearson': (0.2624677369439332, 1.0382826459409769e-07), 'spearman': SpearmanrResult(correlation=0.2638871924383398, pvalue=8.808821010641243e-08), 'nsamples': 399}, 'all': {'pearson': {'mean': 0.23139389750909736, 'wmean': 0.25328837437025753}, 'spearman': {'mean': 0.3115652181046234, 'wmean': 0.32973067908631476}}}, 'STS13': {'FNWN': {'pearson': (0.20892224240344837, 0.003913408392858926), 'spearman': SpearmanrResult(correlation=0.20517544449282324, pvalue=0.004623210490849022), 'nsamples': 189}, 'headlines': {'pearson': (0.19046586459022863, 1.4753721729796933e-07), 'spearman': SpearmanrResult(correlation=0.27355487174872417, pvalue=2.439898694296597e-14), 'nsamples': 750}, 'OnWN': {'pearson': (0.32965786270508146, 1.0940172676041486e-15), 'spearman': SpearmanrResult(correlation=0.39489614548531143, pvalue=2.2303827393235935e-22), 'nsamples': 561}, 'all': {'pearson': {'mean': 0.2430153232329195, 'wmean': 0.24484917548964927}, 'spearman': {'mean': 0.2912088205756196, 'wmean': 0.3103207002919643}}}, 'STS14': {'deft-forum': {'pearson': (0.047733433130126006, 0.3123330433450431), 'spearman': SpearmanrResult(correlation=0.1597544795103616, pvalue=0.0006705432749559349), 'nsamples': 450}, 'deft-news': {'pearson': (0.6108188576191309, 4.557547573503766e-32), 'spearman': SpearmanrResult(correlation=0.5980854727215823, pvalue=1.727686393531275e-30), 'nsamples': 300}, 'headlines': {'pearson': (0.16404310846371817, 6.312679623495365e-06), 'spearman': SpearmanrResult(correlation=0.25032201030857504, pvalue=3.52710693382452e-12), 'nsamples': 750}, 'images': {'pearson': (0.399573845734846, 4.041827762126089e-30), 'spearman': SpearmanrResult(correlation=0.44224552769826053, pvalue=2.9322216046657505e-37), 'nsamples': 750}, 'OnWN': {'pearson': (0.44164959771172896, 3.7505734738976005e-37), 'spearman': SpearmanrResult(correlation=0.5042158151724666, pvalue=1.3001688666060808e-49), 'nsamples': 750}, 'tweet-news': {'pearson': (0.280615234994283, 4.878498721881345e-15), 'spearman': SpearmanrResult(correlation=0.3642450218358309, pvalue=6.023750955337628e-25), 'nsamples': 750}, 'all': {'pearson': {'mean': 0.32407234627563886, 'wmean': 0.3117698779660608}, 'spearman': {'mean': 0.3864780545411795, 'wmean': 0.37922305036199655}}}, 'STS15': {'answers-forums': {'pearson': (0.22137876736679188, 1.515191442806076e-05), 'spearman': SpearmanrResult(correlation=0.24650855040177483, pvalue=1.3485907192723342e-06), 'nsamples': 375}, 'answers-students': {'pearson': (0.42548964403220346, 2.4736318520333553e-34), 'spearman': SpearmanrResult(correlation=0.5142782127363749, pvalue=7.209892946684974e-52), 'nsamples': 750}, 'belief': {'pearson': (0.3343415692495588, 3.030637998927422e-11), 'spearman': SpearmanrResult(correlation=0.4714943366273703, pvalue=3.750536284588351e-22), 'nsamples': 375}, 'headlines': {'pearson': (0.19185004015751358, 1.1932715672456485e-07), 'spearman': SpearmanrResult(correlation=0.2564950352940969, pvalue=9.867284037971997e-13), 'nsamples': 750}, 'images': {'pearson': (0.5071635807881572, 2.8898192556246366e-50), 'spearman': SpearmanrResult(correlation=0.50949407089001, pvalue=8.709041271102985e-51), 'nsamples': 750}, 'all': {'pearson': {'mean': 0.33604472031884497, 'wmean': 0.3505908583215124}, 'spearman': {'mean': 0.39965404118992537, 'wmean': 0.4098171906087636}}}}\n"
     ]
    }
   ],
   "source": [
    "# PPA-PCA-50D\n",
    "%run examples/bow_STS.py"
   ]
  },
  {
   "cell_type": "code",
   "execution_count": 27,
   "metadata": {
    "scrolled": true
   },
   "outputs": [
    {
     "name": "stdout",
     "output_type": "stream",
     "text": [
      "{'STS12': {'MSRpar': {'pearson': (0.1972865371254662, 5.107401049141537e-08), 'spearman': SpearmanrResult(correlation=0.3333291287544228, pvalue=6.410976519812585e-21), 'nsamples': 750}, 'MSRvid': {'pearson': (0.22880395027730438, 2.2992741929724755e-10), 'spearman': SpearmanrResult(correlation=0.30027945260163513, pvalue=4.2973021983830927e-17), 'nsamples': 750}, 'SMTeuroparl': {'pearson': (-0.10367785679556524, 0.026340392292210472), 'spearman': SpearmanrResult(correlation=0.18799785791164492, pvalue=5.057991925811273e-05), 'nsamples': 459}, 'surprise.OnWN': {'pearson': (0.2791349719040381, 6.863269155456254e-15), 'spearman': SpearmanrResult(correlation=0.47396529198495646, pvalue=2.8889575248923516e-43), 'nsamples': 750}, 'surprise.SMTnews': {'pearson': (0.22122119444562638, 8.180311609334676e-06), 'spearman': SpearmanrResult(correlation=0.25964966560007924, pvalue=1.4349144588777753e-07), 'nsamples': 399}, 'all': {'pearson': {'mean': 0.16455375939137395, 'wmean': 0.1832684088786187}, 'spearman': {'mean': 0.31104427937054774, 'wmean': 0.3283692530121099}}}, 'STS13': {'FNWN': {'pearson': (0.2387931527734707, 0.0009360030929081767), 'spearman': SpearmanrResult(correlation=0.23829288787060923, pvalue=0.0009601556165029011), 'nsamples': 189}, 'headlines': {'pearson': (0.06082195638828647, 0.09602437813609127), 'spearman': SpearmanrResult(correlation=0.24947635949774724, pvalue=4.188455964632663e-12), 'nsamples': 750}, 'OnWN': {'pearson': (0.33890568625181694, 1.5220681055214364e-16), 'spearman': SpearmanrResult(correlation=0.4249817705015633, pvalue=5.211204852797319e-26), 'nsamples': 561}, 'all': {'pearson': {'mean': 0.21284026513785803, 'wmean': 0.18724964210178008}, 'spearman': {'mean': 0.3042503392899733, 'wmean': 0.3137062657881551}}}, 'STS14': {'deft-forum': {'pearson': (-0.04138566014982058, 0.38110836310719876), 'spearman': SpearmanrResult(correlation=0.14582893006576644, pvalue=0.0019254912836542408), 'nsamples': 450}, 'deft-news': {'pearson': (0.5091696543535997, 3.4222615031021135e-21), 'spearman': SpearmanrResult(correlation=0.5549092046194227, pvalue=1.258762608550452e-25), 'nsamples': 300}, 'headlines': {'pearson': (0.05856315528364692, 0.10904099459622567), 'spearman': SpearmanrResult(correlation=0.23610191930681548, pvalue=5.834217122626009e-11), 'nsamples': 750}, 'images': {'pearson': (0.2319816462344832, 1.27264758837886e-10), 'spearman': SpearmanrResult(correlation=0.3620649360155834, pvalue=1.1986261731866112e-24), 'nsamples': 750}, 'OnWN': {'pearson': (0.36821548263754866, 1.697096893112738e-25), 'spearman': SpearmanrResult(correlation=0.47878011877088356, pvalue=3.1086633951802015e-44), 'nsamples': 750}, 'tweet-news': {'pearson': (0.10483576624620929, 0.004050773912963909), 'spearman': SpearmanrResult(correlation=0.3120383660258016, pvalue=2.120538471466267e-18), 'nsamples': 750}, 'all': {'pearson': {'mean': 0.2052300074342779, 'wmean': 0.1884865032106871}, 'spearman': {'mean': 0.34828724580071224, 'wmean': 0.3396892760012626}}}, 'STS15': {'answers-forums': {'pearson': (0.1686324841890431, 0.0010448658718), 'spearman': SpearmanrResult(correlation=0.21109612810513181, pvalue=3.7765713481157695e-05), 'nsamples': 375}, 'answers-students': {'pearson': (0.20829726373187338, 8.500746558269716e-09), 'spearman': SpearmanrResult(correlation=0.4691179195647145, pvalue=2.6302661651330548e-42), 'nsamples': 750}, 'belief': {'pearson': (0.1540686651043437, 0.0027765865284334196), 'spearman': SpearmanrResult(correlation=0.45125664379815433, pvalue=3.2705482820067523e-20), 'nsamples': 375}, 'headlines': {'pearson': (0.07299987759401556, 0.045660702306308296), 'spearman': SpearmanrResult(correlation=0.2363624918252326, pvalue=5.5506757854328014e-11), 'nsamples': 750}, 'images': {'pearson': (0.41858688956986195, 3.563027770611921e-33), 'spearman': SpearmanrResult(correlation=0.45701396554002544, pvalue=5.612239035491554e-40), 'nsamples': 750}, 'all': {'pearson': {'mean': 0.20451703603782753, 'wmean': 0.21530865138561112}, 'spearman': {'mean': 0.3649694297666517, 'wmean': 0.37341769072040387}}}}\n"
     ]
    }
   ],
   "source": [
    "# Glove-50D\n",
    "%run examples/bow_STS.py"
   ]
  },
  {
   "cell_type": "markdown",
   "metadata": {},
   "source": [
    "##### 100D"
   ]
  },
  {
   "cell_type": "code",
   "execution_count": 20,
   "metadata": {
    "scrolled": true
   },
   "outputs": [
    {
     "name": "stdout",
     "output_type": "stream",
     "text": [
      "{'STS12': {'MSRpar': {'pearson': (0.20153143540696455, 2.588970304372228e-08), 'spearman': SpearmanrResult(correlation=0.33907851650524445, pvalue=1.2351110826414999e-21), 'nsamples': 750}, 'MSRvid': {'pearson': (0.21620004709827037, 2.205577501378953e-09), 'spearman': SpearmanrResult(correlation=0.3017066012471012, pvalue=3.004330447756434e-17), 'nsamples': 750}, 'SMTeuroparl': {'pearson': (-0.11192686475931535, 0.016441852965187093), 'spearman': SpearmanrResult(correlation=0.1791106536038637, pvalue=0.00011427317939365382), 'nsamples': 459}, 'surprise.OnWN': {'pearson': (0.25779861924236497, 7.507103574119839e-13), 'spearman': SpearmanrResult(correlation=0.5019548361770139, pvalue=4.0799203460748194e-49), 'nsamples': 750}, 'surprise.SMTnews': {'pearson': (0.21822772288593445, 1.0897885013458798e-05), 'spearman': SpearmanrResult(correlation=0.2561785341800691, pvalue=2.1264123529140438e-07), 'nsamples': 399}, 'all': {'pearson': {'mean': 0.1563661919748438, 'wmean': 0.17450000219358494}, 'spearman': {'mean': 0.3156058283426585, 'wmean': 0.33509716556918945}}}, 'STS13': {'FNWN': {'pearson': (0.2609669236530498, 0.00028678311175463325), 'spearman': SpearmanrResult(correlation=0.24181025756972416, pvalue=0.0008017925972455805), 'nsamples': 189}, 'headlines': {'pearson': (0.01423463973361768, 0.6971273420231441), 'spearman': SpearmanrResult(correlation=0.23672567356205357, pvalue=5.177810242840856e-11), 'nsamples': 750}, 'OnWN': {'pearson': (0.30361883968012704, 1.9894635296603437e-13), 'spearman': SpearmanrResult(correlation=0.37884363288653483, pvalue=1.3778032915706855e-20), 'nsamples': 561}, 'all': {'pearson': {'mean': 0.19294013435559818, 'wmean': 0.15355259828746062}, 'spearman': {'mean': 0.2857931880061042, 'wmean': 0.29051844793437603}}}, 'STS14': {'deft-forum': {'pearson': (-0.056823871533403764, 0.22896242328954672), 'spearman': SpearmanrResult(correlation=0.14624811346524824, pvalue=0.001867692992064517), 'nsamples': 450}, 'deft-news': {'pearson': (0.5233562190000752, 1.6991353976546689e-22), 'spearman': SpearmanrResult(correlation=0.5574075865184507, pvalue=6.881314851369489e-26), 'nsamples': 300}, 'headlines': {'pearson': (0.00862014188256209, 0.8136787160835312), 'spearman': SpearmanrResult(correlation=0.23727016436034, pvalue=4.6641929268471034e-11), 'nsamples': 750}, 'images': {'pearson': (0.19159376463439415, 1.2412345325332392e-07), 'spearman': SpearmanrResult(correlation=0.3717113666839375, pvalue=5.481557676647913e-26), 'nsamples': 750}, 'OnWN': {'pearson': (0.329819533307188, 1.7224214258556218e-20), 'spearman': SpearmanrResult(correlation=0.46974237787919537, pvalue=1.9828310995808162e-42), 'nsamples': 750}, 'tweet-news': {'pearson': (0.07550418068400527, 0.038708740084681066), 'spearman': SpearmanrResult(correlation=0.3258984733454365, pvalue=5.118297222207135e-20), 'nsamples': 750}, 'all': {'pearson': {'mean': 0.17867832799580352, 'wmean': 0.15615715703762748}, 'spearman': {'mean': 0.3513796803754347, 'wmean': 0.34306685699108774}}}, 'STS15': {'answers-forums': {'pearson': (0.17661979092460822, 0.0005906799074774235), 'spearman': SpearmanrResult(correlation=0.21138789159010907, pvalue=3.682176060404672e-05), 'nsamples': 375}, 'answers-students': {'pearson': (0.18344018375781324, 4.229647319385945e-07), 'spearman': SpearmanrResult(correlation=0.5146240979778693, pvalue=6.012158405578674e-52), 'nsamples': 750}, 'belief': {'pearson': (0.13806678016729784, 0.007416044028273268), 'spearman': SpearmanrResult(correlation=0.44319706196765984, pvalue=1.7870886794605074e-19), 'nsamples': 375}, 'headlines': {'pearson': (0.017415540734537566, 0.6339427114846085), 'spearman': SpearmanrResult(correlation=0.23912854930185407, pvalue=3.258975567478914e-11), 'nsamples': 750}, 'images': {'pearson': (0.4470717367215582, 3.922736579141614e-38), 'spearman': SpearmanrResult(correlation=0.470473155305103, pvalue=1.4234961767318583e-42), 'nsamples': 750}, 'all': {'pearson': {'mean': 0.19252280646116302, 'wmean': 0.20131768668996552}, 'spearman': {'mean': 0.3757621512285191, 'wmean': 0.3878795698409277}}}}\n"
     ]
    }
   ],
   "source": [
    "# PCA-100D\n",
    "%run examples/bow_STS.py"
   ]
  },
  {
   "cell_type": "code",
   "execution_count": 4,
   "metadata": {
    "scrolled": true
   },
   "outputs": [
    {
     "name": "stderr",
     "output_type": "stream",
     "text": [
      "C:\\Users\\user\\Desktop\\paper\\SentEval\\senteval\\utils.py:39: RuntimeWarning: invalid value encountered in double_scalars\n",
      "  return np.dot(u, v) / (np.linalg.norm(u) * np.linalg.norm(v))\n"
     ]
    },
    {
     "name": "stdout",
     "output_type": "stream",
     "text": [
      "{'STS12': {'MSRpar': {'pearson': (0.29644047771272547, 1.1144807750951178e-16), 'spearman': SpearmanrResult(correlation=0.30310852874923305, pvalue=2.10962229003051e-17), 'nsamples': 750}, 'MSRvid': {'pearson': (0.36302919519932636, 8.847086388390353e-25), 'spearman': SpearmanrResult(correlation=0.3900097428924649, pvalue=1.1749957947521418e-28), 'nsamples': 750}, 'SMTeuroparl': {'pearson': (0.11676457633260354, 0.012302562972621741), 'spearman': SpearmanrResult(correlation=0.25202654045968437, pvalue=4.415757450791895e-08), 'nsamples': 459}, 'surprise.OnWN': {'pearson': (0.5429724300566411, 9.842459498159462e-59), 'spearman': SpearmanrResult(correlation=0.5482722764562837, pvalue=4.4804084673810246e-60), 'nsamples': 750}, 'surprise.SMTnews': {'pearson': (0.32152412555231813, 4.776028740280709e-11), 'spearman': SpearmanrResult(correlation=0.2761449072225007, pvalue=2.0455925198698697e-08), 'nsamples': 399}, 'all': {'pearson': {'mean': 0.3281461609707229, 'wmean': 0.3486855353470269}, 'spearman': {'mean': 0.35391239915603334, 'wmean': 0.37223452738940127}}}, 'STS13': {'FNWN': {'pearson': (0.2507685739788563, 0.0005006522500946011), 'spearman': SpearmanrResult(correlation=0.2520790526943438, pvalue=0.00046664911637042087), 'nsamples': 189}, 'headlines': {'pearson': (0.29248287303429954, 2.932619458670676e-16), 'spearman': SpearmanrResult(correlation=0.3092405601367337, pvalue=4.39281051452002e-18), 'nsamples': 750}, 'OnWN': {'pearson': (0.5028324229226957, 2.7758170169168677e-37), 'spearman': SpearmanrResult(correlation=0.5473149736979503, pvalue=3.7177788076582674e-45), 'nsamples': 561}, 'all': {'pearson': {'mean': 0.34869462331195056, 'wmean': 0.3658976030115738}, 'spearman': {'mean': 0.36954486217634264, 'wmean': 0.3910780408708876}}}, 'STS14': {'deft-forum': {'pearson': (0.13974791336314946, 0.002969800540754527), 'spearman': SpearmanrResult(correlation=0.18187643028387757, pvalue=0.0001045176790676403), 'nsamples': 450}, 'deft-news': {'pearson': (0.6726448413837351, 7.243739270562385e-41), 'spearman': SpearmanrResult(correlation=0.6170110772878405, pvalue=7.325420519670613e-33), 'nsamples': 300}, 'headlines': {'pearson': (0.2789429667201004, 7.172896076067076e-15), 'spearman': SpearmanrResult(correlation=0.2821309830089115, pvalue=3.4321121834148535e-15), 'nsamples': 750}, 'images': {'pearson': (0.5477826908509569, 5.974146468345969e-60), 'spearman': SpearmanrResult(correlation=0.5517510594611993, pvalue=5.72060983235633e-61), 'nsamples': 750}, 'OnWN': {'pearson': (0.5893446712982116, 2.4520543110393263e-71), 'spearman': SpearmanrResult(correlation=0.6223743129034767, pvalue=1.2228973619143702e-81), 'nsamples': 750}, 'tweet-news': {'pearson': (0.424719705638525, 3.341094417810549e-34), 'spearman': SpearmanrResult(correlation=0.41354887555613185, pvalue=2.4016318823059268e-32), 'nsamples': 750}, 'all': {'pearson': {'mean': 0.44219713154244644, 'wmean': 0.43873934381583557}, 'spearman': {'mean': 0.44478212308357296, 'wmean': 0.4451471040030364}}}, 'STS15': {'answers-forums': {'pearson': (0.3620926180254883, 4.639238982682043e-13), 'spearman': SpearmanrResult(correlation=0.3489796959037201, pvalue=3.5188359002697526e-12), 'nsamples': 375}, 'answers-students': {'pearson': (0.5394081935871863, 7.622674179873359e-58), 'spearman': SpearmanrResult(correlation=0.5706474391863426, pvalue=5.166310212893033e-66), 'nsamples': 750}, 'belief': {'pearson': (0.5478894847570008, 9.205814584261923e-31), 'spearman': SpearmanrResult(correlation=0.578810368560324, pvalue=6.376966235124731e-35), 'nsamples': 375}, 'headlines': {'pearson': (0.3072050389687375, 7.425747897665639e-18), 'spearman': SpearmanrResult(correlation=0.3052895297710731, pvalue=1.2124703014912354e-17), 'nsamples': 750}, 'images': {'pearson': (0.6075660635689426, 7.17961194994735e-77), 'spearman': SpearmanrResult(correlation=0.6042396134355483, pvalue=7.81657157922023e-76), 'nsamples': 750}, 'all': {'pearson': {'mean': 0.4728322797814711, 'wmean': 0.4772925868790277}, 'spearman': {'mean': 0.4815933293714016, 'wmean': 0.48601790365624653}}}}\n"
     ]
    }
   ],
   "source": [
    "# Algo-100D\n",
    "%run examples/bow_STS.py"
   ]
  },
  {
   "cell_type": "code",
   "execution_count": 21,
   "metadata": {
    "scrolled": true
   },
   "outputs": [
    {
     "name": "stdout",
     "output_type": "stream",
     "text": [
      "{'STS12': {'MSRpar': {'pearson': (0.28286442171601467, 2.8928370750315174e-15), 'spearman': SpearmanrResult(correlation=0.30929069796321684, pvalue=4.336147564113531e-18), 'nsamples': 750}, 'MSRvid': {'pearson': (0.3114340286064575, 2.4834421511903333e-18), 'spearman': SpearmanrResult(correlation=0.3518652400570655, pvalue=2.794997008144681e-23), 'nsamples': 750}, 'SMTeuroparl': {'pearson': (0.0022367865839301865, 0.9618828535465721), 'spearman': SpearmanrResult(correlation=0.19451408901103193, pvalue=2.7154166406422233e-05), 'nsamples': 459}, 'surprise.OnWN': {'pearson': (0.48837380723279433, 3.2877075352939868e-46), 'spearman': SpearmanrResult(correlation=0.5420559528571088, pvalue=1.669986601193397e-58), 'nsamples': 750}, 'surprise.SMTnews': {'pearson': (0.28200121042794946, 9.922786869944601e-09), 'spearman': SpearmanrResult(correlation=0.2759450810578819, pvalue=2.09609267316068e-08), 'nsamples': 399}, 'all': {'pearson': {'mean': 0.27338205091342926, 'wmean': 0.2977958047520031}, 'spearman': {'mean': 0.334734212189261, 'wmean': 0.35450224335785124}}}, 'STS13': {'FNWN': {'pearson': (0.21359549738827363, 0.0031663800710050073), 'spearman': SpearmanrResult(correlation=0.2179619920920373, pvalue=0.002587536572850309), 'nsamples': 189}, 'headlines': {'pearson': (0.22750276801515606, 2.922053370070039e-10), 'spearman': SpearmanrResult(correlation=0.2887778586473136, pvalue=7.156487776488371e-16), 'nsamples': 750}, 'OnWN': {'pearson': (0.40073536549949945, 4.7007384314586445e-23), 'spearman': SpearmanrResult(correlation=0.46106378512171153, pvalue=7.09881949161924e-31), 'nsamples': 561}, 'all': {'pearson': {'mean': 0.28061121030097635, 'wmean': 0.2905394433753133}, 'spearman': {'mean': 0.32260121195368746, 'wmean': 0.3442899959627736}}}, 'STS14': {'deft-forum': {'pearson': (0.07542741403441994, 0.11006886282596358), 'spearman': SpearmanrResult(correlation=0.1658412145637358, pvalue=0.0004112901077026551), 'nsamples': 450}, 'deft-news': {'pearson': (0.6550825934298632, 3.714917603189618e-38), 'spearman': SpearmanrResult(correlation=0.6212317290429646, pvalue=2.0583741286905852e-33), 'nsamples': 300}, 'headlines': {'pearson': (0.20942850626210563, 7.030332134672489e-09), 'spearman': SpearmanrResult(correlation=0.25960309652749286, pvalue=5.128958360447771e-13), 'nsamples': 750}, 'images': {'pearson': (0.4539249326991183, 2.1317530602885965e-39), 'spearman': SpearmanrResult(correlation=0.4840084445517275, pvalue=2.6524791323968594e-45), 'nsamples': 750}, 'OnWN': {'pearson': (0.48540361416319244, 1.3654447994774575e-45), 'spearman': SpearmanrResult(correlation=0.5399999754342957, pvalue=5.435500417532563e-58), 'nsamples': 750}, 'tweet-news': {'pearson': (0.33115174144811765, 1.18540865064478e-20), 'spearman': SpearmanrResult(correlation=0.38422269473460463, pvalue=8.559855784146704e-28), 'nsamples': 750}, 'all': {'pearson': {'mean': 0.36840313367280286, 'wmean': 0.3574396560730263}, 'spearman': {'mean': 0.40915119247580356, 'wmean': 0.4031663263207096}}}, 'STS15': {'answers-forums': {'pearson': (0.26286335970407687, 2.411687323520432e-07), 'spearman': SpearmanrResult(correlation=0.28393069615631394, pvalue=2.1997465599317673e-08), 'nsamples': 375}, 'answers-students': {'pearson': (0.5058757539416455, 5.58466052455548e-50), 'spearman': SpearmanrResult(correlation=0.5719144407814073, pvalue=2.3076816384826534e-66), 'nsamples': 750}, 'belief': {'pearson': (0.4118565106580905, 8.7121684114519e-17), 'spearman': SpearmanrResult(correlation=0.5115099747111254, pvalue=2.1650804017640247e-26), 'nsamples': 375}, 'headlines': {'pearson': (0.238081989466007, 3.9895403915211805e-11), 'spearman': SpearmanrResult(correlation=0.2785068762968187, pvalue=7.928003620551889e-15), 'nsamples': 750}, 'images': {'pearson': (0.5442784788216771, 4.620265167321626e-59), 'spearman': SpearmanrResult(correlation=0.5481984155108118, pvalue=4.6793180764879523e-60), 'nsamples': 750}, 'all': {'pearson': {'mean': 0.3925912185182995, 'wmean': 0.40639903935260335}, 'spearman': {'mean': 0.4388120806912954, 'wmean': 0.44908501700568937}}}}\n"
     ]
    }
   ],
   "source": [
    "# PCA-PPA-100D\n",
    "%run examples/bow_STS.py"
   ]
  },
  {
   "cell_type": "code",
   "execution_count": 23,
   "metadata": {
    "scrolled": true
   },
   "outputs": [
    {
     "name": "stdout",
     "output_type": "stream",
     "text": [
      "{'STS12': {'MSRpar': {'pearson': (0.2841736981593328, 2.1293801210617897e-15), 'spearman': SpearmanrResult(correlation=0.3163020196734488, pvalue=6.884976376890649e-19), 'nsamples': 750}, 'MSRvid': {'pearson': (0.32129767824739475, 1.800389053738747e-19), 'spearman': SpearmanrResult(correlation=0.36066914962836266, pvalue=1.856914252081187e-24), 'nsamples': 750}, 'SMTeuroparl': {'pearson': (0.004412356387573655, 0.9248912814486866), 'spearman': SpearmanrResult(correlation=0.19652712483184617, pvalue=2.2312669937675382e-05), 'nsamples': 459}, 'surprise.OnWN': {'pearson': (0.4972090861923578, 4.376152738226141e-48), 'spearman': SpearmanrResult(correlation=0.544604615104574, pvalue=3.8231966091089942e-59), 'nsamples': 750}, 'surprise.SMTnews': {'pearson': (0.29580708173187986, 1.6850847009370269e-09), 'spearman': SpearmanrResult(correlation=0.28969110809400483, pvalue=3.739928256671535e-09), 'nsamples': 399}, 'all': {'pearson': {'mean': 0.2805799801437078, 'wmean': 0.3047177104704731}, 'spearman': {'mean': 0.3415588034664473, 'wmean': 0.3609956694762273}}}, 'STS13': {'FNWN': {'pearson': (0.23356743344578187, 0.0012182297145635148), 'spearman': SpearmanrResult(correlation=0.23803095608450495, pvalue=0.0009730286810179973), 'nsamples': 189}, 'headlines': {'pearson': (0.23737513032991425, 4.571064312394542e-11), 'spearman': SpearmanrResult(correlation=0.2923648377797046, pvalue=3.0177765480546293e-16), 'nsamples': 750}, 'OnWN': {'pearson': (0.40069160713168883, 4.756457985913964e-23), 'spearman': SpearmanrResult(correlation=0.4540219330352045, pvalue=7.03203715186356e-30), 'nsamples': 561}, 'all': {'pearson': {'mean': 0.290544723635795, 'wmean': 0.29797572284637724}, 'spearman': {'mean': 0.3281392422998047, 'wmean': 0.3459785223116664}}}, 'STS14': {'deft-forum': {'pearson': (0.08374565286078026, 0.07594890797524709), 'spearman': SpearmanrResult(correlation=0.1761494708259677, pvalue=0.00017285158775829672), 'nsamples': 450}, 'deft-news': {'pearson': (0.6658546021641434, 8.503606037264815e-40), 'spearman': SpearmanrResult(correlation=0.6282585811529168, pvalue=2.3813404595226135e-34), 'nsamples': 300}, 'headlines': {'pearson': (0.21485761977392362, 2.783932851139569e-09), 'spearman': SpearmanrResult(correlation=0.2602746350220554, pvalue=4.4476729090304793e-13), 'nsamples': 750}, 'images': {'pearson': (0.46002884933288757, 1.5055454178164013e-40), 'spearman': SpearmanrResult(correlation=0.48532846428599746, pvalue=1.4152766991065566e-45), 'nsamples': 750}, 'OnWN': {'pearson': (0.4912298908409955, 8.25109884612094e-47), 'spearman': SpearmanrResult(correlation=0.5390996333431524, pvalue=9.090124167481165e-58), 'nsamples': 750}, 'tweet-news': {'pearson': (0.34177054379265914, 5.64440353769672e-22), 'spearman': SpearmanrResult(correlation=0.3884391924872445, pvalue=2.022068323985224e-28), 'nsamples': 750}, 'all': {'pearson': {'mean': 0.3762478597942316, 'wmean': 0.3648952272645183}, 'spearman': {'mean': 0.4129249961862223, 'wmean': 0.40602700801903946}}}, 'STS15': {'answers-forums': {'pearson': (0.27479287664979696, 6.371987082974603e-08), 'spearman': SpearmanrResult(correlation=0.2788792414171934, pvalue=3.979123638841909e-08), 'nsamples': 375}, 'answers-students': {'pearson': (0.5181943434718455, 9.105684660675248e-53), 'spearman': SpearmanrResult(correlation=0.5809827442099811, pvalue=6.501775511337091e-69), 'nsamples': 750}, 'belief': {'pearson': (0.4301320787523455, 2.551373843756604e-18), 'spearman': SpearmanrResult(correlation=0.5155093393906716, pvalue=7.591468101293525e-27), 'nsamples': 375}, 'headlines': {'pearson': (0.24297556702895654, 1.5367639073910386e-11), 'spearman': SpearmanrResult(correlation=0.27591139119669894, pvalue=1.4331256074245798e-14), 'nsamples': 750}, 'images': {'pearson': (0.549909268627671, 1.706083986784329e-60), 'spearman': SpearmanrResult(correlation=0.5509449771876006, pvalue=9.236388717249295e-61), 'nsamples': 750}, 'all': {'pearson': {'mean': 0.40320082690612313, 'wmean': 0.415885414207386}, 'spearman': {'mean': 0.4404455386804291, 'wmean': 0.4512583507495533}}}}\n"
     ]
    }
   ],
   "source": [
    "# PPA-PCA-100D\n",
    "%run examples/bow_STS.py"
   ]
  },
  {
   "cell_type": "code",
   "execution_count": 28,
   "metadata": {
    "scrolled": true
   },
   "outputs": [
    {
     "name": "stdout",
     "output_type": "stream",
     "text": [
      "{'STS12': {'MSRpar': {'pearson': (0.21290381089394986, 3.89654117925656e-09), 'spearman': SpearmanrResult(correlation=0.33862313693784657, pvalue=1.4089819452701144e-21), 'nsamples': 750}, 'MSRvid': {'pearson': (0.20726218111382907, 1.0104651497223042e-08), 'spearman': SpearmanrResult(correlation=0.28029707529055825, pvalue=5.250787654293049e-15), 'nsamples': 750}, 'SMTeuroparl': {'pearson': (-0.09412814929625055, 0.043841133910249484), 'spearman': SpearmanrResult(correlation=0.205660723721602, pvalue=8.925590389361929e-06), 'nsamples': 459}, 'surprise.OnWN': {'pearson': (0.3080856679753188, 5.919977616727644e-18), 'spearman': SpearmanrResult(correlation=0.5011889304586845, pvalue=5.998605379310827e-49), 'nsamples': 750}, 'surprise.SMTnews': {'pearson': (0.23166741411590136, 2.9137132565160438e-06), 'spearman': SpearmanrResult(correlation=0.25977603623789675, pvalue=1.4143609499090546e-07), 'nsamples': 399}, 'all': {'pearson': {'mean': 0.1731581849605497, 'wmean': 0.19157632647766698}, 'spearman': {'mean': 0.3171091805293176, 'wmean': 0.33401890851430277}}}, 'STS13': {'FNWN': {'pearson': (0.2667745840918564, 0.00020669487919811082), 'spearman': SpearmanrResult(correlation=0.2518171209082395, pvalue=0.00047326963029704244), 'nsamples': 189}, 'headlines': {'pearson': (0.06761212451269981, 0.06421791261282982), 'spearman': SpearmanrResult(correlation=0.24122777515695665, pvalue=2.165862009343574e-11), 'nsamples': 750}, 'OnWN': {'pearson': (0.3255272190506432, 2.584251991889894e-15), 'spearman': SpearmanrResult(correlation=0.40462825973324446, pvalue=1.6361900319842853e-23), 'nsamples': 561}, 'all': {'pearson': {'mean': 0.2199713092183998, 'wmean': 0.18916683977686435}, 'spearman': {'mean': 0.29922438526614686, 'wmean': 0.30367381395314996}}}, 'STS14': {'deft-forum': {'pearson': (-0.035576317155661494, 0.4515539069337394), 'spearman': SpearmanrResult(correlation=0.13909294842819722, pvalue=0.0031086406223542764), 'nsamples': 450}, 'deft-news': {'pearson': (0.5313836288696572, 2.915893056777223e-23), 'spearman': SpearmanrResult(correlation=0.5561932282430746, pvalue=9.234787801978121e-26), 'nsamples': 300}, 'headlines': {'pearson': (0.07078008482227734, 0.052673276852022784), 'spearman': SpearmanrResult(correlation=0.23560951912025702, pvalue=6.409131368008496e-11), 'nsamples': 750}, 'images': {'pearson': (0.2463466619371662, 7.868193020482766e-12), 'spearman': SpearmanrResult(correlation=0.37284859253595515, pvalue=3.783926628280618e-26), 'nsamples': 750}, 'OnWN': {'pearson': (0.36589304137683987, 3.5681753849838413e-25), 'spearman': SpearmanrResult(correlation=0.475883334977484, pvalue=1.193732110779367e-43), 'nsamples': 750}, 'tweet-news': {'pearson': (0.12510498433291722, 0.000594906243119559), 'spearman': SpearmanrResult(correlation=0.3353431446946736, pvalue=3.614904433566882e-21), 'nsamples': 750}, 'all': {'pearson': {'mean': 0.21732201403053275, 'wmean': 0.1998664867447333}, 'spearman': {'mean': 0.35249512799994026, 'wmean': 0.3451235303365036}}}, 'STS15': {'answers-forums': {'pearson': (0.1912361912528453, 0.00019504581822743578), 'spearman': SpearmanrResult(correlation=0.21998761460685118, pvalue=1.7188616441037273e-05), 'nsamples': 375}, 'answers-students': {'pearson': (0.2602976120192254, 4.426004918099088e-13), 'spearman': SpearmanrResult(correlation=0.5146501860430868, pvalue=5.9302895447709805e-52), 'nsamples': 750}, 'belief': {'pearson': (0.1767361590066414, 0.0005856851638844291), 'spearman': SpearmanrResult(correlation=0.4349020885215434, pvalue=9.794791848809913e-19), 'nsamples': 375}, 'headlines': {'pearson': (0.09009826812708618, 0.013573793348976676), 'spearman': SpearmanrResult(correlation=0.2411437924975648, pvalue=2.2017203034899503e-11), 'nsamples': 750}, 'images': {'pearson': (0.42909051805731907, 6.001524900792435e-35), 'spearman': SpearmanrResult(correlation=0.4578785621098787, pvalue=3.853398059725871e-40), 'nsamples': 750}, 'all': {'pearson': {'mean': 0.22949174969262348, 'wmean': 0.24086814333334347}, 'spearman': {'mean': 0.3737124487557849, 'wmean': 0.3852793480536819}}}}\n"
     ]
    }
   ],
   "source": [
    "# Glove-100D\n",
    "%run examples/bow_STS.py"
   ]
  },
  {
   "cell_type": "markdown",
   "metadata": {},
   "source": [
    "##### 150D"
   ]
  },
  {
   "cell_type": "code",
   "execution_count": 24,
   "metadata": {
    "scrolled": true
   },
   "outputs": [
    {
     "name": "stdout",
     "output_type": "stream",
     "text": [
      "{'STS12': {'MSRpar': {'pearson': (0.225956443354031, 3.877725634828439e-10), 'spearman': SpearmanrResult(correlation=0.34589982617834825, pvalue=1.6728274559707026e-22), 'nsamples': 750}, 'MSRvid': {'pearson': (0.23176625531208428, 1.325072756780813e-10), 'spearman': SpearmanrResult(correlation=0.30595493043926425, pvalue=1.0230157094468756e-17), 'nsamples': 750}, 'SMTeuroparl': {'pearson': (-0.10227174877005858, 0.028461051308123965), 'spearman': SpearmanrResult(correlation=0.2104988297433215, pvalue=5.401611154749264e-06), 'nsamples': 459}, 'surprise.OnWN': {'pearson': (0.3044204003747461, 1.5127496907067806e-17), 'spearman': SpearmanrResult(correlation=0.5054134746034286, pvalue=7.069799923244483e-50), 'nsamples': 750}, 'surprise.SMTnews': {'pearson': (0.22500107690829063, 5.662380471238638e-06), 'spearman': SpearmanrResult(correlation=0.26019074166414, pvalue=1.3488853224962808e-07), 'nsamples': 399}, 'all': {'pearson': {'mean': 0.17697448543581867, 'wmean': 0.1976962745436284}, 'spearman': {'mean': 0.32559156052570054, 'wmean': 0.3437536171788794}}}, 'STS13': {'FNWN': {'pearson': (0.26190329945177526, 0.0002721705940453396), 'spearman': SpearmanrResult(correlation=0.24221651911551856, pvalue=0.0007851406628392605), 'nsamples': 189}, 'headlines': {'pearson': (0.04342481586445134, 0.23490657278644536), 'spearman': SpearmanrResult(correlation=0.24787332048383703, pvalue=5.791313863025758e-12), 'nsamples': 750}, 'OnWN': {'pearson': (0.34562321797180967, 3.4826479455104144e-17), 'spearman': SpearmanrResult(correlation=0.41636383661783355, pvalue=6.238190265651057e-25), 'nsamples': 561}, 'all': {'pearson': {'mean': 0.21698377776267877, 'wmean': 0.18397530718460617}, 'spearman': {'mean': 0.3021512254057297, 'wmean': 0.3101760165455436}}}, 'STS14': {'deft-forum': {'pearson': (-0.04246564767604707, 0.3687952291742356), 'spearman': SpearmanrResult(correlation=0.15239962296792275, pvalue=0.001183386242732422), 'nsamples': 450}, 'deft-news': {'pearson': (0.555700057853775, 1.0403064798150137e-25), 'spearman': SpearmanrResult(correlation=0.5793058760418063, pvalue=2.7619193697975595e-28), 'nsamples': 300}, 'headlines': {'pearson': (0.03744446069335377, 0.3057844845026655), 'spearman': SpearmanrResult(correlation=0.2418570357473384, pvalue=1.9147487012073932e-11), 'nsamples': 750}, 'images': {'pearson': (0.24212189512181598, 1.8177752479169134e-11), 'spearman': SpearmanrResult(correlation=0.3878098657479908, pvalue=2.511356711200373e-28), 'nsamples': 750}, 'OnWN': {'pearson': (0.3815263484353021, 2.1303184202950373e-27), 'spearman': SpearmanrResult(correlation=0.49196486191140926, pvalue=5.768893337334984e-47), 'nsamples': 750}, 'tweet-news': {'pearson': (0.0994627149244442, 0.006408410670748841), 'spearman': SpearmanrResult(correlation=0.33951159990015617, pvalue=1.089479111465618e-21), 'nsamples': 750}, 'all': {'pearson': {'mean': 0.21229830489210733, 'wmean': 0.19147121074215953}, 'spearman': {'mean': 0.3654748103861039, 'wmean': 0.3568610975008742}}}, 'STS15': {'answers-forums': {'pearson': (0.21047145040355963, 3.986424285192766e-05), 'spearman': SpearmanrResult(correlation=0.23916359286518685, pvalue=2.8123261620785843e-06), 'nsamples': 375}, 'answers-students': {'pearson': (0.23800103258116428, 4.052290576209209e-11), 'spearman': SpearmanrResult(correlation=0.5415375841856628, pvalue=2.2504494745417067e-58), 'nsamples': 750}, 'belief': {'pearson': (0.17581560915251937, 0.0006262911456221741), 'spearman': SpearmanrResult(correlation=0.44285170845767385, pvalue=1.920052513904559e-19), 'nsamples': 375}, 'headlines': {'pearson': (0.05375094489831862, 0.14138898015116713), 'spearman': SpearmanrResult(correlation=0.25374166673339726, pvalue=1.7489708826474108e-12), 'nsamples': 750}, 'images': {'pearson': (0.4587463954667798, 2.6391791183694932e-40), 'spearman': SpearmanrResult(correlation=0.48310024140941793, pvalue=4.080011453677957e-45), 'nsamples': 750}, 'all': {'pearson': {'mean': 0.22735708650046837, 'wmean': 0.23591047568107554}, 'spearman': {'mean': 0.3920789587302677, 'wmean': 0.4048467857474771}}}}\n"
     ]
    }
   ],
   "source": [
    "# PCA-150D\n",
    "%run examples/bow_STS.py"
   ]
  },
  {
   "cell_type": "code",
   "execution_count": 8,
   "metadata": {
    "scrolled": true
   },
   "outputs": [
    {
     "name": "stdout",
     "output_type": "stream",
     "text": [
      "{'STS12': {'MSRpar': {'pearson': (0.3058753996051464, 1.0440270445395319e-17), 'spearman': SpearmanrResult(correlation=0.3078853151682231, pvalue=6.233629859496134e-18), 'nsamples': 750}, 'MSRvid': {'pearson': (0.39433030666057695, 2.5993134099356395e-29), 'spearman': SpearmanrResult(correlation=0.4199501061317053, pvalue=2.114257672646283e-33), 'nsamples': 750}, 'SMTeuroparl': {'pearson': (0.13523614283704471, 0.0036986223431040672), 'spearman': SpearmanrResult(correlation=0.27074348700912515, pvalue=3.743964875837537e-09), 'nsamples': 459}, 'surprise.OnWN': {'pearson': (0.5524352397998469, 3.8054072145070853e-61), 'spearman': SpearmanrResult(correlation=0.5560894000236637, pvalue=4.244805999737559e-62), 'nsamples': 750}, 'surprise.SMTnews': {'pearson': (0.34009563308169777, 2.9251320273055103e-12), 'spearman': SpearmanrResult(correlation=0.3081465007121018, pvalue=3.1826801540933185e-10), 'nsamples': 399}, 'all': {'pearson': {'mean': 0.34559454439686255, 'wmean': 0.36591127950803687}, 'spearman': {'mean': 0.37256296180896376, 'wmean': 0.38937108439961743}}}, 'STS13': {'FNWN': {'pearson': (0.27759644497320124, 0.00011005282623148423), 'spearman': SpearmanrResult(correlation=0.2751664686981086, pvalue=0.00012707542263121283), 'nsamples': 189}, 'headlines': {'pearson': (0.3048111210592608, 1.3696407400588441e-17), 'spearman': SpearmanrResult(correlation=0.31796302976538987, pvalue=4.420088427513337e-19), 'nsamples': 750}, 'OnWN': {'pearson': (0.49668603080922435, 2.7711082097079663e-36), 'spearman': SpearmanrResult(correlation=0.534620224628886, pvalue=8.660349563427778e-43), 'nsamples': 561}, 'all': {'pearson': {'mean': 0.35969786561389544, 'wmean': 0.3731432881189036}, 'spearman': {'mean': 0.3759165743641282, 'wmean': 0.39360045394986}}}, 'STS14': {'deft-forum': {'pearson': (0.13437089172593814, 0.004297328386923103), 'spearman': SpearmanrResult(correlation=0.17897017019097114, pvalue=0.00013517665916623053), 'nsamples': 450}, 'deft-news': {'pearson': (0.6993991305101732, 2.2532092409314452e-45), 'spearman': SpearmanrResult(correlation=0.6486046465904086, pvalue=3.34567540329865e-37), 'nsamples': 300}, 'headlines': {'pearson': (0.283656877902945, 2.4036165092405033e-15), 'spearman': SpearmanrResult(correlation=0.2897242084193016, pvalue=5.705313728259375e-16), 'nsamples': 750}, 'images': {'pearson': (0.5515576079723823, 6.418393133293996e-61), 'spearman': SpearmanrResult(correlation=0.5567620623842326, pvalue=2.826328153496346e-62), 'nsamples': 750}, 'OnWN': {'pearson': (0.5752778160315624, 2.670729834831947e-67), 'spearman': SpearmanrResult(correlation=0.6082725454478973, pvalue=4.308179616579069e-77), 'nsamples': 750}, 'tweet-news': {'pearson': (0.4247975832397757, 3.241147970371312e-34), 'spearman': SpearmanrResult(correlation=0.41514179045789495, pvalue=1.318300090229879e-32), 'nsamples': 750}, 'all': {'pearson': {'mean': 0.44484331789712944, 'wmean': 0.43913441447725954}, 'spearman': {'mean': 0.44957923724845106, 'wmean': 0.44734491349201455}}}, 'STS15': {'answers-forums': {'pearson': (0.3730319373091825, 7.959141344179896e-14), 'spearman': SpearmanrResult(correlation=0.35158549284578, pvalue=2.3700445577892925e-12), 'nsamples': 375}, 'answers-students': {'pearson': (0.5605639266372195, 2.7878083167421734e-63), 'spearman': SpearmanrResult(correlation=0.5849967668953364, pvalue=4.554624726733573e-70), 'nsamples': 750}, 'belief': {'pearson': (0.5700456542328419, 1.0676249415553187e-33), 'spearman': SpearmanrResult(correlation=0.5874835185559788, pvalue=3.6033151103608954e-36), 'nsamples': 375}, 'headlines': {'pearson': (0.3163091950668685, 6.871848786763797e-19), 'spearman': SpearmanrResult(correlation=0.3122304954596213, pvalue=2.0165145282818293e-18), 'nsamples': 750}, 'images': {'pearson': (0.6206293666459348, 4.598594912638655e-81), 'spearman': SpearmanrResult(correlation=0.6190416164851161, pvalue=1.5236735621603827e-80), 'nsamples': 750}, 'all': {'pearson': {'mean': 0.4881160159784095, 'wmean': 0.4922603210302588}, 'spearman': {'mean': 0.49106757804836654, 'wmean': 0.4964508461352383}}}}\n"
     ]
    }
   ],
   "source": [
    "# Algo-150D\n",
    "%run examples/bow_STS.py"
   ]
  },
  {
   "cell_type": "code",
   "execution_count": 25,
   "metadata": {
    "scrolled": true
   },
   "outputs": [
    {
     "name": "stdout",
     "output_type": "stream",
     "text": [
      "{'STS12': {'MSRpar': {'pearson': (0.2988076372859685, 6.20306136424073e-17), 'spearman': SpearmanrResult(correlation=0.32033436444817476, pvalue=2.336422220487841e-19), 'nsamples': 750}, 'MSRvid': {'pearson': (0.3210137128912047, 1.944346064108738e-19), 'spearman': SpearmanrResult(correlation=0.3531227660015008, pvalue=1.9073738438158978e-23), 'nsamples': 750}, 'SMTeuroparl': {'pearson': (0.042135677503470935, 0.3677662895117903), 'spearman': SpearmanrResult(correlation=0.24540755634138164, pvalue=1.0095864676979844e-07), 'nsamples': 459}, 'surprise.OnWN': {'pearson': (0.5196212028131499, 4.255758010386064e-53), 'spearman': SpearmanrResult(correlation=0.553970651324633, pvalue=1.5191341648044788e-61), 'nsamples': 750}, 'surprise.SMTnews': {'pearson': (0.3058645087125106, 4.3574054430616735e-10), 'spearman': SpearmanrResult(correlation=0.28136280251275203, pvalue=1.0745840361904681e-08), 'nsamples': 399}, 'all': {'pearson': {'mean': 0.29748854784126094, 'wmean': 0.32045113567989936}, 'spearman': {'mean': 0.35083962812568836, 'wmean': 0.36855748484363376}}}, 'STS13': {'FNWN': {'pearson': (0.26786686317505937, 0.00019418620543696025), 'spearman': SpearmanrResult(correlation=0.2690600725689968, pvalue=0.0001813301353737104), 'nsamples': 189}, 'headlines': {'pearson': (0.2526274127772061, 2.200609051700245e-12), 'spearman': SpearmanrResult(correlation=0.29427769962083417, pvalue=1.8945649187301995e-16), 'nsamples': 750}, 'OnWN': {'pearson': (0.4397314053332905, 6.28223119676643e-28), 'spearman': SpearmanrResult(correlation=0.4949345194327606, pvalue=5.293134797130903e-36), 'nsamples': 561}, 'all': {'pearson': {'mean': 0.3200752270951854, 'wmean': 0.32452447674331114}, 'spearman': {'mean': 0.35275743054086384, 'wmean': 0.3661459292219632}}}, 'STS14': {'deft-forum': {'pearson': (0.09619348354910581, 0.041387354752309514), 'spearman': SpearmanrResult(correlation=0.18167403059763088, pvalue=0.00010642061924598586), 'nsamples': 450}, 'deft-news': {'pearson': (0.6843900058872769, 8.728770648646929e-43), 'spearman': SpearmanrResult(correlation=0.6421146405508756, pvalue=2.8693188180430944e-36), 'nsamples': 300}, 'headlines': {'pearson': (0.23030581884166057, 1.740411398571477e-10), 'spearman': SpearmanrResult(correlation=0.26623826747819407, pvalue=1.2321201287837186e-13), 'nsamples': 750}, 'images': {'pearson': (0.4886516891220427, 2.875596991843481e-46), 'spearman': SpearmanrResult(correlation=0.509189933156977, pvalue=1.0190103121730724e-50), 'nsamples': 750}, 'OnWN': {'pearson': (0.5270565686616214, 7.619933199809571e-55), 'spearman': SpearmanrResult(correlation=0.5698013395676065, pvalue=8.832152525567128e-66), 'nsamples': 750}, 'tweet-news': {'pearson': (0.36985244780817056, 1.0014642975720321e-25), 'spearman': SpearmanrResult(correlation=0.40210929357985514, pvalue=1.6237558209542216e-30), 'nsamples': 750}, 'all': {'pearson': {'mean': 0.39940833564497963, 'wmean': 0.3894677233835739}, 'spearman': {'mean': 0.42852125082185655, 'wmean': 0.42263782167231234}}}, 'STS15': {'answers-forums': {'pearson': (0.3176667389757855, 3.0771525116134993e-10), 'spearman': SpearmanrResult(correlation=0.3171540939010874, pvalue=3.2970794231237794e-10), 'nsamples': 375}, 'answers-students': {'pearson': (0.5451091259759269, 2.8512044132623938e-59), 'spearman': SpearmanrResult(correlation=0.5979284811953556, pvalue=6.714949962553098e-74), 'nsamples': 750}, 'belief': {'pearson': (0.4675615204341215, 9.148978054366901e-22), 'spearman': SpearmanrResult(correlation=0.529426302269546, pvalue=1.7729492567188833e-28), 'nsamples': 375}, 'headlines': {'pearson': (0.2673646029467091, 9.63342674691507e-14), 'spearman': SpearmanrResult(correlation=0.28907915522340477, pvalue=6.65894391022824e-16), 'nsamples': 750}, 'images': {'pearson': (0.5746005031487835, 4.1314542598419656e-67), 'spearman': SpearmanrResult(correlation=0.5763583496284636, pvalue=1.3287476362241911e-67), 'nsamples': 750}, 'all': {'pearson': {'mean': 0.4344604982962653, 'wmean': 0.44492209044409325}, 'spearman': {'mean': 0.46198927644357146, 'wmean': 0.47166404603313516}}}}\n"
     ]
    }
   ],
   "source": [
    "# PCA-PPA-150D\n",
    "%run examples/bow_STS.py"
   ]
  },
  {
   "cell_type": "code",
   "execution_count": 26,
   "metadata": {
    "scrolled": true
   },
   "outputs": [
    {
     "name": "stdout",
     "output_type": "stream",
     "text": [
      "{'STS12': {'MSRpar': {'pearson': (0.3008551433226698, 3.720439845626468e-17), 'spearman': SpearmanrResult(correlation=0.3195730205041452, pvalue=2.868905772007948e-19), 'nsamples': 750}, 'MSRvid': {'pearson': (0.3143424656775518, 1.1572241885420507e-18), 'spearman': SpearmanrResult(correlation=0.34611202395303825, pvalue=1.5707079634357887e-22), 'nsamples': 750}, 'SMTeuroparl': {'pearson': (0.04745766753090866, 0.3103223192020688), 'spearman': SpearmanrResult(correlation=0.2519907469246047, pvalue=4.435830078245226e-08), 'nsamples': 459}, 'surprise.OnWN': {'pearson': (0.5217790871370168, 1.3378542808408863e-53), 'spearman': SpearmanrResult(correlation=0.5544776998829294, pvalue=1.1205726230227964e-61), 'nsamples': 750}, 'surprise.SMTnews': {'pearson': (0.3033500701782066, 6.140462562904854e-10), 'spearman': SpearmanrResult(correlation=0.28266330344853985, pvalue=9.133777709113737e-09), 'nsamples': 399}, 'all': {'pearson': {'mean': 0.2975568867692707, 'wmean': 0.3203192630311198}, 'spearman': {'mean': 0.35096335894265146, 'wmean': 0.367943522898792}}}, 'STS13': {'FNWN': {'pearson': (0.26874777918011017, 0.00018461595000293776), 'spearman': SpearmanrResult(correlation=0.2692854764529573, pvalue=0.00017899251162244945), 'nsamples': 189}, 'headlines': {'pearson': (0.2557610759060273, 1.1501418645299425e-12), 'spearman': SpearmanrResult(correlation=0.29648775387926163, pvalue=1.1015736449734167e-16), 'nsamples': 750}, 'OnWN': {'pearson': (0.443800965544042, 1.7860685878448137e-28), 'spearman': SpearmanrResult(correlation=0.4984333318876062, pvalue=1.4475862695149543e-36), 'nsamples': 561}, 'all': {'pearson': {'mean': 0.32276994021005984, 'wmean': 0.32772431924317924}, 'spearman': {'mean': 0.3547355207399417, 'wmean': 0.3685879130986682}}}, 'STS14': {'deft-forum': {'pearson': (0.09711041198866188, 0.03947868995922827), 'spearman': SpearmanrResult(correlation=0.1756427988304632, pvalue=0.00018058454458602828), 'nsamples': 450}, 'deft-news': {'pearson': (0.6842913269997507, 9.06677454076372e-43), 'spearman': SpearmanrResult(correlation=0.643191893859677, pvalue=2.015697223048836e-36), 'nsamples': 300}, 'headlines': {'pearson': (0.23201045281399535, 1.265791430564057e-10), 'spearman': SpearmanrResult(correlation=0.266347102049824, pvalue=1.2032290699325964e-13), 'nsamples': 750}, 'images': {'pearson': (0.4918219658949659, 6.184995003655299e-47), 'spearman': SpearmanrResult(correlation=0.5113851409348168, pvalue=3.268254536068903e-51), 'nsamples': 750}, 'OnWN': {'pearson': (0.528689248352036, 3.1081097734715845e-55), 'spearman': SpearmanrResult(correlation=0.5723467315010282, pvalue=1.7514928027722063e-66), 'nsamples': 750}, 'tweet-news': {'pearson': (0.3740620516175255, 2.5438046885579145e-26), 'spearman': SpearmanrResult(correlation=0.4040309189440596, pvalue=8.092079561999135e-31), 'nsamples': 750}, 'all': {'pearson': {'mean': 0.4013309096111559, 'wmean': 0.3917132993343241}, 'spearman': {'mean': 0.4288240976866448, 'wmean': 0.42335446605437543}}}, 'STS15': {'answers-forums': {'pearson': (0.32143271437216747, 1.8456815218828606e-10), 'spearman': SpearmanrResult(correlation=0.3190259197619008, pvalue=2.560859052841491e-10), 'nsamples': 375}, 'answers-students': {'pearson': (0.547693310614493, 6.296023565778522e-60), 'spearman': SpearmanrResult(correlation=0.5992645765751939, pvalue=2.6374823588483527e-74), 'nsamples': 750}, 'belief': {'pearson': (0.4717387776237651, 3.546964081684171e-22), 'spearman': SpearmanrResult(correlation=0.5299257350767005, pvalue=1.5442952001295424e-28), 'nsamples': 375}, 'headlines': {'pearson': (0.26997756783202054, 5.418792676946484e-14), 'spearman': SpearmanrResult(correlation=0.2898628643608702, pvalue=5.518589845591816e-16), 'nsamples': 750}, 'images': {'pearson': (0.5732715368222381, 9.695939722261453e-67), 'spearman': SpearmanrResult(correlation=0.5742265725630414, pvalue=5.2543378443728325e-67), 'nsamples': 750}, 'all': {'pearson': {'mean': 0.43682278145293674, 'wmean': 0.44688204031667944}, 'spearman': {'mean': 0.4624611336675414, 'wmean': 0.47195746022960156}}}}\n"
     ]
    }
   ],
   "source": [
    "# PPA-PCA-150D\n",
    "%run examples/bow_STS.py"
   ]
  },
  {
   "cell_type": "markdown",
   "metadata": {},
   "source": [
    "##### 200D"
   ]
  },
  {
   "cell_type": "code",
   "execution_count": 30,
   "metadata": {
    "scrolled": true
   },
   "outputs": [
    {
     "name": "stdout",
     "output_type": "stream",
     "text": [
      "{'STS12': {'MSRpar': {'pearson': (0.22964170302031756, 1.968947996101988e-10), 'spearman': SpearmanrResult(correlation=0.3462353660196916, pvalue=1.5142062234400798e-22), 'nsamples': 750}, 'MSRvid': {'pearson': (0.22819579891308375, 2.572306993274772e-10), 'spearman': SpearmanrResult(correlation=0.3022905108326265, pvalue=2.593569133538763e-17), 'nsamples': 750}, 'SMTeuroparl': {'pearson': (-0.10100800881659135, 0.030490456341766798), 'spearman': SpearmanrResult(correlation=0.21156018579551553, pvalue=4.830474585245707e-06), 'nsamples': 459}, 'surprise.OnWN': {'pearson': (0.30893645585886087, 4.752458399148498e-18), 'spearman': SpearmanrResult(correlation=0.5063025712154848, pvalue=4.4905855127805375e-50), 'nsamples': 750}, 'surprise.SMTnews': {'pearson': (0.22529684361078472, 5.5002257235638085e-06), 'spearman': SpearmanrResult(correlation=0.25835919459192574, pvalue=1.6619660801563866e-07), 'nsamples': 399}, 'all': {'pearson': {'mean': 0.17821255851729112, 'wmean': 0.19903836322332188}, 'spearman': {'mean': 0.3249495656910488, 'wmean': 0.34308648004284825}}}, 'STS13': {'FNWN': {'pearson': (0.2629964363802621, 0.0002559885016941738), 'spearman': SpearmanrResult(correlation=0.24333908391310846, pvalue=0.0007407701106917762), 'nsamples': 189}, 'headlines': {'pearson': (0.04619951356439424, 0.2063053000402494), 'spearman': SpearmanrResult(correlation=0.24900346770340107, pvalue=4.6096711637324954e-12), 'nsamples': 750}, 'OnWN': {'pearson': (0.34876316590950596, 1.7264476732375616e-17), 'spearman': SpearmanrResult(correlation=0.4193510727224875, pvalue=2.6599489311073813e-25), 'nsamples': 561}, 'all': {'pearson': {'mean': 0.21931970528472075, 'wmean': 0.18667473181626534}, 'spearman': {'mean': 0.3038978747796657, 'wmean': 0.3119997596229625}}}, 'STS14': {'deft-forum': {'pearson': (-0.04122971672238184, 0.38290685706994776), 'spearman': SpearmanrResult(correlation=0.15855184193895472, pvalue=0.0007370505566489251), 'nsamples': 450}, 'deft-news': {'pearson': (0.5567524554580282, 8.066012813835927e-26), 'spearman': SpearmanrResult(correlation=0.5787792683292806, pvalue=3.1693358220216972e-28), 'nsamples': 300}, 'headlines': {'pearson': (0.04005564411084628, 0.2732630502177058), 'spearman': SpearmanrResult(correlation=0.24242675009302528, pvalue=1.7120915691064042e-11), 'nsamples': 750}, 'images': {'pearson': (0.24713109332876976, 6.723544766911182e-12), 'spearman': SpearmanrResult(correlation=0.3893402622917183, pvalue=1.4814593507512416e-28), 'nsamples': 750}, 'OnWN': {'pearson': (0.38276629668004186, 1.402194639233036e-27), 'spearman': SpearmanrResult(correlation=0.49271955328394884, pvalue=3.9912535023865017e-47), 'nsamples': 750}, 'tweet-news': {'pearson': (0.10216850595253506, 0.005099748178659455), 'spearman': SpearmanrResult(correlation=0.33976195002688453, pvalue=1.013170544743617e-21), 'nsamples': 750}, 'all': {'pearson': {'mean': 0.21460737980130654, 'wmean': 0.19401693844439502}, 'spearman': {'mean': 0.3669299376606354, 'wmean': 0.3581782656381324}}}, 'STS15': {'answers-forums': {'pearson': (0.21314294741465284, 3.159780415630238e-05), 'spearman': SpearmanrResult(correlation=0.2409766782276566, pvalue=2.3508043916168563e-06), 'nsamples': 375}, 'answers-students': {'pearson': (0.24352780270234203, 1.3780941472231337e-11), 'spearman': SpearmanrResult(correlation=0.5437076728974667, pvalue=6.432609212387835e-59), 'nsamples': 750}, 'belief': {'pearson': (0.1798960292774291, 0.0004641381039463598), 'spearman': SpearmanrResult(correlation=0.4418745271548846, pvalue=2.351300636955061e-19), 'nsamples': 375}, 'headlines': {'pearson': (0.05713004568478802, 0.117996621443978), 'spearman': SpearmanrResult(correlation=0.2545152979953812, pvalue=1.4901657287865106e-12), 'nsamples': 750}, 'images': {'pearson': (0.45651685277123294, 6.963246187369205e-40), 'spearman': SpearmanrResult(correlation=0.4787426221396684, pvalue=3.163539493729009e-44), 'nsamples': 750}, 'all': {'pearson': {'mean': 0.23004273557008897, 'wmean': 0.23842354737610097}, 'spearman': {'mean': 0.3919633596830115, 'wmean': 0.4045977989309467}}}}\n"
     ]
    }
   ],
   "source": [
    "# PCA-200D\n",
    "%run examples/bow_STS.py"
   ]
  },
  {
   "cell_type": "code",
   "execution_count": 6,
   "metadata": {
    "scrolled": true
   },
   "outputs": [
    {
     "name": "stdout",
     "output_type": "stream",
     "text": [
      "{'STS12': {'MSRpar': {'pearson': (0.31878177969477123, 3.5490511944202675e-19), 'spearman': SpearmanrResult(correlation=0.31765162630316746, pvalue=4.804047143657303e-19), 'nsamples': 750}, 'MSRvid': {'pearson': (0.3708179564958871, 7.326676563041394e-26), 'spearman': SpearmanrResult(correlation=0.3951105838961664, pvalue=1.9746818230579884e-29), 'nsamples': 750}, 'SMTeuroparl': {'pearson': (0.1520125498851413, 0.0010873790652249167), 'spearman': SpearmanrResult(correlation=0.29026835988740757, pvalue=2.3153371289028793e-10), 'nsamples': 459}, 'surprise.OnWN': {'pearson': (0.5632545513725128, 5.314073533239835e-64), 'spearman': SpearmanrResult(correlation=0.5610614354322602, pvalue=2.0542759331243963e-63), 'nsamples': 750}, 'surprise.SMTnews': {'pearson': (0.34346239519373506, 1.7274223475429732e-12), 'spearman': SpearmanrResult(correlation=0.29281891892402717, pvalue=2.493537023750997e-09), 'nsamples': 399}, 'all': {'pearson': {'mean': 0.34966584652840943, 'wmean': 0.3688725777837704}, 'spearman': {'mean': 0.37138218488860575, 'wmean': 0.387849311474486}}}, 'STS13': {'FNWN': {'pearson': (0.30743091228748665, 1.6841372258186963e-05), 'spearman': SpearmanrResult(correlation=0.314069575405695, pvalue=1.0776541872084206e-05), 'nsamples': 189}, 'headlines': {'pearson': (0.3041340821720301, 1.6268721814468265e-17), 'spearman': SpearmanrResult(correlation=0.3166520930887985, pvalue=6.27245774576772e-19), 'nsamples': 750}, 'OnWN': {'pearson': (0.5148569074313091, 2.6836262107828366e-39), 'spearman': SpearmanrResult(correlation=0.5558763318736293, pvalue=8.236179345495035e-47), 'nsamples': 561}, 'all': {'pearson': {'mean': 0.3754739672969419, 'wmean': 0.38335981941354796}, 'spearman': {'mean': 0.3955326667893743, 'wmean': 0.4057965611662542}}}, 'STS14': {'deft-forum': {'pearson': (0.14183142919168146, 0.002564806017376891), 'spearman': SpearmanrResult(correlation=0.18770915105525193, pvalue=6.162362969676796e-05), 'nsamples': 450}, 'deft-news': {'pearson': (0.6954702563526346, 1.1110178474534295e-44), 'spearman': SpearmanrResult(correlation=0.6473811628221274, pvalue=5.036914691245898e-37), 'nsamples': 300}, 'headlines': {'pearson': (0.2789799080841061, 7.112277412035806e-15), 'spearman': SpearmanrResult(correlation=0.28667121567618187, pvalue=1.1815716785829042e-15), 'nsamples': 750}, 'images': {'pearson': (0.55828968948761, 1.1183544806937367e-62), 'spearman': SpearmanrResult(correlation=0.5606253248889895, pvalue=2.68478921626057e-63), 'nsamples': 750}, 'OnWN': {'pearson': (0.5981753064925932, 5.652112172199753e-74), 'spearman': SpearmanrResult(correlation=0.62998933732541, pvalue=3.418711339047329e-84), 'nsamples': 750}, 'tweet-news': {'pearson': (0.4327204342044235, 1.4147284067040021e-35), 'spearman': SpearmanrResult(correlation=0.4159179766432282, pvalue=9.830477875639722e-33), 'nsamples': 750}, 'all': {'pearson': {'mean': 0.4509111706355082, 'wmean': 0.44629045966495917}, 'spearman': {'mean': 0.4547156947351982, 'wmean': 0.45295636205916234}}}, 'STS15': {'answers-forums': {'pearson': (0.37724466627522324, 3.9648453588848285e-14), 'spearman': SpearmanrResult(correlation=0.35271114328879805, pvalue=1.995813302426146e-12), 'nsamples': 375}, 'answers-students': {'pearson': (0.5844984948978552, 6.348184786791405e-70), 'spearman': SpearmanrResult(correlation=0.6038908466679701, pvalue=1.0023644353430843e-75), 'nsamples': 750}, 'belief': {'pearson': (0.5784520099551, 7.167643544093407e-35), 'spearman': SpearmanrResult(correlation=0.5909800564754163, pvalue=1.1038484727320913e-36), 'nsamples': 375}, 'headlines': {'pearson': (0.3184695651537549, 3.8591791147984497e-19), 'spearman': SpearmanrResult(correlation=0.3144613186320605, pvalue=1.1214683551221887e-18), 'nsamples': 750}, 'images': {'pearson': (0.6279099346801915, 1.730618173287768e-83), 'spearman': SpearmanrResult(correlation=0.6270968515883464, pvalue=3.2520461422380595e-83), 'nsamples': 750}, 'all': {'pearson': {'mean': 0.497314934192425, 'wmean': 0.5021815832117409}, 'spearman': {'mean': 0.4978280433305183, 'wmean': 0.504323654192621}}}}\n"
     ]
    }
   ],
   "source": [
    "# Algo-200D\n",
    "%run examples/bow_STS.py"
   ]
  },
  {
   "cell_type": "code",
   "execution_count": 31,
   "metadata": {
    "scrolled": true
   },
   "outputs": [
    {
     "name": "stdout",
     "output_type": "stream",
     "text": [
      "{'STS12': {'MSRpar': {'pearson': (0.30256425434432466, 2.420551854581558e-17), 'spearman': SpearmanrResult(correlation=0.32115955836031596, pvalue=1.8690459266348004e-19), 'nsamples': 750}, 'MSRvid': {'pearson': (0.3159542745069133, 7.551704687364567e-19), 'spearman': SpearmanrResult(correlation=0.3476952377582396, pvalue=9.802358750035765e-23), 'nsamples': 750}, 'SMTeuroparl': {'pearson': (0.04553690107168761, 0.3303344658423273), 'spearman': SpearmanrResult(correlation=0.2533221740678438, pvalue=3.74545574038408e-08), 'nsamples': 459}, 'surprise.OnWN': {'pearson': (0.5213352873861425, 1.698495525098646e-53), 'spearman': SpearmanrResult(correlation=0.5543591666345873, pvalue=1.2032465305468804e-61), 'nsamples': 750}, 'surprise.SMTnews': {'pearson': (0.302622921280547, 6.776693758912763e-10), 'spearman': SpearmanrResult(correlation=0.28107810010500023, pvalue=1.113384727383912e-08), 'nsamples': 399}, 'all': {'pearson': {'mean': 0.297602727717923, 'wmean': 0.32063653325639585}, 'spearman': {'mean': 0.35152284738519735, 'wmean': 0.368672944628022}}}, 'STS13': {'FNWN': {'pearson': (0.2711502480396406, 0.00016070380446737983), 'spearman': SpearmanrResult(correlation=0.27164464437678104, pvalue=0.00015615623142255523), 'nsamples': 189}, 'headlines': {'pearson': (0.25535299474264483, 1.2521729672806364e-12), 'spearman': SpearmanrResult(correlation=0.2969050463487137, pvalue=9.938437952884723e-17), 'nsamples': 750}, 'OnWN': {'pearson': (0.44321074158066975, 2.1457361530873787e-28), 'spearman': SpearmanrResult(correlation=0.497742649171016, pvalue=1.872031520602211e-36), 'nsamples': 561}, 'all': {'pearson': {'mean': 0.32323799478765175, 'wmean': 0.3276022459754876}, 'spearman': {'mean': 0.3554307799655036, 'wmean': 0.3688354991557912}}}, 'STS14': {'deft-forum': {'pearson': (0.09620727959646523, 0.0413580700868628), 'spearman': SpearmanrResult(correlation=0.17992815816148286, pvalue=0.00012424226950461488), 'nsamples': 450}, 'deft-news': {'pearson': (0.6847702606970602, 7.53895043147584e-43), 'spearman': SpearmanrResult(correlation=0.6438500422138352, pvalue=1.6234194776564777e-36), 'nsamples': 300}, 'headlines': {'pearson': (0.23180048373040785, 1.3166031646491892e-10), 'spearman': SpearmanrResult(correlation=0.26657938937866854, pvalue=1.1437707974665966e-13), 'nsamples': 750}, 'images': {'pearson': (0.49208281661863185, 5.446458801434944e-47), 'spearman': SpearmanrResult(correlation=0.5120295926632596, pvalue=2.3369355519368263e-51), 'nsamples': 750}, 'OnWN': {'pearson': (0.5276284223907315, 5.5690918450956185e-55), 'spearman': SpearmanrResult(correlation=0.571471611523993, pvalue=3.0597006984694274e-66), 'nsamples': 750}, 'tweet-news': {'pearson': (0.37164936963407996, 5.593202578939269e-26), 'spearman': SpearmanrResult(correlation=0.4033559455849437, pvalue=1.0340113101987638e-30), 'nsamples': 750}, 'all': {'pearson': {'mean': 0.4006897721112294, 'wmean': 0.39095871288211087}, 'spearman': {'mean': 0.4295357899210304, 'wmean': 0.42378669018665777}}}, 'STS15': {'answers-forums': {'pearson': (0.3199435733091268, 2.2610290474046845e-10), 'spearman': SpearmanrResult(correlation=0.31746205379531656, pvalue=3.1631967355306977e-10), 'nsamples': 375}, 'answers-students': {'pearson': (0.5472413563574857, 8.207331878432947e-60), 'spearman': SpearmanrResult(correlation=0.5993183158513582, pvalue=2.5399529130575184e-74), 'nsamples': 750}, 'belief': {'pearson': (0.46933043263833846, 6.134796400052882e-22), 'spearman': SpearmanrResult(correlation=0.5288112484671821, pvalue=2.1009125949915966e-28), 'nsamples': 375}, 'headlines': {'pearson': (0.2694377208206169, 6.105927819158747e-14), 'spearman': SpearmanrResult(correlation=0.2905732090155667, pvalue=4.652295349096734e-16), 'nsamples': 750}, 'images': {'pearson': (0.5747352068643596, 3.788399985686814e-67), 'spearman': SpearmanrResult(correlation=0.5757193128541754, pvalue=2.0085679009665674e-67), 'nsamples': 750}, 'all': {'pearson': {'mean': 0.43613765799798554, 'wmean': 0.4465128217540488}, 'spearman': {'mean': 0.4623768279967198, 'wmean': 0.4721868722130874}}}}\n"
     ]
    }
   ],
   "source": [
    "# PCA-PPA-200D\n",
    "%run examples/bow_STS.py"
   ]
  },
  {
   "cell_type": "code",
   "execution_count": 32,
   "metadata": {
    "scrolled": true
   },
   "outputs": [
    {
     "name": "stdout",
     "output_type": "stream",
     "text": [
      "{'STS12': {'MSRpar': {'pearson': (0.302564297150744, 2.4205257085989216e-17), 'spearman': SpearmanrResult(correlation=0.32115955836031596, pvalue=1.8690459266348004e-19), 'nsamples': 750}, 'MSRvid': {'pearson': (0.315953980043915, 7.55229538604565e-19), 'spearman': SpearmanrResult(correlation=0.3469854290087962, pvalue=1.2113744579754091e-22), 'nsamples': 750}, 'SMTeuroparl': {'pearson': (0.04553710826791911, 0.33033226315905595), 'spearman': SpearmanrResult(correlation=0.2532245458120635, pvalue=3.792329990784508e-08), 'nsamples': 459}, 'surprise.OnWN': {'pearson': (0.5213352536143693, 1.698526351473494e-53), 'spearman': SpearmanrResult(correlation=0.5543369840897582, pvalue=1.2193788544115022e-61), 'nsamples': 750}, 'surprise.SMTnews': {'pearson': (0.30262305689219826, 6.776569331531975e-10), 'spearman': SpearmanrResult(correlation=0.28107825942001513, pvalue=1.1133626404646238e-08), 'nsamples': 399}, 'all': {'pearson': {'mean': 0.29760273919382907, 'wmean': 0.320636512387945}, 'spearman': {'mean': 0.3513569553381898, 'wmean': 0.3684819081822638}}}, 'STS13': {'FNWN': {'pearson': (0.27115052501434334, 0.00016070122253378558), 'spearman': SpearmanrResult(correlation=0.27164464437678104, pvalue=0.00015615623142255523), 'nsamples': 189}, 'headlines': {'pearson': (0.2553527945110283, 1.2522251432982399e-12), 'spearman': SpearmanrResult(correlation=0.2968525213623515, pvalue=1.0068111363964521e-16), 'nsamples': 750}, 'OnWN': {'pearson': (0.44321085322321313, 2.1456617636367194e-28), 'spearman': SpearmanrResult(correlation=0.49772128563824114, pvalue=1.8869618678621778e-36), 'nsamples': 561}, 'all': {'pearson': {'mean': 0.32323805758286156, 'wmean': 0.32760222251280313}, 'spearman': {'mean': 0.3554061504591246, 'wmean': 0.36880124670135234}}}, 'STS14': {'deft-forum': {'pearson': (0.09620743927205544, 0.04135773124826753), 'spearman': SpearmanrResult(correlation=0.17487146533965894, pvalue=0.00019298164504995011), 'nsamples': 450}, 'deft-news': {'pearson': (0.6847701444964948, 7.53928829910018e-43), 'spearman': SpearmanrResult(correlation=0.6438500422138352, pvalue=1.6234194776564777e-36), 'nsamples': 300}, 'headlines': {'pearson': (0.23180048011501023, 1.316604056460587e-10), 'spearman': SpearmanrResult(correlation=0.26702622008465215, pvalue=1.0373881380698274e-13), 'nsamples': 750}, 'images': {'pearson': (0.49208278575399145, 5.446540784942218e-47), 'spearman': SpearmanrResult(correlation=0.5120295926632596, pvalue=2.3369355519368263e-51), 'nsamples': 750}, 'OnWN': {'pearson': (0.5276284244496644, 5.569085552311558e-55), 'spearman': SpearmanrResult(correlation=0.571559067402134, pvalue=2.8940108383654275e-66), 'nsamples': 750}, 'tweet-news': {'pearson': (0.37164919958062487, 5.593511885387988e-26), 'spearman': SpearmanrResult(correlation=0.40348623672905237, pvalue=9.862640400793434e-31), 'nsamples': 750}, 'all': {'pearson': {'mean': 0.4006897456113068, 'wmean': 0.39095868225222447}, 'spearman': {'mean': 0.42880377073876536, 'wmean': 0.42331280259368553}}}, 'STS15': {'answers-forums': {'pearson': (0.3199439445314295, 2.260914960651227e-10), 'spearman': SpearmanrResult(correlation=0.31746205379531656, pvalue=3.1631967355306977e-10), 'nsamples': 375}, 'answers-students': {'pearson': (0.5472413685398185, 8.207273273959346e-60), 'spearman': SpearmanrResult(correlation=0.5993166072658346, pvalue=2.5429978132300337e-74), 'nsamples': 750}, 'belief': {'pearson': (0.46933044930484547, 6.134773231686023e-22), 'spearman': SpearmanrResult(correlation=0.5288105627884726, pvalue=2.101309753597665e-28), 'nsamples': 375}, 'headlines': {'pearson': (0.2694377710850059, 6.105860022565209e-14), 'spearman': SpearmanrResult(correlation=0.2903904156173911, pvalue=4.861509670741185e-16), 'nsamples': 750}, 'images': {'pearson': (0.574735150681896, 3.788536989611299e-67), 'spearman': SpearmanrResult(correlation=0.5757337804484371, pvalue=1.9898866191000963e-67), 'nsamples': 750}, 'all': {'pearson': {'mean': 0.436137736828599, 'wmean': 0.44651287180621446}, 'spearman': {'mean': 0.46234268398309036, 'wmean': 0.47214427790588936}}}}\n"
     ]
    }
   ],
   "source": [
    "# PPA-PCA-200D\n",
    "%run examples/bow_STS.py"
   ]
  },
  {
   "cell_type": "code",
   "execution_count": 10,
   "metadata": {
    "scrolled": true
   },
   "outputs": [
    {
     "name": "stdout",
     "output_type": "stream",
     "text": [
      "{'STS12': {'MSRpar': {'pearson': (0.24644817019682272, 7.709976874231936e-12), 'spearman': SpearmanrResult(correlation=0.34197799424985653, pvalue=5.312169698245572e-22), 'nsamples': 750}, 'MSRvid': {'pearson': (0.2407580080772599, 2.3740311485907788e-11), 'spearman': SpearmanrResult(correlation=0.29892995814727324, pvalue=6.01717389268744e-17), 'nsamples': 750}, 'SMTeuroparl': {'pearson': (-0.07808391661571418, 0.09474489418643603), 'spearman': SpearmanrResult(correlation=0.22066074899742602, pvalue=1.8098487515054745e-06), 'nsamples': 459}, 'surprise.OnWN': {'pearson': (0.3608540168299942, 1.7525349434327344e-24), 'spearman': SpearmanrResult(correlation=0.5110110632457479, pvalue=3.9694278792056834e-51), 'nsamples': 750}, 'surprise.SMTnews': {'pearson': (0.23995136616561896, 1.2407955828937488e-06), 'spearman': SpearmanrResult(correlation=0.2574179163075041, pvalue=1.8490100783866547e-07), 'nsamples': 399}, 'all': {'pearson': {'mean': 0.2019855289307963, 'wmean': 0.22392059964656588}, 'spearman': {'mean': 0.3259995361895615, 'wmean': 0.3436075592434591}}}, 'STS13': {'FNWN': {'pearson': (0.26709297835775636, 0.00020297324109541082), 'spearman': SpearmanrResult(correlation=0.24761997585947296, pvalue=0.0005919300361128486), 'nsamples': 189}, 'headlines': {'pearson': (0.11253904816280288, 0.0020240617256578703), 'spearman': SpearmanrResult(correlation=0.2570108794605455, pvalue=8.857192538032366e-13), 'nsamples': 750}, 'OnWN': {'pearson': (0.34575549441066383, 3.381741106122187e-17), 'spearman': SpearmanrResult(correlation=0.4171610645466915, pvalue=4.97310206399567e-25), 'nsamples': 561}, 'all': {'pearson': {'mean': 0.24179584031040768, 'wmean': 0.21923579426406703}, 'spearman': {'mean': 0.3072639732889033, 'wmean': 0.31572379482902896}}}, 'STS14': {'deft-forum': {'pearson': (-0.008534182361646516, 0.8567309242628179), 'spearman': SpearmanrResult(correlation=0.15364127038494788, pvalue=0.001077027448665532), 'nsamples': 450}, 'deft-news': {'pearson': (0.5711824101827832, 2.2445711182302637e-27), 'spearman': SpearmanrResult(correlation=0.5798551862000959, pvalue=2.3920056341581324e-28), 'nsamples': 300}, 'headlines': {'pearson': (0.10309576189021002, 0.004710112509978163), 'spearman': SpearmanrResult(correlation=0.2423469276799732, pvalue=1.739168425626144e-11), 'nsamples': 750}, 'images': {'pearson': (0.30634337160602504, 9.26230270839832e-18), 'spearman': SpearmanrResult(correlation=0.39980345249926824, pvalue=3.7226506020196766e-30), 'nsamples': 750}, 'OnWN': {'pearson': (0.40329368714340497, 1.0576285072336356e-30), 'spearman': SpearmanrResult(correlation=0.4935165773474022, pvalue=2.7022024499049656e-47), 'nsamples': 750}, 'tweet-news': {'pearson': (0.1634828798832675, 6.795216061897368e-06), 'spearman': SpearmanrResult(correlation=0.3468872137742994, pvalue=1.2473334287162962e-22), 'nsamples': 750}, 'all': {'pearson': {'mean': 0.25647732139067403, 'wmean': 0.23991363103580654}, 'spearman': {'mean': 0.36934177131433116, 'wmean': 0.36133620160238994}}}, 'STS15': {'answers-forums': {'pearson': (0.20721672627830612, 5.270226245625407e-05), 'spearman': SpearmanrResult(correlation=0.23429930930622556, pvalue=4.517514440504e-06), 'nsamples': 375}, 'answers-students': {'pearson': (0.34673714136001105, 1.3043247734458316e-22), 'spearman': SpearmanrResult(correlation=0.541553744557074, pvalue=2.2296346378343342e-58), 'nsamples': 750}, 'belief': {'pearson': (0.22253647200001242, 1.3633847507172458e-05), 'spearman': SpearmanrResult(correlation=0.4451132164433671, pvalue=1.198319578287931e-19), 'nsamples': 375}, 'headlines': {'pearson': (0.1315658121690475, 0.000302927313061844), 'spearman': SpearmanrResult(correlation=0.2602278716111396, pvalue=4.492093755992454e-13), 'nsamples': 750}, 'images': {'pearson': (0.46398121101759904, 2.6294261830706534e-41), 'spearman': SpearmanrResult(correlation=0.4827735901426129, pvalue=4.761956086199824e-45), 'nsamples': 750}, 'all': {'pearson': {'mean': 0.2744074725649952, 'wmean': 0.2892901909214542}, 'spearman': {'mean': 0.39279354641208386, 'wmean': 0.4060653672964057}}}}\n"
     ]
    }
   ],
   "source": [
    "# Glove-200D\n",
    "%run examples/bow_STS.py"
   ]
  },
  {
   "cell_type": "code",
   "execution_count": 33,
   "metadata": {},
   "outputs": [],
   "source": [
    "import pandas as pd\n",
    "import matplotlib.pyplot as plt"
   ]
  },
  {
   "cell_type": "code",
   "execution_count": 49,
   "metadata": {},
   "outputs": [
    {
     "data": {
      "text/html": [
       "<div>\n",
       "<style scoped>\n",
       "    .dataframe tbody tr th:only-of-type {\n",
       "        vertical-align: middle;\n",
       "    }\n",
       "\n",
       "    .dataframe tbody tr th {\n",
       "        vertical-align: top;\n",
       "    }\n",
       "\n",
       "    .dataframe thead th {\n",
       "        text-align: right;\n",
       "    }\n",
       "</style>\n",
       "<table border=\"1\" class=\"dataframe\">\n",
       "  <thead>\n",
       "    <tr style=\"text-align: right;\">\n",
       "      <th></th>\n",
       "      <th>50</th>\n",
       "      <th>100</th>\n",
       "      <th>150</th>\n",
       "      <th>200</th>\n",
       "    </tr>\n",
       "  </thead>\n",
       "  <tbody>\n",
       "    <tr>\n",
       "      <th>PCA</th>\n",
       "      <td>30.14</td>\n",
       "      <td>31.56</td>\n",
       "      <td>32.56</td>\n",
       "      <td>32.49</td>\n",
       "    </tr>\n",
       "    <tr>\n",
       "      <th>ALGO</th>\n",
       "      <td>31.87</td>\n",
       "      <td>35.39</td>\n",
       "      <td>37.26</td>\n",
       "      <td>37.14</td>\n",
       "    </tr>\n",
       "    <tr>\n",
       "      <th>PCA-PPA</th>\n",
       "      <td>31.66</td>\n",
       "      <td>33.47</td>\n",
       "      <td>35.08</td>\n",
       "      <td>35.15</td>\n",
       "    </tr>\n",
       "    <tr>\n",
       "      <th>PPA-PCA</th>\n",
       "      <td>31.16</td>\n",
       "      <td>34.16</td>\n",
       "      <td>35.10</td>\n",
       "      <td>35.14</td>\n",
       "    </tr>\n",
       "    <tr>\n",
       "      <th>Glove</th>\n",
       "      <td>31.10</td>\n",
       "      <td>31.71</td>\n",
       "      <td>32.16</td>\n",
       "      <td>32.60</td>\n",
       "    </tr>\n",
       "  </tbody>\n",
       "</table>\n",
       "</div>"
      ],
      "text/plain": [
       "           50     100    150    200\n",
       "PCA      30.14  31.56  32.56  32.49\n",
       "ALGO     31.87  35.39  37.26  37.14\n",
       "PCA-PPA  31.66  33.47  35.08  35.15\n",
       "PPA-PCA  31.16  34.16  35.10  35.14\n",
       "Glove    31.10  31.71  32.16  32.60"
      ]
     },
     "metadata": {},
     "output_type": "display_data"
    },
    {
     "data": {
      "image/png": "[encoded data removed]",
      "text/plain": [
       "<Figure size 432x288 with 1 Axes>"
      ]
     },
     "metadata": {
      "needs_background": "light"
     },
     "output_type": "display_data"
    }
   ],
   "source": [
    "# STS-12\n",
    "dim = [50, 100, 150, 200]\n",
    "data = {'PCA':[30.14, 31.56, 32.56, 32.49],\n",
    "        'ALGO':[31.87, 35.39, 37.26, 37.14],\n",
    "        'PCA-PPA':[31.66, 33.47, 35.08, 35.15],\n",
    "        'PPA-PCA':[31.16, 34.16, 35.10, 35.14],\n",
    "        'Glove':[31.10, 31.71, 32.16, 32.60]}\n",
    "\n",
    "df = pd.DataFrame(data).T\n",
    "df.columns = dim\n",
    "display(df)\n",
    "plt.title(\"STS-12\")\n",
    "plt.plot(df.iloc[0], c='r', label='PCA')\n",
    "plt.plot(df.iloc[1], c='b', label='ALGO')\n",
    "plt.plot(df.iloc[2], c='k', label='P-PPA')\n",
    "plt.plot(df.iloc[3], c='g', label='PCA-P')\n",
    "plt.plot(df.iloc[4], label='Glove')\n",
    "plt.legend()\n",
    "plt.xticks(dim)\n",
    "plt.show()"
   ]
  },
  {
   "cell_type": "code",
   "execution_count": 51,
   "metadata": {},
   "outputs": [
    {
     "data": {
      "text/html": [
       "<div>\n",
       "<style scoped>\n",
       "    .dataframe tbody tr th:only-of-type {\n",
       "        vertical-align: middle;\n",
       "    }\n",
       "\n",
       "    .dataframe tbody tr th {\n",
       "        vertical-align: top;\n",
       "    }\n",
       "\n",
       "    .dataframe thead th {\n",
       "        text-align: right;\n",
       "    }\n",
       "</style>\n",
       "<table border=\"1\" class=\"dataframe\">\n",
       "  <thead>\n",
       "    <tr style=\"text-align: right;\">\n",
       "      <th></th>\n",
       "      <th>50</th>\n",
       "      <th>100</th>\n",
       "      <th>150</th>\n",
       "      <th>200</th>\n",
       "    </tr>\n",
       "  </thead>\n",
       "  <tbody>\n",
       "    <tr>\n",
       "      <th>PCA</th>\n",
       "      <td>26.16</td>\n",
       "      <td>28.58</td>\n",
       "      <td>30.22</td>\n",
       "      <td>30.39</td>\n",
       "    </tr>\n",
       "    <tr>\n",
       "      <th>ALGO</th>\n",
       "      <td>34.16</td>\n",
       "      <td>36.95</td>\n",
       "      <td>37.59</td>\n",
       "      <td>39.55</td>\n",
       "    </tr>\n",
       "    <tr>\n",
       "      <th>PCA-PPA</th>\n",
       "      <td>27.83</td>\n",
       "      <td>32.26</td>\n",
       "      <td>35.28</td>\n",
       "      <td>35.54</td>\n",
       "    </tr>\n",
       "    <tr>\n",
       "      <th>PPA-PCA</th>\n",
       "      <td>29.12</td>\n",
       "      <td>32.81</td>\n",
       "      <td>35.47</td>\n",
       "      <td>35.54</td>\n",
       "    </tr>\n",
       "    <tr>\n",
       "      <th>Glove</th>\n",
       "      <td>30.43</td>\n",
       "      <td>29.92</td>\n",
       "      <td>30.33</td>\n",
       "      <td>30.73</td>\n",
       "    </tr>\n",
       "  </tbody>\n",
       "</table>\n",
       "</div>"
      ],
      "text/plain": [
       "           50     100    150    200\n",
       "PCA      26.16  28.58  30.22  30.39\n",
       "ALGO     34.16  36.95  37.59  39.55\n",
       "PCA-PPA  27.83  32.26  35.28  35.54\n",
       "PPA-PCA  29.12  32.81  35.47  35.54\n",
       "Glove    30.43  29.92  30.33  30.73"
      ]
     },
     "metadata": {},
     "output_type": "display_data"
    },
    {
     "data": {
      "image/png": "[encoded data removed]",
      "text/plain": [
       "<Figure size 432x288 with 1 Axes>"
      ]
     },
     "metadata": {
      "needs_background": "light"
     },
     "output_type": "display_data"
    }
   ],
   "source": [
    "# STS-13\n",
    "dim = [50, 100, 150, 200]\n",
    "data = {'PCA':[26.16, 28.58, 30.22, 30.39],\n",
    "        'ALGO':[34.16, 36.95, 37.59, 39.55],\n",
    "        'PCA-PPA':[27.83, 32.26, 35.28, 35.54],\n",
    "        'PPA-PCA':[29.12, 32.81, 35.47, 35.54],\n",
    "        'Glove':[30.43, 29.92, 30.33, 30.73]}\n",
    "\n",
    "df = pd.DataFrame(data).T\n",
    "df.columns = dim\n",
    "display(df)\n",
    "plt.title(\"STS-13\")\n",
    "plt.plot(df.iloc[0], c='r', label='PCA')\n",
    "plt.plot(df.iloc[1], c='b', label='ALGO')\n",
    "plt.plot(df.iloc[2], c='k', label='P-PPA')\n",
    "plt.plot(df.iloc[3], c='g', label='PCA-P')\n",
    "plt.plot(df.iloc[4], label='Glove')\n",
    "plt.legend()\n",
    "plt.xticks(dim)\n",
    "plt.show()"
   ]
  },
  {
   "cell_type": "code",
   "execution_count": 52,
   "metadata": {},
   "outputs": [
    {
     "data": {
      "text/html": [
       "<div>\n",
       "<style scoped>\n",
       "    .dataframe tbody tr th:only-of-type {\n",
       "        vertical-align: middle;\n",
       "    }\n",
       "\n",
       "    .dataframe tbody tr th {\n",
       "        vertical-align: top;\n",
       "    }\n",
       "\n",
       "    .dataframe thead th {\n",
       "        text-align: right;\n",
       "    }\n",
       "</style>\n",
       "<table border=\"1\" class=\"dataframe\">\n",
       "  <thead>\n",
       "    <tr style=\"text-align: right;\">\n",
       "      <th></th>\n",
       "      <th>50</th>\n",
       "      <th>100</th>\n",
       "      <th>150</th>\n",
       "      <th>200</th>\n",
       "    </tr>\n",
       "  </thead>\n",
       "  <tbody>\n",
       "    <tr>\n",
       "      <th>PCA</th>\n",
       "      <td>33.14</td>\n",
       "      <td>35.14</td>\n",
       "      <td>36.55</td>\n",
       "      <td>36.70</td>\n",
       "    </tr>\n",
       "    <tr>\n",
       "      <th>ALGO</th>\n",
       "      <td>41.96</td>\n",
       "      <td>44.48</td>\n",
       "      <td>44.96</td>\n",
       "      <td>45.47</td>\n",
       "    </tr>\n",
       "    <tr>\n",
       "      <th>PCA-PPA</th>\n",
       "      <td>37.28</td>\n",
       "      <td>40.92</td>\n",
       "      <td>42.85</td>\n",
       "      <td>42.95</td>\n",
       "    </tr>\n",
       "    <tr>\n",
       "      <th>PPA-PCA</th>\n",
       "      <td>38.65</td>\n",
       "      <td>41.29</td>\n",
       "      <td>42.88</td>\n",
       "      <td>42.88</td>\n",
       "    </tr>\n",
       "    <tr>\n",
       "      <th>Glove</th>\n",
       "      <td>34.83</td>\n",
       "      <td>35.25</td>\n",
       "      <td>36.09</td>\n",
       "      <td>36.93</td>\n",
       "    </tr>\n",
       "  </tbody>\n",
       "</table>\n",
       "</div>"
      ],
      "text/plain": [
       "           50     100    150    200\n",
       "PCA      33.14  35.14  36.55  36.70\n",
       "ALGO     41.96  44.48  44.96  45.47\n",
       "PCA-PPA  37.28  40.92  42.85  42.95\n",
       "PPA-PCA  38.65  41.29  42.88  42.88\n",
       "Glove    34.83  35.25  36.09  36.93"
      ]
     },
     "metadata": {},
     "output_type": "display_data"
    },
    {
     "data": {
      "image/png": "[encoded data removed]",
      "text/plain": [
       "<Figure size 432x288 with 1 Axes>"
      ]
     },
     "metadata": {
      "needs_background": "light"
     },
     "output_type": "display_data"
    }
   ],
   "source": [
    "# STS-14\n",
    "dim = [50, 100, 150, 200]\n",
    "data = {'PCA':[33.14, 35.14, 36.55, 36.70],\n",
    "        'ALGO':[41.96, 44.48, 44.96, 45.47],\n",
    "        'PCA-PPA':[37.28, 40.92, 42.85, 42.95],\n",
    "        'PPA-PCA':[38.65, 41.29, 42.88, 42.88],\n",
    "        'Glove':[34.83, 35.25, 36.09, 36.93]}\n",
    "\n",
    "df = pd.DataFrame(data).T\n",
    "df.columns = dim\n",
    "display(df)\n",
    "plt.title(\"STS-14\")\n",
    "plt.plot(df.iloc[0], c='r', label='PCA')\n",
    "plt.plot(df.iloc[1], c='b', label='ALGO')\n",
    "plt.plot(df.iloc[2], c='k', label='P-PPA')\n",
    "plt.plot(df.iloc[3], c='g', label='PCA-P')\n",
    "plt.plot(df.iloc[4], label='Glove')\n",
    "plt.legend()\n",
    "plt.xticks(dim)\n",
    "plt.show()"
   ]
  },
  {
   "cell_type": "code",
   "execution_count": 53,
   "metadata": {},
   "outputs": [
    {
     "data": {
      "text/html": [
       "<div>\n",
       "<style scoped>\n",
       "    .dataframe tbody tr th:only-of-type {\n",
       "        vertical-align: middle;\n",
       "    }\n",
       "\n",
       "    .dataframe tbody tr th {\n",
       "        vertical-align: top;\n",
       "    }\n",
       "\n",
       "    .dataframe thead th {\n",
       "        text-align: right;\n",
       "    }\n",
       "</style>\n",
       "<table border=\"1\" class=\"dataframe\">\n",
       "  <thead>\n",
       "    <tr style=\"text-align: right;\">\n",
       "      <th></th>\n",
       "      <th>50</th>\n",
       "      <th>100</th>\n",
       "      <th>150</th>\n",
       "      <th>200</th>\n",
       "    </tr>\n",
       "  </thead>\n",
       "  <tbody>\n",
       "    <tr>\n",
       "      <th>PCA</th>\n",
       "      <td>34.41</td>\n",
       "      <td>37.58</td>\n",
       "      <td>39.21</td>\n",
       "      <td>39.20</td>\n",
       "    </tr>\n",
       "    <tr>\n",
       "      <th>ALGO</th>\n",
       "      <td>41.92</td>\n",
       "      <td>48.16</td>\n",
       "      <td>49.11</td>\n",
       "      <td>49.78</td>\n",
       "    </tr>\n",
       "    <tr>\n",
       "      <th>PCA-PPA</th>\n",
       "      <td>39.53</td>\n",
       "      <td>43.88</td>\n",
       "      <td>46.20</td>\n",
       "      <td>46.24</td>\n",
       "    </tr>\n",
       "    <tr>\n",
       "      <th>PPA-PCA</th>\n",
       "      <td>39.97</td>\n",
       "      <td>44.04</td>\n",
       "      <td>46.25</td>\n",
       "      <td>46.23</td>\n",
       "    </tr>\n",
       "    <tr>\n",
       "      <th>Glove</th>\n",
       "      <td>36.50</td>\n",
       "      <td>37.37</td>\n",
       "      <td>38.33</td>\n",
       "      <td>39.28</td>\n",
       "    </tr>\n",
       "  </tbody>\n",
       "</table>\n",
       "</div>"
      ],
      "text/plain": [
       "           50     100    150    200\n",
       "PCA      34.41  37.58  39.21  39.20\n",
       "ALGO     41.92  48.16  49.11  49.78\n",
       "PCA-PPA  39.53  43.88  46.20  46.24\n",
       "PPA-PCA  39.97  44.04  46.25  46.23\n",
       "Glove    36.50  37.37  38.33  39.28"
      ]
     },
     "metadata": {},
     "output_type": "display_data"
    },
    {
     "data": {
      "image/png": "[encoded data removed]",
      "text/plain": [
       "<Figure size 432x288 with 1 Axes>"
      ]
     },
     "metadata": {
      "needs_background": "light"
     },
     "output_type": "display_data"
    }
   ],
   "source": [
    "# STS-15\n",
    "dim = [50, 100, 150, 200]\n",
    "data = {'PCA':[34.41, 37.58, 39.21, 39.20],\n",
    "        'ALGO':[41.92, 48.16, 49.11, 49.78],\n",
    "        'PCA-PPA':[39.53, 43.88, 46.20, 46.24],\n",
    "        'PPA-PCA':[39.97, 44.04, 46.25, 46.23],\n",
    "        'Glove':[36.50, 37.37, 38.33, 39.28]}\n",
    "\n",
    "df = pd.DataFrame(data).T\n",
    "df.columns = dim\n",
    "display(df)\n",
    "plt.title(\"STS-15\")\n",
    "plt.plot(df.iloc[0], c='r', label='PCA')\n",
    "plt.plot(df.iloc[1], c='b', label='ALGO')\n",
    "plt.plot(df.iloc[2], c='k', label='P-PPA')\n",
    "plt.plot(df.iloc[3], c='g', label='PCA-P')\n",
    "plt.plot(df.iloc[4], label='Glove')\n",
    "plt.legend()\n",
    "plt.xticks(dim)\n",
    "plt.show()"
   ]
  },
  {
   "cell_type": "code",
   "execution_count": 54,
   "metadata": {},
   "outputs": [
    {
     "data": {
      "text/html": [
       "<div>\n",
       "<style scoped>\n",
       "    .dataframe tbody tr th:only-of-type {\n",
       "        vertical-align: middle;\n",
       "    }\n",
       "\n",
       "    .dataframe tbody tr th {\n",
       "        vertical-align: top;\n",
       "    }\n",
       "\n",
       "    .dataframe thead th {\n",
       "        text-align: right;\n",
       "    }\n",
       "</style>\n",
       "<table border=\"1\" class=\"dataframe\">\n",
       "  <thead>\n",
       "    <tr style=\"text-align: right;\">\n",
       "      <th></th>\n",
       "      <th>50</th>\n",
       "      <th>100</th>\n",
       "      <th>150</th>\n",
       "      <th>200</th>\n",
       "    </tr>\n",
       "  </thead>\n",
       "  <tbody>\n",
       "    <tr>\n",
       "      <th>PCA</th>\n",
       "      <td>30.96</td>\n",
       "      <td>33.22</td>\n",
       "      <td>34.64</td>\n",
       "      <td>34.70</td>\n",
       "    </tr>\n",
       "    <tr>\n",
       "      <th>ALGO</th>\n",
       "      <td>37.48</td>\n",
       "      <td>41.25</td>\n",
       "      <td>42.23</td>\n",
       "      <td>42.99</td>\n",
       "    </tr>\n",
       "    <tr>\n",
       "      <th>PCA-PPA</th>\n",
       "      <td>34.08</td>\n",
       "      <td>37.63</td>\n",
       "      <td>39.85</td>\n",
       "      <td>39.97</td>\n",
       "    </tr>\n",
       "    <tr>\n",
       "      <th>PPA-PCA</th>\n",
       "      <td>34.73</td>\n",
       "      <td>38.08</td>\n",
       "      <td>39.93</td>\n",
       "      <td>39.95</td>\n",
       "    </tr>\n",
       "    <tr>\n",
       "      <th>Glove</th>\n",
       "      <td>33.22</td>\n",
       "      <td>33.56</td>\n",
       "      <td>34.23</td>\n",
       "      <td>34.90</td>\n",
       "    </tr>\n",
       "  </tbody>\n",
       "</table>\n",
       "</div>"
      ],
      "text/plain": [
       "           50     100    150    200\n",
       "PCA      30.96  33.22  34.64  34.70\n",
       "ALGO     37.48  41.25  42.23  42.99\n",
       "PCA-PPA  34.08  37.63  39.85  39.97\n",
       "PPA-PCA  34.73  38.08  39.93  39.95\n",
       "Glove    33.22  33.56  34.23  34.90"
      ]
     },
     "metadata": {},
     "output_type": "display_data"
    },
    {
     "data": {
      "image/png": "[encoded data removed]",
      "text/plain": [
       "<Figure size 432x288 with 1 Axes>"
      ]
     },
     "metadata": {
      "needs_background": "light"
     },
     "output_type": "display_data"
    }
   ],
   "source": [
    "# STS-AVG\n",
    "dim = [50, 100, 150, 200]\n",
    "data = {'PCA':[30.96, 33.22, 34.64, 34.70],\n",
    "        'ALGO':[37.48, 41.25, 42.23, 42.99],\n",
    "        'PCA-PPA':[34.08, 37.63, 39.85, 39.97],\n",
    "        'PPA-PCA':[34.73, 38.08, 39.93, 39.95],\n",
    "        'Glove':[33.22, 33.56, 34.23, 34.90]}\n",
    "\n",
    "df = pd.DataFrame(data).T\n",
    "df.columns = dim\n",
    "display(df)\n",
    "plt.title(\"STS-AVG\")\n",
    "plt.plot(df.iloc[0], c='r', label='PCA')\n",
    "plt.plot(df.iloc[1], c='b', label='ALGO')\n",
    "plt.plot(df.iloc[2], c='k', label='P-PPA')\n",
    "plt.plot(df.iloc[3], c='g', label='PCA-P')\n",
    "plt.plot(df.iloc[4], label='Glove')\n",
    "plt.legend()\n",
    "plt.xticks(dim)\n",
    "plt.show()"
   ]
  },
  {
   "cell_type": "markdown",
   "metadata": {},
   "source": [
    "### Conclusions \n",
    "\n",
    "Empirical results show that **ALGO** method is effective in constructing lower dimensions word embeddings, having similar or (more often) better performance than the original embeddings. This could allow the use of word embeddings in memory-constrained environments."
   ]
  }
 ],
 "metadata": {
  "hide_input": false,
  "kernelspec": {
   "display_name": "Python 3",
   "language": "python",
   "name": "python3"
  },
  "language_info": {
   "codemirror_mode": {
    "name": "ipython",
    "version": 3
   },
   "file_extension": ".py",
   "mimetype": "text/x-python",
   "name": "python",
   "nbconvert_exporter": "python",
   "pygments_lexer": "ipython3",
   "version": "3.7.6"
  },
  "toc": {
   "base_numbering": 1,
   "nav_menu": {},
   "number_sections": true,
   "sideBar": true,
   "skip_h1_title": false,
   "title_cell": "Table of Contents",
   "title_sidebar": "Contents",
   "toc_cell": false,
   "toc_position": {},
   "toc_section_display": true,
   "toc_window_display": false
  }
 },
 "nbformat": 4,
 "nbformat_minor": 4
}
